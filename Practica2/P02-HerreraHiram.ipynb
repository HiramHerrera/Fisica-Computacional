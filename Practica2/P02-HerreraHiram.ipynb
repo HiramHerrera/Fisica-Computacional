{
 "cells": [
  {
   "cell_type": "markdown",
   "metadata": {},
   "source": [
    "# Física computacional"
   ]
  },
  {
   "cell_type": "markdown",
   "metadata": {},
   "source": [
    "## Práctica 2. Python para físicos (continuación)"
   ]
  },
  {
   "cell_type": "markdown",
   "metadata": {},
   "source": [
    "En esta práctica haremos uso de las principales herramientas del lenguaje Python."
   ]
  },
  {
   "cell_type": "markdown",
   "metadata": {},
   "source": [
    "Procedimiento. Abra este archivo [Practi-02.ipynb] con Jupyter. Una vez que esté leyendo esto en Jupyter, realice los ejercicios  propuestos. "
   ]
  },
  {
   "cell_type": "markdown",
   "metadata": {},
   "source": [
    "## 1. Introducción"
   ]
  },
  {
   "cell_type": "markdown",
   "metadata": {},
   "source": [
    "### 1.-Programas fuera de Jupyter"
   ]
  },
  {
   "cell_type": "markdown",
   "metadata": {},
   "source": [
    "Hasta el momento solo hemos hecho códigos en Jupyter, sin embargo se puede escribir códigos en cualquier editor de texto. Escribamos nuestro primer programa fuera de Jupyter. Los programadores del lenguaje C, Kernighan and Ritchie, recomiendan que el primer programa que uno debe escribir en cualquier lenguaje de programación es uno que imprima 'Hola Mundo'. Escriba el programa hello y muestre que funciona copiando la salida de pantalla [PrtnScrn] (el programa debe imprimir el mensaje y esperar una tecla del usuario). Copie la imagen en este cuaderno, este video muestra cómo https://www.youtube.com/watch?v=xlD8FIM5biA"
   ]
  },
  {
   "cell_type": "markdown",
   "metadata": {},
   "source": [
    "![HelloWorld](helloworld.png)"
   ]
  },
  {
   "cell_type": "markdown",
   "metadata": {},
   "source": [
    "### 2.- Repaso y uso de listas"
   ]
  },
  {
   "cell_type": "markdown",
   "metadata": {},
   "source": [
    "Las listas son una colección de objetos para definirlas se usa parentesis cuadrados y comas para separar los objetos. Ejemplos:"
   ]
  },
  {
   "cell_type": "raw",
   "metadata": {},
   "source": [
    "a = [66.25, 333, 333, 1, 1234.5]\n",
    "lista1 = ['fisica', 'quimica', 1997, 2000];\n",
    "lista2 = [1, 2, 3, 4, 5 ];\n",
    "lista3 = [\"a\", \"b\", \"c\", \"d\"]"
   ]
  },
  {
   "cell_type": "markdown",
   "metadata": {},
   "source": [
    "Escriba un código que genere una lista con que contenga todos los numeros exactamente divisibles entre 3 del intervalo que va del 1 al 500. Para esto averigue como se usa la función 'append'. Nota para generar una lista vacía se usa,"
   ]
  },
  {
   "cell_type": "markdown",
   "metadata": {},
   "source": [
    "lista=[]"
   ]
  },
  {
   "cell_type": "code",
   "execution_count": 1,
   "metadata": {},
   "outputs": [],
   "source": [
    "import numpy as np"
   ]
  },
  {
   "cell_type": "code",
   "execution_count": 2,
   "metadata": {},
   "outputs": [],
   "source": [
    "np.append?\n"
   ]
  },
  {
   "cell_type": "code",
   "execution_count": 3,
   "metadata": {},
   "outputs": [
    {
     "name": "stdout",
     "output_type": "stream",
     "text": [
      "[   3.    6.    9.   12.   15.   18.   21.   24.   27.   30.   33.   36.\n",
      "   39.   42.   45.   48.   51.   54.   57.   60.   63.   66.   69.   72.\n",
      "   75.   78.   81.   84.   87.   90.   93.   96.   99.  102.  105.  108.\n",
      "  111.  114.  117.  120.  123.  126.  129.  132.  135.  138.  141.  144.\n",
      "  147.  150.  153.  156.  159.  162.  165.  168.  171.  174.  177.  180.\n",
      "  183.  186.  189.  192.  195.  198.  201.  204.  207.  210.  213.  216.\n",
      "  219.  222.  225.  228.  231.  234.  237.  240.  243.  246.  249.  252.\n",
      "  255.  258.  261.  264.  267.  270.  273.  276.  279.  282.  285.  288.\n",
      "  291.  294.  297.  300.  303.  306.  309.  312.  315.  318.  321.  324.\n",
      "  327.  330.  333.  336.  339.  342.  345.  348.  351.  354.  357.  360.\n",
      "  363.  366.  369.  372.  375.  378.  381.  384.  387.  390.  393.  396.\n",
      "  399.  402.  405.  408.  411.  414.  417.  420.  423.  426.  429.  432.\n",
      "  435.  438.  441.  444.  447.  450.  453.  456.  459.  462.  465.  468.\n",
      "  471.  474.  477.  480.  483.  486.  489.  492.  495.  498.]\n"
     ]
    }
   ],
   "source": [
    "lista = []\n",
    "for i in range(1,501):\n",
    "    if i%3==0:\n",
    "        lista = np.append(lista,i)\n",
    "print(lista)"
   ]
  },
  {
   "cell_type": "markdown",
   "metadata": {},
   "source": [
    "Para accesar los valores de una lista se usa la siguiente sintaxis"
   ]
  },
  {
   "cell_type": "raw",
   "metadata": {},
   "source": [
    "lista1[0]:  fisica\n",
    "lista2[1:5]:  [2, 3, 4, 5]"
   ]
  },
  {
   "cell_type": "markdown",
   "metadata": {},
   "source": [
    "Note que el primer elemento se etiquita como elemento 0."
   ]
  },
  {
   "cell_type": "markdown",
   "metadata": {},
   "source": [
    "Existen otras funciones usuales para las listas, averigue como funcionan y para qué sirven cada una de las siguientes y escriba en cada cuadro su respuesta."
   ]
  },
  {
   "cell_type": "raw",
   "metadata": {},
   "source": [
    "extend, insert, remove, pop, index, count, sort, reverse"
   ]
  },
  {
   "cell_type": "code",
   "execution_count": 4,
   "metadata": {},
   "outputs": [],
   "source": [
    "list.extend?"
   ]
  },
  {
   "cell_type": "markdown",
   "metadata": {},
   "source": [
    "Extend no existe en numpy, existe en la libreria list, concatena la lista creada con otra lista o iterable."
   ]
  },
  {
   "cell_type": "code",
   "execution_count": 5,
   "metadata": {},
   "outputs": [],
   "source": [
    "np.insert?"
   ]
  },
  {
   "cell_type": "markdown",
   "metadata": {},
   "source": [
    "Inserta un valor o valores a un eje dado de un arreglo, se escribe np.insert(arreglo,objeto,valor) y se puede especificar axis = 1,..., opcionalmente si se quiere asignar un eje, en el argumento de arreglo se escribe el arreglo al cual se le quiere agregar el valor, en objeto se pone un número entero que indique en que posición del arreglo se va a agregar el valor y en valor se escribe el número o variable a agregar en la lista."
   ]
  },
  {
   "cell_type": "code",
   "execution_count": 6,
   "metadata": {},
   "outputs": [],
   "source": [
    "list.remove?"
   ]
  },
  {
   "cell_type": "markdown",
   "metadata": {},
   "source": [
    "Remueve el primer elemento de la lista cuyo valor sea el del argumento de la función, regresa error si no existe dicho valor."
   ]
  },
  {
   "cell_type": "code",
   "execution_count": 7,
   "metadata": {},
   "outputs": [],
   "source": [
    "list.pop?"
   ]
  },
  {
   "cell_type": "markdown",
   "metadata": {},
   "source": [
    "Remueve un elemento en una posición dada en una lista y lo imprime en pantalla, si no se le da un argumento se elimina e imprime el último elemento de la lista."
   ]
  },
  {
   "cell_type": "code",
   "execution_count": 8,
   "metadata": {},
   "outputs": [],
   "source": [
    "list.index?"
   ]
  },
  {
   "cell_type": "markdown",
   "metadata": {},
   "source": [
    "Imprime el primer indice de un valor en una lista, si el valor no existe regresa error."
   ]
  },
  {
   "cell_type": "code",
   "execution_count": 9,
   "metadata": {},
   "outputs": [],
   "source": [
    "list.count?"
   ]
  },
  {
   "cell_type": "markdown",
   "metadata": {},
   "source": [
    "Retorna el número de veces que aparece un elemento en la lista."
   ]
  },
  {
   "cell_type": "code",
   "execution_count": 10,
   "metadata": {},
   "outputs": [],
   "source": [
    "list.sort?"
   ]
  },
  {
   "cell_type": "markdown",
   "metadata": {},
   "source": [
    "Acomoda los elementos de la lista en el orden que se le indique en el argumento, por ejemplo orden ascendente."
   ]
  },
  {
   "cell_type": "code",
   "execution_count": 11,
   "metadata": {},
   "outputs": [],
   "source": [
    "list.reverse?"
   ]
  },
  {
   "cell_type": "markdown",
   "metadata": {},
   "source": [
    "Invierte el orden de la lista."
   ]
  },
  {
   "cell_type": "markdown",
   "metadata": {},
   "source": [
    "Escriba un programa que pregunte el día de nacimiento de cada unos de sus compañeros (por nombre) y luego calcule la edad promedio del salón y la imprima (No debe preguntar su edad esa la puede poner como dato conocido). Use una 'lista' con los nombres de sus compañeros y un ciclo for."
   ]
  },
  {
   "cell_type": "code",
   "execution_count": 12,
   "metadata": {},
   "outputs": [],
   "source": [
    "def edad():\n",
    "    nombres=['Hiram','Jose','Osvaldo','Erik','Chayito','Natalia','Perla']\n",
    "    edadarr = []\n",
    "    diahoy,meshoy,yrhoy=6,2,2018\n",
    "    for i in nombres:\n",
    "        print('%s fecha de nacimiento:'%i)\n",
    "        dia = float(input('Dia:'))\n",
    "        mes = float(input('Mes:'))\n",
    "        yr = float(input('Año:'))\n",
    "        edad = yrhoy-yr\n",
    "        if mes>meshoy:\n",
    "            edad -= 1\n",
    "        elif (mes==meshoy and dia>diahoy):\n",
    "            edad -= 1\n",
    "        edadarr = np.append(edadarr,edad)\n",
    "    promedio = np.mean(edadarr)\n",
    "    print(edadarr)\n",
    "    print(promedio)\n",
    "    \n",
    "    "
   ]
  },
  {
   "cell_type": "code",
   "execution_count": 13,
   "metadata": {},
   "outputs": [
    {
     "name": "stdout",
     "output_type": "stream",
     "text": [
      "Hiram fecha de nacimiento:\n",
      "Dia:14\n",
      "Mes:11\n",
      "Año:1995\n",
      "Jose fecha de nacimiento:\n",
      "Dia:6\n",
      "Mes:1\n",
      "Año:1996\n",
      "Osvaldo fecha de nacimiento:\n",
      "Dia:12\n",
      "Mes:5\n",
      "Año:1996\n",
      "Erik fecha de nacimiento:\n",
      "Dia:19\n",
      "Mes:12\n",
      "Año:1995\n",
      "Chayito fecha de nacimiento:\n",
      "Dia:3\n",
      "Mes:10\n",
      "Año:1998\n",
      "Natalia fecha de nacimiento:\n",
      "Dia:20\n",
      "Mes:12\n",
      "Año:1997\n",
      "Perla fecha de nacimiento:\n",
      "Dia:19\n",
      "Mes:10\n",
      "Año:1997\n",
      "[ 22.  22.  21.  22.  19.  20.  20.]\n",
      "20.8571428571\n"
     ]
    }
   ],
   "source": [
    "edad()"
   ]
  },
  {
   "cell_type": "markdown",
   "metadata": {},
   "source": [
    "#### Nota sobre la función range"
   ]
  },
  {
   "cell_type": "markdown",
   "metadata": {},
   "source": [
    "Esta función genera una lista de números, que usualmente se usan para realizar iteraciones con 'for'. Algunas formas de usarlo incluyen las siguientes."
   ]
  },
  {
   "cell_type": "raw",
   "metadata": {},
   "source": [
    "range(stop)\n",
    "\n",
    "stop: Numnero de enteros a generar, comenzando desde cero. Ej. range(3) == [0, 1, 2].\n",
    "range([start], stop[, step])\n",
    "\n",
    "start: inicio de la secuencia.\n",
    "stop: Genere números hasta stop, sin incluirlo.\n",
    "step: salto.\n",
    "\n",
    "Note que:\n",
    "\n",
    "Todos los parámetros deben ser enteros.\n",
    "Todos los prámetros pueden ser positivos o negativos.\n",
    "range(0, 5) generates integers from 0 up to, but not including, 5.\n",
    "\n",
    "Importante: En python 2 hay una función llamada xrange(). Esta función es la que se usa en Python 3.x, y reemplaza a la original range(). ¿Cuál es la diferencia? En python 2 range() crea una lista en python 3 range() crea un iterador un obejtos de secuencia. "
   ]
  },
  {
   "cell_type": "markdown",
   "metadata": {},
   "source": [
    "Genere una secuencia usando range y verifique su tipo."
   ]
  },
  {
   "cell_type": "code",
   "execution_count": 14,
   "metadata": {},
   "outputs": [
    {
     "data": {
      "text/plain": [
       "range"
      ]
     },
     "execution_count": 14,
     "metadata": {},
     "output_type": "execute_result"
    }
   ],
   "source": [
    "x = range(10)\n",
    "type(x)"
   ]
  },
  {
   "cell_type": "markdown",
   "metadata": {},
   "source": [
    "### 3.- El paquete numpy"
   ]
  },
  {
   "cell_type": "markdown",
   "metadata": {},
   "source": [
    "En la práctica anterior exploramos los arreglos definidos con este paquete, usamos los objetos definidos con 'array'. Defina las siguientes variables:"
   ]
  },
  {
   "cell_type": "markdown",
   "metadata": {
    "collapsed": true
   },
   "source": [
    "![Matrices](P2-01.png)"
   ]
  },
  {
   "cell_type": "code",
   "execution_count": 15,
   "metadata": {},
   "outputs": [],
   "source": [
    "A = np.array([[1,2,-2,0],[2,4,-1,0],[-3,-6,12,2],[1,2,-2,-4]])\n",
    "b = np.array([[1],[-4],[-12],[-5]])\n",
    "D = np.array([[1,2],[4,3]])\n",
    "U = np.array([[1,-1],[1,2]])\n",
    "M = np.array([[0,2],[1,3]])"
   ]
  },
  {
   "cell_type": "markdown",
   "metadata": {},
   "source": [
    "Este modulo contiene sus propias funciones matemáticas, por ejemplo: absolute, linealg.norm, sqr, sin, cos, tan, arctan2, exp, log, log10, remainder, floor, ceil... Para usarlas usualmente se importa el modulo abreaviado y luego se usa la función así"
   ]
  },
  {
   "cell_type": "raw",
   "metadata": {},
   "source": [
    "import numpy as np\n",
    "np.sin(5.623)"
   ]
  },
  {
   "cell_type": "markdown",
   "metadata": {},
   "source": [
    "Las operaciones que se realizan sobre los arreglos se elemento a elemento, por ejemplo calcule"
   ]
  },
  {
   "cell_type": "raw",
   "metadata": {},
   "source": [
    "H = D * U"
   ]
  },
  {
   "cell_type": "code",
   "execution_count": 16,
   "metadata": {},
   "outputs": [
    {
     "name": "stdout",
     "output_type": "stream",
     "text": [
      "[[ 1 -2]\n",
      " [ 4  6]]\n"
     ]
    }
   ],
   "source": [
    "H = D*U\n",
    "print(H)"
   ]
  },
  {
   "cell_type": "markdown",
   "metadata": {},
   "source": [
    "¿Es la multiplicación usual el resultado? explique"
   ]
  },
  {
   "cell_type": "markdown",
   "metadata": {},
   "source": [
    "No, esta multiplicación es de elemento por elemento, es decir se multiplica el elemento i,j de la matriz D con el elemento i,j de la matriz U."
   ]
  },
  {
   "cell_type": "markdown",
   "metadata": {},
   "source": [
    "¿Qué se obtiene de la operación? Z= M**5"
   ]
  },
  {
   "cell_type": "code",
   "execution_count": 17,
   "metadata": {},
   "outputs": [
    {
     "name": "stdout",
     "output_type": "stream",
     "text": [
      "[[   0.   32.]\n",
      " [   1.  243.]]\n"
     ]
    }
   ],
   "source": [
    "Z = M**5.\n",
    "print(Z)"
   ]
  },
  {
   "cell_type": "markdown",
   "metadata": {},
   "source": [
    "Eleva cada elemento de la matriz M a la quinta potencia."
   ]
  },
  {
   "cell_type": "markdown",
   "metadata": {},
   "source": [
    "Escriba un program que pregunte los valores de dos vectores a y b y verifique si son ortogonales o no e imprima: 'Sí son ortogonales' o 'No son ortogonales' según sea el caso."
   ]
  },
  {
   "cell_type": "code",
   "execution_count": 18,
   "metadata": {},
   "outputs": [
    {
     "name": "stdout",
     "output_type": "stream",
     "text": [
      "Tamaño de los vectores: 3\n",
      "Elemento 0 de a: 1\n",
      "Elemento 0 de b: 0\n",
      "Elemento 1 de a: 0\n",
      "Elemento 1 de b: 1\n",
      "Elemento 2 de a: 2\n",
      "Elemento 2 de b: 3\n",
      "No son ortogonales\n"
     ]
    }
   ],
   "source": [
    "def ortogonal():\n",
    "    rango = int(input('Tamaño de los vectores: '))\n",
    "    a,b = np.zeros(rango),np.zeros(rango)\n",
    "    for i in range(rango):\n",
    "        a[i] = int(input('Elemento %d de a: '%i))\n",
    "        b[i] = int(input('Elemento %d de b: '%i))\n",
    "    if (a.dot(b)==0):\n",
    "        print('Si son ortogonales')\n",
    "    else:\n",
    "        print('No son ortogonales')\n",
    "ortogonal()\n",
    "    "
   ]
  },
  {
   "cell_type": "markdown",
   "metadata": {},
   "source": [
    "#### Numeros aleatorios"
   ]
  },
  {
   "cell_type": "markdown",
   "metadata": {},
   "source": [
    "Para crear números aleatorios existe un modulo en el paquete Numpy, llamado random. Las funciones que vamos a usar son:  'np.random.random' y 'np.random.normal' ¿Qué hace cada una de ellas? ¿Qué tienen de diferente?"
   ]
  },
  {
   "cell_type": "code",
   "execution_count": 19,
   "metadata": {},
   "outputs": [],
   "source": [
    "np.random.random?"
   ]
  },
  {
   "cell_type": "code",
   "execution_count": 20,
   "metadata": {},
   "outputs": [],
   "source": [
    "np.random.normal?"
   ]
  },
  {
   "cell_type": "raw",
   "metadata": {},
   "source": [
    "np.random.random da un número aleatorio en el intervalo [0,1), si se generan muchos puntos aleatorios con esta función se dará cuenta que estan distribuidos uniformemente, mientras que np.random.normal genera un número aleatorio entre 0 y 1 que sigue una distribución normal de probabilidad, en los argumentos se debe escribir el promedio y la varianza, si no se hace se toman como 0 y 1 respectivamente. En ambas funciones se puede escribir el tamaño del vector o matríz a generar, si no se especifica, éstas crean un solo número."
   ]
  },
  {
   "cell_type": "markdown",
   "metadata": {},
   "source": [
    "- Genere una matriz de 3x3 con números aleatorios que vayan de 0 a 1 con distribución uniforme."
   ]
  },
  {
   "cell_type": "code",
   "execution_count": 21,
   "metadata": {},
   "outputs": [
    {
     "name": "stdout",
     "output_type": "stream",
     "text": [
      "[[ 0.73888332  0.04989741  0.67264245]\n",
      " [ 0.07293723  0.10054912  0.070625  ]\n",
      " [ 0.09399042  0.67616433  0.91301572]]\n"
     ]
    }
   ],
   "source": [
    "A = np.random.random([3,3])\n",
    "print(A)"
   ]
  },
  {
   "cell_type": "markdown",
   "metadata": {},
   "source": [
    "- Genera un vector renglón llamado 'r100' de 100 elementos con valores aleatorios entre -1 y +1 con distribución uniforme."
   ]
  },
  {
   "cell_type": "code",
   "execution_count": 22,
   "metadata": {},
   "outputs": [
    {
     "name": "stdout",
     "output_type": "stream",
     "text": [
      "[[ 0.99856431 -0.80724121 -0.91199901 -0.71689389 -0.88393287  0.68108832\n",
      "  -0.28868125 -0.44197709  0.06781103  0.52202212 -0.21700922  0.73139695\n",
      "  -0.92132597  0.40653184  0.00235466  0.63113516 -0.8936772   0.11674601\n",
      "   0.32849104  0.20342015  0.96012092  0.90230869 -0.72798394 -0.94937211\n",
      "   0.81360404 -0.10771952 -0.11618256  0.9128655  -0.8946738  -0.1854048\n",
      "  -0.81670091  0.66710332 -0.66857739  0.33409345 -0.014142   -0.5640776\n",
      "  -0.88478934  0.41946533  0.26802145  0.81956666  0.88362579  0.70006867\n",
      "  -0.85132421  0.9009854   0.13143339 -0.17902612  0.84802652 -0.18569153\n",
      "   0.6551156  -0.9582554  -0.5857037  -0.29845048 -0.5181532   0.75321408\n",
      "  -0.10866677  0.4932872  -0.85108312  0.61884914  0.74277897  0.63095942\n",
      "   0.85222932  0.87448593 -0.57576774 -0.03132262 -0.49740571  0.02615023\n",
      "  -0.15909575 -0.67498095  0.34077244  0.20668287  0.02410178  0.64042922\n",
      "  -0.91146167 -0.2272202  -0.53285338  0.34195127  0.30004064  0.18114422\n",
      "  -0.23523916 -0.88613019 -0.71192861 -0.24743987 -0.15419609 -0.88690867\n",
      "   0.52610369  0.83162058  0.71177527 -0.12184013 -0.54917972 -0.79871988\n",
      "   0.62554491  0.04086913 -0.52961846  0.19098051 -0.98019393  0.11265184\n",
      "   0.75375439 -0.45506897  0.66399675 -0.45548642]]\n"
     ]
    }
   ],
   "source": [
    "r100 = (1+1)*np.random.random([1,100])-1\n",
    "print(r100)"
   ]
  },
  {
   "cell_type": "markdown",
   "metadata": {},
   "source": [
    "- genera un vector columna, 'c200' con 200 elementos con valores aleatorios entre -50 a 300 con distribución uniforme."
   ]
  },
  {
   "cell_type": "code",
   "execution_count": 23,
   "metadata": {},
   "outputs": [
    {
     "name": "stdout",
     "output_type": "stream",
     "text": [
      "[[  9.01531752e+01]\n",
      " [  8.44827837e+01]\n",
      " [ -4.34809031e+01]\n",
      " [  8.53806451e+01]\n",
      " [  1.72520135e+02]\n",
      " [ -2.23871722e+01]\n",
      " [ -2.32328464e+01]\n",
      " [  7.42931227e+01]\n",
      " [  2.33547153e+02]\n",
      " [  8.59639010e+01]\n",
      " [  1.62976208e+02]\n",
      " [  6.95758812e+01]\n",
      " [  2.04808100e+02]\n",
      " [  2.21304071e+02]\n",
      " [  1.11433267e+02]\n",
      " [  2.81899173e+02]\n",
      " [  2.51353622e+02]\n",
      " [  2.96098474e+02]\n",
      " [ -1.05695182e+01]\n",
      " [  9.39768451e+01]\n",
      " [  6.58275631e+01]\n",
      " [  1.63597062e+02]\n",
      " [  1.01567056e+02]\n",
      " [  1.80884277e+02]\n",
      " [  1.47557562e+02]\n",
      " [  1.99610581e+02]\n",
      " [  2.31454990e+02]\n",
      " [  1.47077863e+01]\n",
      " [  2.29413932e+02]\n",
      " [  1.96829653e+02]\n",
      " [ -9.14218934e+00]\n",
      " [  2.35775655e+02]\n",
      " [  1.36013226e+02]\n",
      " [  1.30524861e+02]\n",
      " [  1.43655810e+02]\n",
      " [  1.70335623e+01]\n",
      " [ -4.59073337e+01]\n",
      " [  2.59886754e+02]\n",
      " [  2.55983667e+02]\n",
      " [ -2.24546900e+01]\n",
      " [  1.85351622e+02]\n",
      " [  2.16891001e+02]\n",
      " [ -2.73584314e+01]\n",
      " [  2.86533250e+02]\n",
      " [  1.45106935e+02]\n",
      " [  2.85040860e+02]\n",
      " [  1.54230653e+02]\n",
      " [  2.65691264e+02]\n",
      " [  5.09175230e+01]\n",
      " [  3.52494976e+01]\n",
      " [  1.22432406e+02]\n",
      " [  1.22526575e+02]\n",
      " [  2.62998129e+02]\n",
      " [  1.49182929e+02]\n",
      " [  2.47014932e+02]\n",
      " [  2.37765562e+02]\n",
      " [  2.07751434e+02]\n",
      " [  1.34588805e+02]\n",
      " [ -7.31413575e+00]\n",
      " [  2.77841156e+02]\n",
      " [  3.63698696e+01]\n",
      " [  9.80174047e+01]\n",
      " [  1.87807300e+02]\n",
      " [  1.38172230e+02]\n",
      " [  1.35794635e+02]\n",
      " [  2.79991594e+02]\n",
      " [  2.51652643e+02]\n",
      " [  2.07871713e+02]\n",
      " [  4.70580266e+01]\n",
      " [  4.67710774e+01]\n",
      " [ -9.93725785e+00]\n",
      " [  2.76897155e+02]\n",
      " [  2.82812605e+02]\n",
      " [  8.52138027e+01]\n",
      " [  1.10521487e+02]\n",
      " [  7.44144875e+01]\n",
      " [  5.64433793e+01]\n",
      " [  1.57806255e+02]\n",
      " [  1.94545468e+02]\n",
      " [  2.56816601e+01]\n",
      " [ -4.91708332e+01]\n",
      " [  2.31725829e+02]\n",
      " [  2.42559119e+02]\n",
      " [  5.14759771e+01]\n",
      " [ -1.51173027e+01]\n",
      " [  2.40946882e+02]\n",
      " [ -9.44473130e+00]\n",
      " [  2.77714930e+02]\n",
      " [  2.47112947e+02]\n",
      " [  9.48171712e+01]\n",
      " [ -2.39627097e+01]\n",
      " [  2.45609474e+02]\n",
      " [  2.79896142e+02]\n",
      " [  2.00249911e+02]\n",
      " [  1.88270655e+02]\n",
      " [  3.46699075e+01]\n",
      " [  1.29068175e+02]\n",
      " [  1.71537534e+02]\n",
      " [  2.11426206e+02]\n",
      " [  2.87046258e+02]\n",
      " [ -3.03450087e-01]\n",
      " [  5.87578343e-02]\n",
      " [  2.33555141e+02]\n",
      " [  1.07894043e+02]\n",
      " [  2.92938747e+02]\n",
      " [  5.61361752e+01]\n",
      " [  5.10044149e+01]\n",
      " [  6.45929444e+01]\n",
      " [  2.32517937e+01]\n",
      " [  1.24650253e+02]\n",
      " [ -1.37128224e+01]\n",
      " [  1.26411328e+02]\n",
      " [  2.41600170e+02]\n",
      " [  6.38988340e+01]\n",
      " [  1.44296186e+00]\n",
      " [  1.60486669e+02]\n",
      " [  5.83244583e+01]\n",
      " [  2.75898531e+02]\n",
      " [  2.21117756e+02]\n",
      " [  2.12081055e+02]\n",
      " [  1.38764280e+02]\n",
      " [  1.60476703e+02]\n",
      " [  1.10933160e+02]\n",
      " [  1.02572231e+02]\n",
      " [ -4.37697726e+01]\n",
      " [  2.98840170e+02]\n",
      " [  1.91072715e+02]\n",
      " [ -3.81851286e+00]\n",
      " [  2.39361976e+02]\n",
      " [  2.63941534e+02]\n",
      " [  1.85801677e+02]\n",
      " [  1.60462569e+02]\n",
      " [  6.49566367e+01]\n",
      " [  1.26788316e+02]\n",
      " [  1.39625539e+02]\n",
      " [  2.29933259e+02]\n",
      " [  2.60921934e+02]\n",
      " [  1.44632888e+02]\n",
      " [ -2.01617224e+01]\n",
      " [  1.96768723e+02]\n",
      " [  1.97657801e+02]\n",
      " [  2.86028284e+02]\n",
      " [  1.95109768e+02]\n",
      " [ -3.25151334e+01]\n",
      " [  8.54735268e+01]\n",
      " [  1.47882983e+02]\n",
      " [  2.14340247e+02]\n",
      " [  2.26156159e+01]\n",
      " [  1.06549405e+02]\n",
      " [  1.03470285e+02]\n",
      " [  6.41250194e+01]\n",
      " [  8.24720910e+01]\n",
      " [  1.39187350e+02]\n",
      " [  2.15159485e+02]\n",
      " [  1.66717313e+02]\n",
      " [  1.68722648e+02]\n",
      " [  2.39194183e+02]\n",
      " [  1.56735171e+02]\n",
      " [  2.53235823e+02]\n",
      " [  1.59652077e+02]\n",
      " [ -3.16160210e+01]\n",
      " [  2.62064047e+02]\n",
      " [  1.35736024e+02]\n",
      " [  1.93562218e+02]\n",
      " [  2.47196444e+02]\n",
      " [  1.12037848e+02]\n",
      " [  2.61164097e+02]\n",
      " [  2.49847892e+02]\n",
      " [  2.85808448e+02]\n",
      " [  1.11394675e+02]\n",
      " [  1.64385028e+02]\n",
      " [  2.34426550e+02]\n",
      " [  9.76331256e+01]\n",
      " [  8.21020947e+00]\n",
      " [ -4.19863447e+01]\n",
      " [  9.38878540e+01]\n",
      " [ -3.84072214e+01]\n",
      " [  2.96011822e+02]\n",
      " [  1.95778760e+02]\n",
      " [  2.83583233e+02]\n",
      " [  1.37991669e+02]\n",
      " [ -3.79329912e+01]\n",
      " [  2.55727080e+02]\n",
      " [  2.68743016e+01]\n",
      " [ -1.17636153e-01]\n",
      " [ -3.40379977e+01]\n",
      " [ -6.11049563e+00]\n",
      " [  1.16133693e+02]\n",
      " [  2.13212588e+02]\n",
      " [  1.81885203e+02]\n",
      " [  2.84792002e+02]\n",
      " [  2.34302060e+02]\n",
      " [  2.52996264e+02]\n",
      " [  1.21346726e+02]\n",
      " [  1.92905078e+02]\n",
      " [  1.69903611e+02]\n",
      " [  1.85186274e+02]\n",
      " [  1.24835342e+01]\n",
      " [  1.14004668e+02]\n",
      " [  2.40985248e+02]]\n"
     ]
    }
   ],
   "source": [
    "B = (300+50)*np.random.random([200,1]) - 50\n",
    "print(B)"
   ]
  },
  {
   "cell_type": "markdown",
   "metadata": {},
   "source": [
    "- genera un vector renglón con 'r300' elementos con valores aletorios de distribución gaussiana centrada en 5 y con varianza 3. Luego calcula el promedio y la varianza de estos elementos y compara los resultados."
   ]
  },
  {
   "cell_type": "code",
   "execution_count": 24,
   "metadata": {},
   "outputs": [
    {
     "name": "stdout",
     "output_type": "stream",
     "text": [
      "[[  6.22316492   3.70815879   5.77469348   4.22080495   4.29783889\n",
      "    1.13832577   4.96223647  -0.6573736    4.21697586   7.43510911\n",
      "    5.36819878   3.35777887   6.30284941   2.42270408   3.06987212\n",
      "    3.56818223   7.46260603   1.25589013   5.60027294   5.66504335\n",
      "    6.29465156   4.26139178   4.95591874   4.27388352   3.21953845\n",
      "    0.5804946    4.11770371   2.83872843  11.37645733   1.76036994\n",
      "    6.86605431   7.97213735   7.7080481    8.12861534   4.29773579\n",
      "    8.04096293   6.34321264   5.07915436   4.81661967  -0.02449553\n",
      "    7.34707833  10.12321856   2.23726697   1.2844685    5.53323932\n",
      "    2.5309826    4.68397174   3.41395033   3.54943354   4.29581208\n",
      "   10.47296809  11.08768558   5.25116057  10.91599032   4.30025235\n",
      "    1.46893466   9.80163683   3.19315729  -3.30759046   4.92324027\n",
      "    5.71969778   2.84304439   4.50700668   6.32077449   0.02638491\n",
      "    9.74676988   7.2371278    2.8656308   11.95959741   2.92020096\n",
      "    3.3734355    3.91670495   3.8964694    6.22507321   5.20289019\n",
      "    5.32115026   5.65157636   7.42853435   4.25185794   4.61402895\n",
      "    4.46145578   4.08559499   6.90215012  -0.14736899   1.26961322\n",
      "    3.50202455   5.01140438   5.19536094   5.27280043  10.4824343\n",
      "    7.68958409   7.67146532   3.36186756   3.28090507   4.88545097\n",
      "    9.31186977   8.9286451    6.26709973   7.14800797  -0.90480295\n",
      "    7.25385995   0.2317661    2.09592678   4.75999095   5.11628161\n",
      "    5.99408468   2.16351618   3.2932379    2.75319706   8.92132876\n",
      "   13.25618244  -2.22234863   5.69863383   5.77570433   1.41452229\n",
      "    3.91575131   6.85418944  -0.02551358   1.82521672   1.00478015\n",
      "    4.02270248   0.71999264   9.07290354   1.39815102   0.86257497\n",
      "    8.96931418   0.98422712   4.19448991   2.71208185   4.08476917\n",
      "   10.21940709  -3.18924831   1.50413782   1.02727277   6.85583438\n",
      "   -0.01457607   7.28209231   2.50486115   7.22549885   2.07933036\n",
      "    3.20869442   6.56489089   5.54547925   4.03857352   2.39321262\n",
      "    0.45607523   8.03518933   6.44120413   4.46225568   8.2663974\n",
      "    5.14957269   6.0736751    7.59475983   6.15932578   5.34379274\n",
      "    2.20436619   1.34854543   7.15949968   4.32157928   5.42278372\n",
      "    9.37260772   5.4707213    7.76883889   4.72840512   5.9795223\n",
      "    6.65857022  -0.41562698   4.53010837   5.88852144   5.64184652\n",
      "    6.38477381   3.67303724   7.51036155   3.60441266  -0.58703096\n",
      "    5.33472454   3.27899141   4.30786893   3.42477421   4.52512987\n",
      "    4.61681024   7.32741583   5.12278704   6.27606998  10.68013669\n",
      "    6.35993743   4.33527541   4.33724958   3.76793035   6.47965837\n",
      "    2.80516808  -0.57206321   8.59075866   2.17396182   6.63355647\n",
      "    3.23297565   0.47940679   6.28430066   9.8996357    7.34977199\n",
      "    1.69070493   2.51592359  -2.09858309   6.71221114  -1.08040098\n",
      "    2.28641794   5.71718974   7.31247315  -0.87811218   6.1808084\n",
      "    9.49117635   4.2244203    5.34436778   4.72183018   6.62359341\n",
      "    9.66313573   8.42247669   4.13060295   1.91685075   4.80336945\n",
      "    6.45941964   3.9009352    6.5031816    9.11932102   6.26206569\n",
      "    4.15829968   3.07898926   5.48631809  12.90215221   5.3178433\n",
      "    2.91381836  -0.75421207   9.45670591   0.71686377   9.19849711\n",
      "    8.47051656   4.72986056   5.67729348   5.32265433   6.2766032\n",
      "    5.67892751   4.91627579   7.06028217   2.76220865   5.00138208\n",
      "    9.30435617   1.73171294  10.71730176   6.27902332   2.43141581\n",
      "    0.95276277   3.00891676   5.68019008   5.42100058  -1.42975623\n",
      "    0.74113153   6.99943313  -0.89392974   2.45190655  11.68090415\n",
      "    6.49544737   4.5571323    3.97762714   6.11886573   9.22164109\n",
      "    5.44478225   8.44355072   6.96133818   1.83418259   4.90822433\n",
      "   11.96893193   8.33460388   6.49446297   5.6619657    4.98594171\n",
      "    5.16972281  -1.23742083   6.01422619   2.16725276   5.62243822\n",
      "    4.62369009   2.25584881   6.04127559   8.08826319   6.04920819\n",
      "    0.87924785   8.20362394   6.67162436   6.15807446  14.16487954\n",
      "    7.16627588   4.91111029   9.14433103   6.43124733   4.54042138\n",
      "    2.14733182   5.85083741  -0.61683948   2.73438178   5.59103458]]\n"
     ]
    }
   ],
   "source": [
    "r300 = np.random.normal(5.,3., [1,300])\n",
    "print(r300)"
   ]
  },
  {
   "cell_type": "code",
   "execution_count": 25,
   "metadata": {},
   "outputs": [
    {
     "name": "stdout",
     "output_type": "stream",
     "text": [
      "4.90910668586\n",
      "3.03319022125\n"
     ]
    }
   ],
   "source": [
    "print(np.mean(r300))\n",
    "print(np.std(r300))"
   ]
  },
  {
   "cell_type": "markdown",
   "metadata": {},
   "source": [
    "Entre más elementos tengamos en el arreglo los valores de la media y la desviación se acercaran a los alor que especificamos en el random."
   ]
  },
  {
   "cell_type": "markdown",
   "metadata": {},
   "source": [
    "#### Matrices de ceros y vacias"
   ]
  },
  {
   "cell_type": "markdown",
   "metadata": {},
   "source": [
    "Algunas veces es necesario crear matrices de ceros o vacias, para estom se usan las funciones 'np.zeros' y 'np.empty'. Genere una matriz de ceros de 10x13 y una matriz vacia de 4x5."
   ]
  },
  {
   "cell_type": "code",
   "execution_count": 26,
   "metadata": {},
   "outputs": [
    {
     "name": "stdout",
     "output_type": "stream",
     "text": [
      "[[ 0.  0.  0.  0.  0.  0.  0.  0.  0.  0.  0.  0.  0.]\n",
      " [ 0.  0.  0.  0.  0.  0.  0.  0.  0.  0.  0.  0.  0.]\n",
      " [ 0.  0.  0.  0.  0.  0.  0.  0.  0.  0.  0.  0.  0.]\n",
      " [ 0.  0.  0.  0.  0.  0.  0.  0.  0.  0.  0.  0.  0.]\n",
      " [ 0.  0.  0.  0.  0.  0.  0.  0.  0.  0.  0.  0.  0.]\n",
      " [ 0.  0.  0.  0.  0.  0.  0.  0.  0.  0.  0.  0.  0.]\n",
      " [ 0.  0.  0.  0.  0.  0.  0.  0.  0.  0.  0.  0.  0.]\n",
      " [ 0.  0.  0.  0.  0.  0.  0.  0.  0.  0.  0.  0.  0.]\n",
      " [ 0.  0.  0.  0.  0.  0.  0.  0.  0.  0.  0.  0.  0.]\n",
      " [ 0.  0.  0.  0.  0.  0.  0.  0.  0.  0.  0.  0.  0.]]\n",
      "[[  3.   6.   9.  12.  15.]\n",
      " [ 18.  21.  24.  27.  30.]\n",
      " [ 33.  36.  39.  42.  45.]\n",
      " [ 48.  51.  54.  57.  60.]]\n"
     ]
    }
   ],
   "source": [
    "zeros = np.zeros([10,13])\n",
    "vacia = np.empty([4,5])\n",
    "\n",
    "print(zeros)\n",
    "print(vacia)"
   ]
  },
  {
   "cell_type": "markdown",
   "metadata": {},
   "source": [
    "#### Matrices desde archivos"
   ]
  },
  {
   "cell_type": "markdown",
   "metadata": {},
   "source": [
    "Se pueden leer matrices desde archivos usando 'loadtxt', con la siguiente sintaxis:"
   ]
  },
  {
   "cell_type": "raw",
   "metadata": {},
   "source": [
    "from numpy import loadtxt\n",
    "arreglo = loadtxt(\"archivo.ext\", tipo)"
   ]
  },
  {
   "cell_type": "markdown",
   "metadata": {},
   "source": [
    "Junto con la práctica se le dio un archivo llamado 'valores.txt'. Use la función loadtxt para leer su contenido y sacar el valor promedio. "
   ]
  },
  {
   "cell_type": "code",
   "execution_count": 29,
   "metadata": {},
   "outputs": [
    {
     "name": "stdout",
     "output_type": "stream",
     "text": [
      "190.668636364\n"
     ]
    }
   ],
   "source": [
    "arreglo = np.loadtxt('valores.txt', float)\n",
    "print(np.mean(arreglo))"
   ]
  },
  {
   "cell_type": "markdown",
   "metadata": {},
   "source": [
    "## 2.- Definición de funciones"
   ]
  },
  {
   "cell_type": "markdown",
   "metadata": {},
   "source": [
    "Se pueden definir funciones nuevas a través de la función 'def' y siguiendo las siguiente sintaxis:"
   ]
  },
  {
   "cell_type": "raw",
   "metadata": {},
   "source": [
    "def nombre-de-funcion( parametros ):\n",
    "   \"documentación\"\n",
    "   function_suite\n",
    "   return [expresion]"
   ]
  },
  {
   "cell_type": "markdown",
   "metadata": {},
   "source": [
    "Note que se usa el simbolo \\# para comentar. Por ejemplo está función calcula el factorial del entero n"
   ]
  },
  {
   "cell_type": "raw",
   "metadata": {},
   "source": [
    "def factorial(n):\n",
    "    \"Esta función calcula el factorial de n\"\n",
    "    f = 1.0\n",
    "    for k in range(1,n+1):\n",
    "        f *= k\n",
    "    return f"
   ]
  },
  {
   "cell_type": "markdown",
   "metadata": {},
   "source": [
    "Explique el funcionamiento de esta función, es decir describa que hace cada una de las sentencias. ¿Para qué cree que sirve la frase entre comillas?"
   ]
  },
  {
   "cell_type": "markdown",
   "metadata": {},
   "source": [
    "La función que se definió arriba regresa el factorial del número n que se le introduzca, primero se define un número f en 1 para iniciar la cuenta, después se genera un ciclo for que va de 1 hasta n que multiplica el f por el numero de la iteración obteniendo así el factorial del número, la frase en comillas sirve para describir lo que hace la función, así como especificar los parametros que lleva."
   ]
  },
  {
   "cell_type": "markdown",
   "metadata": {},
   "source": [
    "#### Ejercicios"
   ]
  },
  {
   "cell_type": "markdown",
   "metadata": {},
   "source": [
    "- Defina una función llamada fibonacci(n) que calcule el n-ésimo entero de la secuencia de fibonacci. Recuerde que la secuencia de Fibonacci se obtiene de sumar los dos enteros inmediatos anteriores partiendo de 1, 1."
   ]
  },
  {
   "cell_type": "code",
   "execution_count": 30,
   "metadata": {},
   "outputs": [
    {
     "data": {
      "text/plain": [
       "8"
      ]
     },
     "execution_count": 30,
     "metadata": {},
     "output_type": "execute_result"
    }
   ],
   "source": [
    "def fibonacci(n):\n",
    "    \"Esta función calcula el n-esimo enetero de la secuencia fibonacci\"\n",
    "    if n == 0: \n",
    "        return 1\n",
    "    elif n == 1: \n",
    "        return 1\n",
    "    else: \n",
    "        return fibonacci(n-1)+fibonacci(n-2)\n",
    "fibonacci(5)"
   ]
  },
  {
   "cell_type": "markdown",
   "metadata": {},
   "source": [
    "- Use la función anterior para crear un programa que imprima el primer millon de números de la secuencia de Fibonacci."
   ]
  },
  {
   "cell_type": "code",
   "execution_count": 28,
   "metadata": {},
   "outputs": [
    {
     "name": "stdout",
     "output_type": "stream",
     "text": [
      "1\n",
      "1\n",
      "2\n",
      "3\n",
      "5\n",
      "8\n",
      "13\n",
      "21\n",
      "34\n",
      "55\n",
      "89\n",
      "144\n",
      "233\n",
      "377\n",
      "610\n",
      "987\n",
      "1597\n",
      "2584\n",
      "4181\n",
      "6765\n",
      "10946\n",
      "17711\n",
      "28657\n",
      "46368\n",
      "75025\n",
      "121393\n",
      "196418\n",
      "317811\n",
      "514229\n",
      "832040\n",
      "1346269\n",
      "2178309\n",
      "3524578\n",
      "5702887\n",
      "9227465\n",
      "14930352\n",
      "24157817\n"
     ]
    },
    {
     "ename": "KeyboardInterrupt",
     "evalue": "",
     "output_type": "error",
     "traceback": [
      "\u001b[0;31m---------------------------------------------------------------------------\u001b[0m",
      "\u001b[0;31mKeyboardInterrupt\u001b[0m                         Traceback (most recent call last)",
      "\u001b[0;32m<ipython-input-28-a34efe7f9137>\u001b[0m in \u001b[0;36m<module>\u001b[0;34m()\u001b[0m\n\u001b[1;32m      1\u001b[0m \u001b[0;32mfor\u001b[0m \u001b[0mi\u001b[0m \u001b[0;32min\u001b[0m \u001b[0mrange\u001b[0m\u001b[0;34m(\u001b[0m\u001b[0;36m0\u001b[0m\u001b[0;34m,\u001b[0m\u001b[0;36m1000000\u001b[0m\u001b[0;34m)\u001b[0m\u001b[0;34m:\u001b[0m\u001b[0;34m\u001b[0m\u001b[0m\n\u001b[0;32m----> 2\u001b[0;31m     \u001b[0mprint\u001b[0m\u001b[0;34m(\u001b[0m\u001b[0mfibonacci\u001b[0m\u001b[0;34m(\u001b[0m\u001b[0mi\u001b[0m\u001b[0;34m)\u001b[0m\u001b[0;34m)\u001b[0m\u001b[0;34m\u001b[0m\u001b[0m\n\u001b[0m",
      "\u001b[0;32m<ipython-input-27-3919576b94db>\u001b[0m in \u001b[0;36mfibonacci\u001b[0;34m(n)\u001b[0m\n\u001b[1;32m      6\u001b[0m         \u001b[0;32mreturn\u001b[0m \u001b[0;36m1\u001b[0m\u001b[0;34m\u001b[0m\u001b[0m\n\u001b[1;32m      7\u001b[0m     \u001b[0;32melse\u001b[0m\u001b[0;34m:\u001b[0m\u001b[0;34m\u001b[0m\u001b[0m\n\u001b[0;32m----> 8\u001b[0;31m         \u001b[0;32mreturn\u001b[0m \u001b[0mfibonacci\u001b[0m\u001b[0;34m(\u001b[0m\u001b[0mn\u001b[0m\u001b[0;34m-\u001b[0m\u001b[0;36m1\u001b[0m\u001b[0;34m)\u001b[0m\u001b[0;34m+\u001b[0m\u001b[0mfibonacci\u001b[0m\u001b[0;34m(\u001b[0m\u001b[0mn\u001b[0m\u001b[0;34m-\u001b[0m\u001b[0;36m2\u001b[0m\u001b[0;34m)\u001b[0m\u001b[0;34m\u001b[0m\u001b[0m\n\u001b[0m\u001b[1;32m      9\u001b[0m \u001b[0mfibonacci\u001b[0m\u001b[0;34m(\u001b[0m\u001b[0;36m2\u001b[0m\u001b[0;34m)\u001b[0m\u001b[0;34m\u001b[0m\u001b[0m\n",
      "\u001b[0;32m<ipython-input-27-3919576b94db>\u001b[0m in \u001b[0;36mfibonacci\u001b[0;34m(n)\u001b[0m\n\u001b[1;32m      6\u001b[0m         \u001b[0;32mreturn\u001b[0m \u001b[0;36m1\u001b[0m\u001b[0;34m\u001b[0m\u001b[0m\n\u001b[1;32m      7\u001b[0m     \u001b[0;32melse\u001b[0m\u001b[0;34m:\u001b[0m\u001b[0;34m\u001b[0m\u001b[0m\n\u001b[0;32m----> 8\u001b[0;31m         \u001b[0;32mreturn\u001b[0m \u001b[0mfibonacci\u001b[0m\u001b[0;34m(\u001b[0m\u001b[0mn\u001b[0m\u001b[0;34m-\u001b[0m\u001b[0;36m1\u001b[0m\u001b[0;34m)\u001b[0m\u001b[0;34m+\u001b[0m\u001b[0mfibonacci\u001b[0m\u001b[0;34m(\u001b[0m\u001b[0mn\u001b[0m\u001b[0;34m-\u001b[0m\u001b[0;36m2\u001b[0m\u001b[0;34m)\u001b[0m\u001b[0;34m\u001b[0m\u001b[0m\n\u001b[0m\u001b[1;32m      9\u001b[0m \u001b[0mfibonacci\u001b[0m\u001b[0;34m(\u001b[0m\u001b[0;36m2\u001b[0m\u001b[0;34m)\u001b[0m\u001b[0;34m\u001b[0m\u001b[0m\n",
      "\u001b[0;32m<ipython-input-27-3919576b94db>\u001b[0m in \u001b[0;36mfibonacci\u001b[0;34m(n)\u001b[0m\n\u001b[1;32m      6\u001b[0m         \u001b[0;32mreturn\u001b[0m \u001b[0;36m1\u001b[0m\u001b[0;34m\u001b[0m\u001b[0m\n\u001b[1;32m      7\u001b[0m     \u001b[0;32melse\u001b[0m\u001b[0;34m:\u001b[0m\u001b[0;34m\u001b[0m\u001b[0m\n\u001b[0;32m----> 8\u001b[0;31m         \u001b[0;32mreturn\u001b[0m \u001b[0mfibonacci\u001b[0m\u001b[0;34m(\u001b[0m\u001b[0mn\u001b[0m\u001b[0;34m-\u001b[0m\u001b[0;36m1\u001b[0m\u001b[0;34m)\u001b[0m\u001b[0;34m+\u001b[0m\u001b[0mfibonacci\u001b[0m\u001b[0;34m(\u001b[0m\u001b[0mn\u001b[0m\u001b[0;34m-\u001b[0m\u001b[0;36m2\u001b[0m\u001b[0;34m)\u001b[0m\u001b[0;34m\u001b[0m\u001b[0m\n\u001b[0m\u001b[1;32m      9\u001b[0m \u001b[0mfibonacci\u001b[0m\u001b[0;34m(\u001b[0m\u001b[0;36m2\u001b[0m\u001b[0;34m)\u001b[0m\u001b[0;34m\u001b[0m\u001b[0m\n",
      "\u001b[0;32m<ipython-input-27-3919576b94db>\u001b[0m in \u001b[0;36mfibonacci\u001b[0;34m(n)\u001b[0m\n\u001b[1;32m      6\u001b[0m         \u001b[0;32mreturn\u001b[0m \u001b[0;36m1\u001b[0m\u001b[0;34m\u001b[0m\u001b[0m\n\u001b[1;32m      7\u001b[0m     \u001b[0;32melse\u001b[0m\u001b[0;34m:\u001b[0m\u001b[0;34m\u001b[0m\u001b[0m\n\u001b[0;32m----> 8\u001b[0;31m         \u001b[0;32mreturn\u001b[0m \u001b[0mfibonacci\u001b[0m\u001b[0;34m(\u001b[0m\u001b[0mn\u001b[0m\u001b[0;34m-\u001b[0m\u001b[0;36m1\u001b[0m\u001b[0;34m)\u001b[0m\u001b[0;34m+\u001b[0m\u001b[0mfibonacci\u001b[0m\u001b[0;34m(\u001b[0m\u001b[0mn\u001b[0m\u001b[0;34m-\u001b[0m\u001b[0;36m2\u001b[0m\u001b[0;34m)\u001b[0m\u001b[0;34m\u001b[0m\u001b[0m\n\u001b[0m\u001b[1;32m      9\u001b[0m \u001b[0mfibonacci\u001b[0m\u001b[0;34m(\u001b[0m\u001b[0;36m2\u001b[0m\u001b[0;34m)\u001b[0m\u001b[0;34m\u001b[0m\u001b[0m\n",
      "\u001b[0;32m<ipython-input-27-3919576b94db>\u001b[0m in \u001b[0;36mfibonacci\u001b[0;34m(n)\u001b[0m\n\u001b[1;32m      6\u001b[0m         \u001b[0;32mreturn\u001b[0m \u001b[0;36m1\u001b[0m\u001b[0;34m\u001b[0m\u001b[0m\n\u001b[1;32m      7\u001b[0m     \u001b[0;32melse\u001b[0m\u001b[0;34m:\u001b[0m\u001b[0;34m\u001b[0m\u001b[0m\n\u001b[0;32m----> 8\u001b[0;31m         \u001b[0;32mreturn\u001b[0m \u001b[0mfibonacci\u001b[0m\u001b[0;34m(\u001b[0m\u001b[0mn\u001b[0m\u001b[0;34m-\u001b[0m\u001b[0;36m1\u001b[0m\u001b[0;34m)\u001b[0m\u001b[0;34m+\u001b[0m\u001b[0mfibonacci\u001b[0m\u001b[0;34m(\u001b[0m\u001b[0mn\u001b[0m\u001b[0;34m-\u001b[0m\u001b[0;36m2\u001b[0m\u001b[0;34m)\u001b[0m\u001b[0;34m\u001b[0m\u001b[0m\n\u001b[0m\u001b[1;32m      9\u001b[0m \u001b[0mfibonacci\u001b[0m\u001b[0;34m(\u001b[0m\u001b[0;36m2\u001b[0m\u001b[0;34m)\u001b[0m\u001b[0;34m\u001b[0m\u001b[0m\n",
      "\u001b[0;32m<ipython-input-27-3919576b94db>\u001b[0m in \u001b[0;36mfibonacci\u001b[0;34m(n)\u001b[0m\n\u001b[1;32m      6\u001b[0m         \u001b[0;32mreturn\u001b[0m \u001b[0;36m1\u001b[0m\u001b[0;34m\u001b[0m\u001b[0m\n\u001b[1;32m      7\u001b[0m     \u001b[0;32melse\u001b[0m\u001b[0;34m:\u001b[0m\u001b[0;34m\u001b[0m\u001b[0m\n\u001b[0;32m----> 8\u001b[0;31m         \u001b[0;32mreturn\u001b[0m \u001b[0mfibonacci\u001b[0m\u001b[0;34m(\u001b[0m\u001b[0mn\u001b[0m\u001b[0;34m-\u001b[0m\u001b[0;36m1\u001b[0m\u001b[0;34m)\u001b[0m\u001b[0;34m+\u001b[0m\u001b[0mfibonacci\u001b[0m\u001b[0;34m(\u001b[0m\u001b[0mn\u001b[0m\u001b[0;34m-\u001b[0m\u001b[0;36m2\u001b[0m\u001b[0;34m)\u001b[0m\u001b[0;34m\u001b[0m\u001b[0m\n\u001b[0m\u001b[1;32m      9\u001b[0m \u001b[0mfibonacci\u001b[0m\u001b[0;34m(\u001b[0m\u001b[0;36m2\u001b[0m\u001b[0;34m)\u001b[0m\u001b[0;34m\u001b[0m\u001b[0m\n",
      "\u001b[0;32m<ipython-input-27-3919576b94db>\u001b[0m in \u001b[0;36mfibonacci\u001b[0;34m(n)\u001b[0m\n\u001b[1;32m      6\u001b[0m         \u001b[0;32mreturn\u001b[0m \u001b[0;36m1\u001b[0m\u001b[0;34m\u001b[0m\u001b[0m\n\u001b[1;32m      7\u001b[0m     \u001b[0;32melse\u001b[0m\u001b[0;34m:\u001b[0m\u001b[0;34m\u001b[0m\u001b[0m\n\u001b[0;32m----> 8\u001b[0;31m         \u001b[0;32mreturn\u001b[0m \u001b[0mfibonacci\u001b[0m\u001b[0;34m(\u001b[0m\u001b[0mn\u001b[0m\u001b[0;34m-\u001b[0m\u001b[0;36m1\u001b[0m\u001b[0;34m)\u001b[0m\u001b[0;34m+\u001b[0m\u001b[0mfibonacci\u001b[0m\u001b[0;34m(\u001b[0m\u001b[0mn\u001b[0m\u001b[0;34m-\u001b[0m\u001b[0;36m2\u001b[0m\u001b[0;34m)\u001b[0m\u001b[0;34m\u001b[0m\u001b[0m\n\u001b[0m\u001b[1;32m      9\u001b[0m \u001b[0mfibonacci\u001b[0m\u001b[0;34m(\u001b[0m\u001b[0;36m2\u001b[0m\u001b[0;34m)\u001b[0m\u001b[0;34m\u001b[0m\u001b[0m\n",
      "\u001b[0;32m<ipython-input-27-3919576b94db>\u001b[0m in \u001b[0;36mfibonacci\u001b[0;34m(n)\u001b[0m\n\u001b[1;32m      6\u001b[0m         \u001b[0;32mreturn\u001b[0m \u001b[0;36m1\u001b[0m\u001b[0;34m\u001b[0m\u001b[0m\n\u001b[1;32m      7\u001b[0m     \u001b[0;32melse\u001b[0m\u001b[0;34m:\u001b[0m\u001b[0;34m\u001b[0m\u001b[0m\n\u001b[0;32m----> 8\u001b[0;31m         \u001b[0;32mreturn\u001b[0m \u001b[0mfibonacci\u001b[0m\u001b[0;34m(\u001b[0m\u001b[0mn\u001b[0m\u001b[0;34m-\u001b[0m\u001b[0;36m1\u001b[0m\u001b[0;34m)\u001b[0m\u001b[0;34m+\u001b[0m\u001b[0mfibonacci\u001b[0m\u001b[0;34m(\u001b[0m\u001b[0mn\u001b[0m\u001b[0;34m-\u001b[0m\u001b[0;36m2\u001b[0m\u001b[0;34m)\u001b[0m\u001b[0;34m\u001b[0m\u001b[0m\n\u001b[0m\u001b[1;32m      9\u001b[0m \u001b[0mfibonacci\u001b[0m\u001b[0;34m(\u001b[0m\u001b[0;36m2\u001b[0m\u001b[0;34m)\u001b[0m\u001b[0;34m\u001b[0m\u001b[0m\n",
      "\u001b[0;32m<ipython-input-27-3919576b94db>\u001b[0m in \u001b[0;36mfibonacci\u001b[0;34m(n)\u001b[0m\n\u001b[1;32m      6\u001b[0m         \u001b[0;32mreturn\u001b[0m \u001b[0;36m1\u001b[0m\u001b[0;34m\u001b[0m\u001b[0m\n\u001b[1;32m      7\u001b[0m     \u001b[0;32melse\u001b[0m\u001b[0;34m:\u001b[0m\u001b[0;34m\u001b[0m\u001b[0m\n\u001b[0;32m----> 8\u001b[0;31m         \u001b[0;32mreturn\u001b[0m \u001b[0mfibonacci\u001b[0m\u001b[0;34m(\u001b[0m\u001b[0mn\u001b[0m\u001b[0;34m-\u001b[0m\u001b[0;36m1\u001b[0m\u001b[0;34m)\u001b[0m\u001b[0;34m+\u001b[0m\u001b[0mfibonacci\u001b[0m\u001b[0;34m(\u001b[0m\u001b[0mn\u001b[0m\u001b[0;34m-\u001b[0m\u001b[0;36m2\u001b[0m\u001b[0;34m)\u001b[0m\u001b[0;34m\u001b[0m\u001b[0m\n\u001b[0m\u001b[1;32m      9\u001b[0m \u001b[0mfibonacci\u001b[0m\u001b[0;34m(\u001b[0m\u001b[0;36m2\u001b[0m\u001b[0;34m)\u001b[0m\u001b[0;34m\u001b[0m\u001b[0m\n",
      "\u001b[0;32m<ipython-input-27-3919576b94db>\u001b[0m in \u001b[0;36mfibonacci\u001b[0;34m(n)\u001b[0m\n\u001b[1;32m      6\u001b[0m         \u001b[0;32mreturn\u001b[0m \u001b[0;36m1\u001b[0m\u001b[0;34m\u001b[0m\u001b[0m\n\u001b[1;32m      7\u001b[0m     \u001b[0;32melse\u001b[0m\u001b[0;34m:\u001b[0m\u001b[0;34m\u001b[0m\u001b[0m\n\u001b[0;32m----> 8\u001b[0;31m         \u001b[0;32mreturn\u001b[0m \u001b[0mfibonacci\u001b[0m\u001b[0;34m(\u001b[0m\u001b[0mn\u001b[0m\u001b[0;34m-\u001b[0m\u001b[0;36m1\u001b[0m\u001b[0;34m)\u001b[0m\u001b[0;34m+\u001b[0m\u001b[0mfibonacci\u001b[0m\u001b[0;34m(\u001b[0m\u001b[0mn\u001b[0m\u001b[0;34m-\u001b[0m\u001b[0;36m2\u001b[0m\u001b[0;34m)\u001b[0m\u001b[0;34m\u001b[0m\u001b[0m\n\u001b[0m\u001b[1;32m      9\u001b[0m \u001b[0mfibonacci\u001b[0m\u001b[0;34m(\u001b[0m\u001b[0;36m2\u001b[0m\u001b[0;34m)\u001b[0m\u001b[0;34m\u001b[0m\u001b[0m\n",
      "\u001b[0;32m<ipython-input-27-3919576b94db>\u001b[0m in \u001b[0;36mfibonacci\u001b[0;34m(n)\u001b[0m\n\u001b[1;32m      6\u001b[0m         \u001b[0;32mreturn\u001b[0m \u001b[0;36m1\u001b[0m\u001b[0;34m\u001b[0m\u001b[0m\n\u001b[1;32m      7\u001b[0m     \u001b[0;32melse\u001b[0m\u001b[0;34m:\u001b[0m\u001b[0;34m\u001b[0m\u001b[0m\n\u001b[0;32m----> 8\u001b[0;31m         \u001b[0;32mreturn\u001b[0m \u001b[0mfibonacci\u001b[0m\u001b[0;34m(\u001b[0m\u001b[0mn\u001b[0m\u001b[0;34m-\u001b[0m\u001b[0;36m1\u001b[0m\u001b[0;34m)\u001b[0m\u001b[0;34m+\u001b[0m\u001b[0mfibonacci\u001b[0m\u001b[0;34m(\u001b[0m\u001b[0mn\u001b[0m\u001b[0;34m-\u001b[0m\u001b[0;36m2\u001b[0m\u001b[0;34m)\u001b[0m\u001b[0;34m\u001b[0m\u001b[0m\n\u001b[0m\u001b[1;32m      9\u001b[0m \u001b[0mfibonacci\u001b[0m\u001b[0;34m(\u001b[0m\u001b[0;36m2\u001b[0m\u001b[0;34m)\u001b[0m\u001b[0;34m\u001b[0m\u001b[0m\n",
      "\u001b[0;32m<ipython-input-27-3919576b94db>\u001b[0m in \u001b[0;36mfibonacci\u001b[0;34m(n)\u001b[0m\n\u001b[1;32m      6\u001b[0m         \u001b[0;32mreturn\u001b[0m \u001b[0;36m1\u001b[0m\u001b[0;34m\u001b[0m\u001b[0m\n\u001b[1;32m      7\u001b[0m     \u001b[0;32melse\u001b[0m\u001b[0;34m:\u001b[0m\u001b[0;34m\u001b[0m\u001b[0m\n\u001b[0;32m----> 8\u001b[0;31m         \u001b[0;32mreturn\u001b[0m \u001b[0mfibonacci\u001b[0m\u001b[0;34m(\u001b[0m\u001b[0mn\u001b[0m\u001b[0;34m-\u001b[0m\u001b[0;36m1\u001b[0m\u001b[0;34m)\u001b[0m\u001b[0;34m+\u001b[0m\u001b[0mfibonacci\u001b[0m\u001b[0;34m(\u001b[0m\u001b[0mn\u001b[0m\u001b[0;34m-\u001b[0m\u001b[0;36m2\u001b[0m\u001b[0;34m)\u001b[0m\u001b[0;34m\u001b[0m\u001b[0m\n\u001b[0m\u001b[1;32m      9\u001b[0m \u001b[0mfibonacci\u001b[0m\u001b[0;34m(\u001b[0m\u001b[0;36m2\u001b[0m\u001b[0;34m)\u001b[0m\u001b[0;34m\u001b[0m\u001b[0m\n",
      "\u001b[0;32m<ipython-input-27-3919576b94db>\u001b[0m in \u001b[0;36mfibonacci\u001b[0;34m(n)\u001b[0m\n\u001b[1;32m      6\u001b[0m         \u001b[0;32mreturn\u001b[0m \u001b[0;36m1\u001b[0m\u001b[0;34m\u001b[0m\u001b[0m\n\u001b[1;32m      7\u001b[0m     \u001b[0;32melse\u001b[0m\u001b[0;34m:\u001b[0m\u001b[0;34m\u001b[0m\u001b[0m\n\u001b[0;32m----> 8\u001b[0;31m         \u001b[0;32mreturn\u001b[0m \u001b[0mfibonacci\u001b[0m\u001b[0;34m(\u001b[0m\u001b[0mn\u001b[0m\u001b[0;34m-\u001b[0m\u001b[0;36m1\u001b[0m\u001b[0;34m)\u001b[0m\u001b[0;34m+\u001b[0m\u001b[0mfibonacci\u001b[0m\u001b[0;34m(\u001b[0m\u001b[0mn\u001b[0m\u001b[0;34m-\u001b[0m\u001b[0;36m2\u001b[0m\u001b[0;34m)\u001b[0m\u001b[0;34m\u001b[0m\u001b[0m\n\u001b[0m\u001b[1;32m      9\u001b[0m \u001b[0mfibonacci\u001b[0m\u001b[0;34m(\u001b[0m\u001b[0;36m2\u001b[0m\u001b[0;34m)\u001b[0m\u001b[0;34m\u001b[0m\u001b[0m\n",
      "\u001b[0;32m<ipython-input-27-3919576b94db>\u001b[0m in \u001b[0;36mfibonacci\u001b[0;34m(n)\u001b[0m\n\u001b[1;32m      6\u001b[0m         \u001b[0;32mreturn\u001b[0m \u001b[0;36m1\u001b[0m\u001b[0;34m\u001b[0m\u001b[0m\n\u001b[1;32m      7\u001b[0m     \u001b[0;32melse\u001b[0m\u001b[0;34m:\u001b[0m\u001b[0;34m\u001b[0m\u001b[0m\n\u001b[0;32m----> 8\u001b[0;31m         \u001b[0;32mreturn\u001b[0m \u001b[0mfibonacci\u001b[0m\u001b[0;34m(\u001b[0m\u001b[0mn\u001b[0m\u001b[0;34m-\u001b[0m\u001b[0;36m1\u001b[0m\u001b[0;34m)\u001b[0m\u001b[0;34m+\u001b[0m\u001b[0mfibonacci\u001b[0m\u001b[0;34m(\u001b[0m\u001b[0mn\u001b[0m\u001b[0;34m-\u001b[0m\u001b[0;36m2\u001b[0m\u001b[0;34m)\u001b[0m\u001b[0;34m\u001b[0m\u001b[0m\n\u001b[0m\u001b[1;32m      9\u001b[0m \u001b[0mfibonacci\u001b[0m\u001b[0;34m(\u001b[0m\u001b[0;36m2\u001b[0m\u001b[0;34m)\u001b[0m\u001b[0;34m\u001b[0m\u001b[0m\n",
      "\u001b[0;32m<ipython-input-27-3919576b94db>\u001b[0m in \u001b[0;36mfibonacci\u001b[0;34m(n)\u001b[0m\n\u001b[1;32m      6\u001b[0m         \u001b[0;32mreturn\u001b[0m \u001b[0;36m1\u001b[0m\u001b[0;34m\u001b[0m\u001b[0m\n\u001b[1;32m      7\u001b[0m     \u001b[0;32melse\u001b[0m\u001b[0;34m:\u001b[0m\u001b[0;34m\u001b[0m\u001b[0m\n\u001b[0;32m----> 8\u001b[0;31m         \u001b[0;32mreturn\u001b[0m \u001b[0mfibonacci\u001b[0m\u001b[0;34m(\u001b[0m\u001b[0mn\u001b[0m\u001b[0;34m-\u001b[0m\u001b[0;36m1\u001b[0m\u001b[0;34m)\u001b[0m\u001b[0;34m+\u001b[0m\u001b[0mfibonacci\u001b[0m\u001b[0;34m(\u001b[0m\u001b[0mn\u001b[0m\u001b[0;34m-\u001b[0m\u001b[0;36m2\u001b[0m\u001b[0;34m)\u001b[0m\u001b[0;34m\u001b[0m\u001b[0m\n\u001b[0m\u001b[1;32m      9\u001b[0m \u001b[0mfibonacci\u001b[0m\u001b[0;34m(\u001b[0m\u001b[0;36m2\u001b[0m\u001b[0;34m)\u001b[0m\u001b[0;34m\u001b[0m\u001b[0m\n",
      "\u001b[0;32m<ipython-input-27-3919576b94db>\u001b[0m in \u001b[0;36mfibonacci\u001b[0;34m(n)\u001b[0m\n\u001b[1;32m      6\u001b[0m         \u001b[0;32mreturn\u001b[0m \u001b[0;36m1\u001b[0m\u001b[0;34m\u001b[0m\u001b[0m\n\u001b[1;32m      7\u001b[0m     \u001b[0;32melse\u001b[0m\u001b[0;34m:\u001b[0m\u001b[0;34m\u001b[0m\u001b[0m\n\u001b[0;32m----> 8\u001b[0;31m         \u001b[0;32mreturn\u001b[0m \u001b[0mfibonacci\u001b[0m\u001b[0;34m(\u001b[0m\u001b[0mn\u001b[0m\u001b[0;34m-\u001b[0m\u001b[0;36m1\u001b[0m\u001b[0;34m)\u001b[0m\u001b[0;34m+\u001b[0m\u001b[0mfibonacci\u001b[0m\u001b[0;34m(\u001b[0m\u001b[0mn\u001b[0m\u001b[0;34m-\u001b[0m\u001b[0;36m2\u001b[0m\u001b[0;34m)\u001b[0m\u001b[0;34m\u001b[0m\u001b[0m\n\u001b[0m\u001b[1;32m      9\u001b[0m \u001b[0mfibonacci\u001b[0m\u001b[0;34m(\u001b[0m\u001b[0;36m2\u001b[0m\u001b[0;34m)\u001b[0m\u001b[0;34m\u001b[0m\u001b[0m\n",
      "\u001b[0;32m<ipython-input-27-3919576b94db>\u001b[0m in \u001b[0;36mfibonacci\u001b[0;34m(n)\u001b[0m\n\u001b[1;32m      6\u001b[0m         \u001b[0;32mreturn\u001b[0m \u001b[0;36m1\u001b[0m\u001b[0;34m\u001b[0m\u001b[0m\n\u001b[1;32m      7\u001b[0m     \u001b[0;32melse\u001b[0m\u001b[0;34m:\u001b[0m\u001b[0;34m\u001b[0m\u001b[0m\n\u001b[0;32m----> 8\u001b[0;31m         \u001b[0;32mreturn\u001b[0m \u001b[0mfibonacci\u001b[0m\u001b[0;34m(\u001b[0m\u001b[0mn\u001b[0m\u001b[0;34m-\u001b[0m\u001b[0;36m1\u001b[0m\u001b[0;34m)\u001b[0m\u001b[0;34m+\u001b[0m\u001b[0mfibonacci\u001b[0m\u001b[0;34m(\u001b[0m\u001b[0mn\u001b[0m\u001b[0;34m-\u001b[0m\u001b[0;36m2\u001b[0m\u001b[0;34m)\u001b[0m\u001b[0;34m\u001b[0m\u001b[0m\n\u001b[0m\u001b[1;32m      9\u001b[0m \u001b[0mfibonacci\u001b[0m\u001b[0;34m(\u001b[0m\u001b[0;36m2\u001b[0m\u001b[0;34m)\u001b[0m\u001b[0;34m\u001b[0m\u001b[0m\n",
      "\u001b[0;32m<ipython-input-27-3919576b94db>\u001b[0m in \u001b[0;36mfibonacci\u001b[0;34m(n)\u001b[0m\n\u001b[1;32m      6\u001b[0m         \u001b[0;32mreturn\u001b[0m \u001b[0;36m1\u001b[0m\u001b[0;34m\u001b[0m\u001b[0m\n\u001b[1;32m      7\u001b[0m     \u001b[0;32melse\u001b[0m\u001b[0;34m:\u001b[0m\u001b[0;34m\u001b[0m\u001b[0m\n\u001b[0;32m----> 8\u001b[0;31m         \u001b[0;32mreturn\u001b[0m \u001b[0mfibonacci\u001b[0m\u001b[0;34m(\u001b[0m\u001b[0mn\u001b[0m\u001b[0;34m-\u001b[0m\u001b[0;36m1\u001b[0m\u001b[0;34m)\u001b[0m\u001b[0;34m+\u001b[0m\u001b[0mfibonacci\u001b[0m\u001b[0;34m(\u001b[0m\u001b[0mn\u001b[0m\u001b[0;34m-\u001b[0m\u001b[0;36m2\u001b[0m\u001b[0;34m)\u001b[0m\u001b[0;34m\u001b[0m\u001b[0m\n\u001b[0m\u001b[1;32m      9\u001b[0m \u001b[0mfibonacci\u001b[0m\u001b[0;34m(\u001b[0m\u001b[0;36m2\u001b[0m\u001b[0;34m)\u001b[0m\u001b[0;34m\u001b[0m\u001b[0m\n",
      "\u001b[0;32m<ipython-input-27-3919576b94db>\u001b[0m in \u001b[0;36mfibonacci\u001b[0;34m(n)\u001b[0m\n\u001b[1;32m      6\u001b[0m         \u001b[0;32mreturn\u001b[0m \u001b[0;36m1\u001b[0m\u001b[0;34m\u001b[0m\u001b[0m\n\u001b[1;32m      7\u001b[0m     \u001b[0;32melse\u001b[0m\u001b[0;34m:\u001b[0m\u001b[0;34m\u001b[0m\u001b[0m\n\u001b[0;32m----> 8\u001b[0;31m         \u001b[0;32mreturn\u001b[0m \u001b[0mfibonacci\u001b[0m\u001b[0;34m(\u001b[0m\u001b[0mn\u001b[0m\u001b[0;34m-\u001b[0m\u001b[0;36m1\u001b[0m\u001b[0;34m)\u001b[0m\u001b[0;34m+\u001b[0m\u001b[0mfibonacci\u001b[0m\u001b[0;34m(\u001b[0m\u001b[0mn\u001b[0m\u001b[0;34m-\u001b[0m\u001b[0;36m2\u001b[0m\u001b[0;34m)\u001b[0m\u001b[0;34m\u001b[0m\u001b[0m\n\u001b[0m\u001b[1;32m      9\u001b[0m \u001b[0mfibonacci\u001b[0m\u001b[0;34m(\u001b[0m\u001b[0;36m2\u001b[0m\u001b[0;34m)\u001b[0m\u001b[0;34m\u001b[0m\u001b[0m\n",
      "\u001b[0;32m<ipython-input-27-3919576b94db>\u001b[0m in \u001b[0;36mfibonacci\u001b[0;34m(n)\u001b[0m\n\u001b[1;32m      6\u001b[0m         \u001b[0;32mreturn\u001b[0m \u001b[0;36m1\u001b[0m\u001b[0;34m\u001b[0m\u001b[0m\n\u001b[1;32m      7\u001b[0m     \u001b[0;32melse\u001b[0m\u001b[0;34m:\u001b[0m\u001b[0;34m\u001b[0m\u001b[0m\n\u001b[0;32m----> 8\u001b[0;31m         \u001b[0;32mreturn\u001b[0m \u001b[0mfibonacci\u001b[0m\u001b[0;34m(\u001b[0m\u001b[0mn\u001b[0m\u001b[0;34m-\u001b[0m\u001b[0;36m1\u001b[0m\u001b[0;34m)\u001b[0m\u001b[0;34m+\u001b[0m\u001b[0mfibonacci\u001b[0m\u001b[0;34m(\u001b[0m\u001b[0mn\u001b[0m\u001b[0;34m-\u001b[0m\u001b[0;36m2\u001b[0m\u001b[0;34m)\u001b[0m\u001b[0;34m\u001b[0m\u001b[0m\n\u001b[0m\u001b[1;32m      9\u001b[0m \u001b[0mfibonacci\u001b[0m\u001b[0;34m(\u001b[0m\u001b[0;36m2\u001b[0m\u001b[0;34m)\u001b[0m\u001b[0;34m\u001b[0m\u001b[0m\n",
      "\u001b[0;32m<ipython-input-27-3919576b94db>\u001b[0m in \u001b[0;36mfibonacci\u001b[0;34m(n)\u001b[0m\n\u001b[1;32m      6\u001b[0m         \u001b[0;32mreturn\u001b[0m \u001b[0;36m1\u001b[0m\u001b[0;34m\u001b[0m\u001b[0m\n\u001b[1;32m      7\u001b[0m     \u001b[0;32melse\u001b[0m\u001b[0;34m:\u001b[0m\u001b[0;34m\u001b[0m\u001b[0m\n\u001b[0;32m----> 8\u001b[0;31m         \u001b[0;32mreturn\u001b[0m \u001b[0mfibonacci\u001b[0m\u001b[0;34m(\u001b[0m\u001b[0mn\u001b[0m\u001b[0;34m-\u001b[0m\u001b[0;36m1\u001b[0m\u001b[0;34m)\u001b[0m\u001b[0;34m+\u001b[0m\u001b[0mfibonacci\u001b[0m\u001b[0;34m(\u001b[0m\u001b[0mn\u001b[0m\u001b[0;34m-\u001b[0m\u001b[0;36m2\u001b[0m\u001b[0;34m)\u001b[0m\u001b[0;34m\u001b[0m\u001b[0m\n\u001b[0m\u001b[1;32m      9\u001b[0m \u001b[0mfibonacci\u001b[0m\u001b[0;34m(\u001b[0m\u001b[0;36m2\u001b[0m\u001b[0;34m)\u001b[0m\u001b[0;34m\u001b[0m\u001b[0m\n",
      "\u001b[0;32m<ipython-input-27-3919576b94db>\u001b[0m in \u001b[0;36mfibonacci\u001b[0;34m(n)\u001b[0m\n\u001b[1;32m      6\u001b[0m         \u001b[0;32mreturn\u001b[0m \u001b[0;36m1\u001b[0m\u001b[0;34m\u001b[0m\u001b[0m\n\u001b[1;32m      7\u001b[0m     \u001b[0;32melse\u001b[0m\u001b[0;34m:\u001b[0m\u001b[0;34m\u001b[0m\u001b[0m\n\u001b[0;32m----> 8\u001b[0;31m         \u001b[0;32mreturn\u001b[0m \u001b[0mfibonacci\u001b[0m\u001b[0;34m(\u001b[0m\u001b[0mn\u001b[0m\u001b[0;34m-\u001b[0m\u001b[0;36m1\u001b[0m\u001b[0;34m)\u001b[0m\u001b[0;34m+\u001b[0m\u001b[0mfibonacci\u001b[0m\u001b[0;34m(\u001b[0m\u001b[0mn\u001b[0m\u001b[0;34m-\u001b[0m\u001b[0;36m2\u001b[0m\u001b[0;34m)\u001b[0m\u001b[0;34m\u001b[0m\u001b[0m\n\u001b[0m\u001b[1;32m      9\u001b[0m \u001b[0mfibonacci\u001b[0m\u001b[0;34m(\u001b[0m\u001b[0;36m2\u001b[0m\u001b[0;34m)\u001b[0m\u001b[0;34m\u001b[0m\u001b[0m\n",
      "\u001b[0;32m<ipython-input-27-3919576b94db>\u001b[0m in \u001b[0;36mfibonacci\u001b[0;34m(n)\u001b[0m\n\u001b[1;32m      6\u001b[0m         \u001b[0;32mreturn\u001b[0m \u001b[0;36m1\u001b[0m\u001b[0;34m\u001b[0m\u001b[0m\n\u001b[1;32m      7\u001b[0m     \u001b[0;32melse\u001b[0m\u001b[0;34m:\u001b[0m\u001b[0;34m\u001b[0m\u001b[0m\n\u001b[0;32m----> 8\u001b[0;31m         \u001b[0;32mreturn\u001b[0m \u001b[0mfibonacci\u001b[0m\u001b[0;34m(\u001b[0m\u001b[0mn\u001b[0m\u001b[0;34m-\u001b[0m\u001b[0;36m1\u001b[0m\u001b[0;34m)\u001b[0m\u001b[0;34m+\u001b[0m\u001b[0mfibonacci\u001b[0m\u001b[0;34m(\u001b[0m\u001b[0mn\u001b[0m\u001b[0;34m-\u001b[0m\u001b[0;36m2\u001b[0m\u001b[0;34m)\u001b[0m\u001b[0;34m\u001b[0m\u001b[0m\n\u001b[0m\u001b[1;32m      9\u001b[0m \u001b[0mfibonacci\u001b[0m\u001b[0;34m(\u001b[0m\u001b[0;36m2\u001b[0m\u001b[0;34m)\u001b[0m\u001b[0;34m\u001b[0m\u001b[0m\n",
      "\u001b[0;32m<ipython-input-27-3919576b94db>\u001b[0m in \u001b[0;36mfibonacci\u001b[0;34m(n)\u001b[0m\n\u001b[1;32m      6\u001b[0m         \u001b[0;32mreturn\u001b[0m \u001b[0;36m1\u001b[0m\u001b[0;34m\u001b[0m\u001b[0m\n\u001b[1;32m      7\u001b[0m     \u001b[0;32melse\u001b[0m\u001b[0;34m:\u001b[0m\u001b[0;34m\u001b[0m\u001b[0m\n\u001b[0;32m----> 8\u001b[0;31m         \u001b[0;32mreturn\u001b[0m \u001b[0mfibonacci\u001b[0m\u001b[0;34m(\u001b[0m\u001b[0mn\u001b[0m\u001b[0;34m-\u001b[0m\u001b[0;36m1\u001b[0m\u001b[0;34m)\u001b[0m\u001b[0;34m+\u001b[0m\u001b[0mfibonacci\u001b[0m\u001b[0;34m(\u001b[0m\u001b[0mn\u001b[0m\u001b[0;34m-\u001b[0m\u001b[0;36m2\u001b[0m\u001b[0;34m)\u001b[0m\u001b[0;34m\u001b[0m\u001b[0m\n\u001b[0m\u001b[1;32m      9\u001b[0m \u001b[0mfibonacci\u001b[0m\u001b[0;34m(\u001b[0m\u001b[0;36m2\u001b[0m\u001b[0;34m)\u001b[0m\u001b[0;34m\u001b[0m\u001b[0m\n",
      "\u001b[0;32m<ipython-input-27-3919576b94db>\u001b[0m in \u001b[0;36mfibonacci\u001b[0;34m(n)\u001b[0m\n\u001b[1;32m      6\u001b[0m         \u001b[0;32mreturn\u001b[0m \u001b[0;36m1\u001b[0m\u001b[0;34m\u001b[0m\u001b[0m\n\u001b[1;32m      7\u001b[0m     \u001b[0;32melse\u001b[0m\u001b[0;34m:\u001b[0m\u001b[0;34m\u001b[0m\u001b[0m\n\u001b[0;32m----> 8\u001b[0;31m         \u001b[0;32mreturn\u001b[0m \u001b[0mfibonacci\u001b[0m\u001b[0;34m(\u001b[0m\u001b[0mn\u001b[0m\u001b[0;34m-\u001b[0m\u001b[0;36m1\u001b[0m\u001b[0;34m)\u001b[0m\u001b[0;34m+\u001b[0m\u001b[0mfibonacci\u001b[0m\u001b[0;34m(\u001b[0m\u001b[0mn\u001b[0m\u001b[0;34m-\u001b[0m\u001b[0;36m2\u001b[0m\u001b[0;34m)\u001b[0m\u001b[0;34m\u001b[0m\u001b[0m\n\u001b[0m\u001b[1;32m      9\u001b[0m \u001b[0mfibonacci\u001b[0m\u001b[0;34m(\u001b[0m\u001b[0;36m2\u001b[0m\u001b[0;34m)\u001b[0m\u001b[0;34m\u001b[0m\u001b[0m\n",
      "\u001b[0;32m<ipython-input-27-3919576b94db>\u001b[0m in \u001b[0;36mfibonacci\u001b[0;34m(n)\u001b[0m\n\u001b[1;32m      6\u001b[0m         \u001b[0;32mreturn\u001b[0m \u001b[0;36m1\u001b[0m\u001b[0;34m\u001b[0m\u001b[0m\n\u001b[1;32m      7\u001b[0m     \u001b[0;32melse\u001b[0m\u001b[0;34m:\u001b[0m\u001b[0;34m\u001b[0m\u001b[0m\n\u001b[0;32m----> 8\u001b[0;31m         \u001b[0;32mreturn\u001b[0m \u001b[0mfibonacci\u001b[0m\u001b[0;34m(\u001b[0m\u001b[0mn\u001b[0m\u001b[0;34m-\u001b[0m\u001b[0;36m1\u001b[0m\u001b[0;34m)\u001b[0m\u001b[0;34m+\u001b[0m\u001b[0mfibonacci\u001b[0m\u001b[0;34m(\u001b[0m\u001b[0mn\u001b[0m\u001b[0;34m-\u001b[0m\u001b[0;36m2\u001b[0m\u001b[0;34m)\u001b[0m\u001b[0;34m\u001b[0m\u001b[0m\n\u001b[0m\u001b[1;32m      9\u001b[0m \u001b[0mfibonacci\u001b[0m\u001b[0;34m(\u001b[0m\u001b[0;36m2\u001b[0m\u001b[0;34m)\u001b[0m\u001b[0;34m\u001b[0m\u001b[0m\n",
      "\u001b[0;32m<ipython-input-27-3919576b94db>\u001b[0m in \u001b[0;36mfibonacci\u001b[0;34m(n)\u001b[0m\n\u001b[1;32m      6\u001b[0m         \u001b[0;32mreturn\u001b[0m \u001b[0;36m1\u001b[0m\u001b[0;34m\u001b[0m\u001b[0m\n\u001b[1;32m      7\u001b[0m     \u001b[0;32melse\u001b[0m\u001b[0;34m:\u001b[0m\u001b[0;34m\u001b[0m\u001b[0m\n\u001b[0;32m----> 8\u001b[0;31m         \u001b[0;32mreturn\u001b[0m \u001b[0mfibonacci\u001b[0m\u001b[0;34m(\u001b[0m\u001b[0mn\u001b[0m\u001b[0;34m-\u001b[0m\u001b[0;36m1\u001b[0m\u001b[0;34m)\u001b[0m\u001b[0;34m+\u001b[0m\u001b[0mfibonacci\u001b[0m\u001b[0;34m(\u001b[0m\u001b[0mn\u001b[0m\u001b[0;34m-\u001b[0m\u001b[0;36m2\u001b[0m\u001b[0;34m)\u001b[0m\u001b[0;34m\u001b[0m\u001b[0m\n\u001b[0m\u001b[1;32m      9\u001b[0m \u001b[0mfibonacci\u001b[0m\u001b[0;34m(\u001b[0m\u001b[0;36m2\u001b[0m\u001b[0;34m)\u001b[0m\u001b[0;34m\u001b[0m\u001b[0m\n",
      "\u001b[0;32m<ipython-input-27-3919576b94db>\u001b[0m in \u001b[0;36mfibonacci\u001b[0;34m(n)\u001b[0m\n\u001b[1;32m      1\u001b[0m \u001b[0;32mdef\u001b[0m \u001b[0mfibonacci\u001b[0m\u001b[0;34m(\u001b[0m\u001b[0mn\u001b[0m\u001b[0;34m)\u001b[0m\u001b[0;34m:\u001b[0m\u001b[0;34m\u001b[0m\u001b[0m\n\u001b[1;32m      2\u001b[0m     \u001b[0;34m\"Esta función calcula el n-esimo enetero de la secuencia fibonacci\"\u001b[0m\u001b[0;34m\u001b[0m\u001b[0m\n\u001b[0;32m----> 3\u001b[0;31m     \u001b[0;32mif\u001b[0m \u001b[0mn\u001b[0m \u001b[0;34m==\u001b[0m \u001b[0;36m0\u001b[0m\u001b[0;34m:\u001b[0m\u001b[0;34m\u001b[0m\u001b[0m\n\u001b[0m\u001b[1;32m      4\u001b[0m         \u001b[0;32mreturn\u001b[0m \u001b[0;36m1\u001b[0m\u001b[0;34m\u001b[0m\u001b[0m\n\u001b[1;32m      5\u001b[0m     \u001b[0;32melif\u001b[0m \u001b[0mn\u001b[0m \u001b[0;34m==\u001b[0m \u001b[0;36m1\u001b[0m\u001b[0;34m:\u001b[0m\u001b[0;34m\u001b[0m\u001b[0m\n",
      "\u001b[0;31mKeyboardInterrupt\u001b[0m: "
     ]
    }
   ],
   "source": [
    "for i in range(0,1000000):\n",
    "    print(fibonacci(i))\n"
   ]
  },
  {
   "cell_type": "markdown",
   "metadata": {},
   "source": [
    "- Define la función catalan(n), que imprime el n-ésimo número de catalán dado por $C_0=1$ y $C_n = \\dfrac{4n+2}{n+2} C_n$"
   ]
  },
  {
   "cell_type": "code",
   "execution_count": 31,
   "metadata": {},
   "outputs": [
    {
     "data": {
      "text/plain": [
       "16796.0"
      ]
     },
     "execution_count": 31,
     "metadata": {},
     "output_type": "execute_result"
    }
   ],
   "source": [
    "def catalan(n):\n",
    "    cat0 = 1\n",
    "    if n==0:\n",
    "        return cat0\n",
    "    else:\n",
    "        return (4*n-2)*catalan(n-1)/(n+1)\n",
    "    \n",
    "catalan(10)"
   ]
  },
  {
   "cell_type": "markdown",
   "metadata": {},
   "source": [
    "- Define la función ppunto(X,Y) que calcula el producto punto entre los vectores de dim 3 'X' y 'Y'. "
   ]
  },
  {
   "cell_type": "code",
   "execution_count": 32,
   "metadata": {},
   "outputs": [],
   "source": [
    "def punto(X,Y):\n",
    "    if len(X)!=len(Y):\n",
    "        print('Error los vectores deben tener la misma dimensión')\n",
    "        return\n",
    "    else:\n",
    "        f = 0\n",
    "        for i in range(len(X)):\n",
    "            f += X[i]*Y[i]\n",
    "        return f"
   ]
  },
  {
   "cell_type": "markdown",
   "metadata": {},
   "source": [
    "- Existe una función en numpy que calcula el producto punto, 'np.dot'. probemos que su función está correcta. Haga un ciclo que se realice 100 veces, en cada ciclo se generan dos vectores aleatorios 'X' y 'Y' y calcule la diferencia entre lo que se obtiene con su función y la función de numpy. Use una función error que sume todas las diferencias. Al final imprima el valor de la variable error."
   ]
  },
  {
   "cell_type": "code",
   "execution_count": 33,
   "metadata": {},
   "outputs": [
    {
     "name": "stdout",
     "output_type": "stream",
     "text": [
      "2.95596880306e-15\n"
     ]
    }
   ],
   "source": [
    "error = 0\n",
    "for i in range(101):\n",
    "    X,Y = np.random.random([3]),np.random.random([3])\n",
    "    err = abs(punto(X,Y)-np.dot(X,Y))\n",
    "    error += err\n",
    "print(error)\n",
    "    "
   ]
  },
  {
   "cell_type": "markdown",
   "metadata": {
    "collapsed": true
   },
   "source": [
    "- defina una función 'distancia' que le den las coordenadas de un punto en cilindricar $(r,\\theta,z)$ y de la distancia al centro."
   ]
  },
  {
   "cell_type": "code",
   "execution_count": 34,
   "metadata": {},
   "outputs": [],
   "source": [
    "def distancia(r,theta,z):\n",
    "    return np.sqrt(r**2+z**2)"
   ]
  },
  {
   "cell_type": "markdown",
   "metadata": {
    "collapsed": true
   },
   "source": [
    " - defina una función que se llame 'imprimevector' y que tome de entrada un vector de dim 3 y que lo imprima en el siguiente formato $(x,y,x)$."
   ]
  },
  {
   "cell_type": "code",
   "execution_count": 35,
   "metadata": {},
   "outputs": [
    {
     "name": "stdout",
     "output_type": "stream",
     "text": [
      "( 1 , 2 , 3 )\n"
     ]
    }
   ],
   "source": [
    "def imprimevector(A):\n",
    "    if len(A)!=3:\n",
    "        print('El vector debe ser de dimension 3')\n",
    "        return\n",
    "    else:\n",
    "        print(\"(\",A[0],\",\",A[1],\",\",A[2],\")\")\n",
    "        return\n",
    "A = [1,2,3]\n",
    "imprimevector(A)"
   ]
  },
  {
   "cell_type": "markdown",
   "metadata": {
    "collapsed": true
   },
   "source": [
    "- defina una función que se llame 'factores' que tome de entrada un entero y encuentre sus factores primos y cuya salida sea una lista con todos los factores primos. Desmuestre con su programa que los factores de 17556 son 2, 3, 7, 11 y 19."
   ]
  },
  {
   "cell_type": "code",
   "execution_count": 36,
   "metadata": {},
   "outputs": [
    {
     "data": {
      "text/plain": [
       "[2, 3, 7, 11, 19]"
      ]
     },
     "execution_count": 36,
     "metadata": {},
     "output_type": "execute_result"
    }
   ],
   "source": [
    "def factores(n):\n",
    "    if n <= 1:\n",
    "        print('El número debe ser mayor a 1')\n",
    "        return\n",
    "    factor = []\n",
    "    if n % 2 == 0:\n",
    "        factor.append(2)\n",
    "        while n % 2 == 0:\n",
    "            n /= 2        \n",
    "    for i in range(3,int(np.sqrt(n))+1,2):\n",
    "        if n % i ==0:\n",
    "            factor.append(i)\n",
    "            while n % i== 0:\n",
    "                n /= i\n",
    "    if n>2: #Esto se cumple solo si n es primo\n",
    "        factor.append(int(n))\n",
    "    return factor\n",
    "\n",
    "factores(17556)"
   ]
  },
  {
   "cell_type": "markdown",
   "metadata": {
    "collapsed": true
   },
   "source": [
    "- Defina una función binomial(n,k). Recuerde que el coeficiente binomial de $\\left( \\array{n \\\\ k} \\right)$ es igual a"
   ]
  },
  {
   "cell_type": "markdown",
   "metadata": {
    "collapsed": true
   },
   "source": [
    "$\\left( \\array{n \\\\ k} \\right)=\\dfrac{n!}{k!(n-k)!}=\\dfrac{n\\times(n-1)\\times(n-2)\\times...\\times(n-k+1)}{1\\times2\\times...\\times k}$"
   ]
  },
  {
   "cell_type": "markdown",
   "metadata": {
    "collapsed": true
   },
   "source": [
    "cuando $n\\ge 1$ o $\\left( \\array{n \\\\ 0} \\right)$ cuando $k=0$."
   ]
  },
  {
   "cell_type": "code",
   "execution_count": 37,
   "metadata": {},
   "outputs": [],
   "source": [
    "def factorial(n):\n",
    "    if n == 0:\n",
    "        return 1\n",
    "    else:\n",
    "        return n * factorial(n-1)\n",
    "    \n",
    "def binomial(n,k):\n",
    "    return int(factorial(n)/(factorial(k) * factorial(n-k)))\n"
   ]
  },
  {
   "cell_type": "markdown",
   "metadata": {
    "collapsed": true
   },
   "source": [
    "  - Usando su función, construya el triángulo de Pascal de 20 lineas. Recuerde que el triángulo de Pascal contiene en la n-ésima línea n+1 números que son los coeficientes $\\left( \\array{n \\\\ 0} \\right)$, $\\left( \\array{n \\\\ 1} \\right)$...$\\left( \\array{n \\\\ n} \\right)$\n",
    "  \n",
    "  Las primeras líneas son\n",
    "  "
   ]
  },
  {
   "cell_type": "raw",
   "metadata": {},
   "source": [
    " 1 1\n",
    " 1 2 1\n",
    " 1 3 3 1"
   ]
  },
  {
   "cell_type": "code",
   "execution_count": 38,
   "metadata": {},
   "outputs": [
    {
     "name": "stdout",
     "output_type": "stream",
     "text": [
      "[1]\n",
      "[1, 1]\n",
      "[1, 2, 1]\n",
      "[1, 3, 3, 1]\n",
      "[1, 4, 6, 4, 1]\n",
      "[1, 5, 10, 10, 5, 1]\n",
      "[1, 6, 15, 20, 15, 6, 1]\n",
      "[1, 7, 21, 35, 35, 21, 7, 1]\n",
      "[1, 8, 28, 56, 70, 56, 28, 8, 1]\n",
      "[1, 9, 36, 84, 126, 126, 84, 36, 9, 1]\n",
      "[1, 10, 45, 120, 210, 252, 210, 120, 45, 10, 1]\n",
      "[1, 11, 55, 165, 330, 462, 462, 330, 165, 55, 11, 1]\n",
      "[1, 12, 66, 220, 495, 792, 924, 792, 495, 220, 66, 12, 1]\n",
      "[1, 13, 78, 286, 715, 1287, 1716, 1716, 1287, 715, 286, 78, 13, 1]\n",
      "[1, 14, 91, 364, 1001, 2002, 3003, 3432, 3003, 2002, 1001, 364, 91, 14, 1]\n",
      "[1, 15, 105, 455, 1365, 3003, 5005, 6435, 6435, 5005, 3003, 1365, 455, 105, 15, 1]\n",
      "[1, 16, 120, 560, 1820, 4368, 8008, 11440, 12870, 11440, 8008, 4368, 1820, 560, 120, 16, 1]\n",
      "[1, 17, 136, 680, 2380, 6188, 12376, 19448, 24310, 24310, 19448, 12376, 6188, 2380, 680, 136, 17, 1]\n",
      "[1, 18, 153, 816, 3060, 8568, 18564, 31824, 43758, 48620, 43758, 31824, 18564, 8568, 3060, 816, 153, 18, 1]\n",
      "[1, 19, 171, 969, 3876, 11628, 27132, 50388, 75582, 92378, 92378, 75582, 50388, 27132, 11628, 3876, 969, 171, 19, 1]\n",
      "[1, 20, 190, 1140, 4845, 15504, 38760, 77520, 125970, 167960, 184756, 167960, 125970, 77520, 38760, 15504, 4845, 1140, 190, 20, 1]\n"
     ]
    }
   ],
   "source": [
    "for n in range(21):\n",
    "    linea_n = []\n",
    "    for k in range(n+1):\n",
    "        linea_n.append(binomial(n,k))\n",
    "    print(linea_n)\n",
    "        "
   ]
  },
  {
   "cell_type": "markdown",
   "metadata": {},
   "source": [
    "- Escriba una función que imprima los números primos. Considere los siguientes hechos:\n",
    "  - Un número $n$ es primo si no tiene factores menores que $n$. Así solo necesitamos revisar si es divisible entre otros primos.\n",
    "  - Si un número $n$ es no primo, existe un factor $r$ tal que $n=rs$, donde $s$ también es un factor. Si $r\\ge\\sqrt{n}$ entonces $n=rs\\ge\\sqrt{n}s$, lo que implica que $s\\le\\sqrt{n}$. En otras palabras, cualesquiera no primo debe tener factores y entonces también factores primos, menores o iguales a $\\sqrt{n}$. Entonces para determinar si un número es primo tenemos que verificar sus factores primos solo hasta (e incluyendo) $\\sqrt{n}$.\n",
    "  - Si encontramos incluso un solo factor primo menor que $\\sqrt{n}$ entonces sabemos que el número es un no primo y podemos continuar.\n"
   ]
  },
  {
   "cell_type": "code",
   "execution_count": 39,
   "metadata": {},
   "outputs": [
    {
     "data": {
      "text/plain": [
       "True"
      ]
     },
     "execution_count": 39,
     "metadata": {},
     "output_type": "execute_result"
    }
   ],
   "source": [
    "def isPrime(n):\n",
    "    if n<=1:\n",
    "        return False\n",
    "    elif n==2:\n",
    "        return True\n",
    "    elif n%2==0:\n",
    "        return False\n",
    "    else:\n",
    "        for i in range(3,int(np.sqrt(n))+1,2):\n",
    "            if n % i ==0:\n",
    "                return False\n",
    "    return True\n",
    "\n",
    "isPrime(313)\n",
    "            "
   ]
  },
  {
   "cell_type": "markdown",
   "metadata": {},
   "source": [
    "Encuentre los primos en el rango 1 y 10000."
   ]
  },
  {
   "cell_type": "code",
   "execution_count": 40,
   "metadata": {},
   "outputs": [
    {
     "name": "stdout",
     "output_type": "stream",
     "text": [
      "[2, 3, 5, 7, 11, 13, 17, 19, 23, 29, 31, 37, 41, 43, 47, 53, 59, 61, 67, 71, 73, 79, 83, 89, 97, 101, 103, 107, 109, 113, 127, 131, 137, 139, 149, 151, 157, 163, 167, 173, 179, 181, 191, 193, 197, 199, 211, 223, 227, 229, 233, 239, 241, 251, 257, 263, 269, 271, 277, 281, 283, 293, 307, 311, 313, 317, 331, 337, 347, 349, 353, 359, 367, 373, 379, 383, 389, 397, 401, 409, 419, 421, 431, 433, 439, 443, 449, 457, 461, 463, 467, 479, 487, 491, 499, 503, 509, 521, 523, 541, 547, 557, 563, 569, 571, 577, 587, 593, 599, 601, 607, 613, 617, 619, 631, 641, 643, 647, 653, 659, 661, 673, 677, 683, 691, 701, 709, 719, 727, 733, 739, 743, 751, 757, 761, 769, 773, 787, 797, 809, 811, 821, 823, 827, 829, 839, 853, 857, 859, 863, 877, 881, 883, 887, 907, 911, 919, 929, 937, 941, 947, 953, 967, 971, 977, 983, 991, 997]\n"
     ]
    }
   ],
   "source": [
    "primos = []\n",
    "for i in range(1001):\n",
    "    if isPrime(i)==True:\n",
    "        primos.append(i)\n",
    "print(primos)"
   ]
  },
  {
   "cell_type": "markdown",
   "metadata": {},
   "source": [
    "## 3. Graficación"
   ]
  },
  {
   "cell_type": "markdown",
   "metadata": {},
   "source": [
    "Para graficar podemos usar el paquete matplotlib, en particular el modulo pyplot. Para esto necesitamos importarlo, lo vamos a importar de la siguiente manera."
   ]
  },
  {
   "cell_type": "raw",
   "metadata": {},
   "source": [
    "import matplotlib.pyplot as plt"
   ]
  },
  {
   "cell_type": "code",
   "execution_count": 41,
   "metadata": {},
   "outputs": [],
   "source": [
    "import matplotlib.pyplot as plt"
   ]
  },
  {
   "cell_type": "markdown",
   "metadata": {},
   "source": [
    "Las funciones más comunes son las siguientes, averigua y llena la siguiente tabla"
   ]
  },
  {
   "cell_type": "raw",
   "metadata": {},
   "source": [
    "plt.plot(x,y)                    - grafica y vs x\n",
    "plt.title('text')\n",
    "plt.xlabel('text')\n",
    "plt.ylabel('text')\n",
    "plt.legend(['thing1','thing2'])\n",
    "plt.show()\n"
   ]
  },
  {
   "cell_type": "markdown",
   "metadata": {},
   "source": [
    "Graficas las siguientes funciones:\n",
    "\n",
    "- $f(x)=exp(-x/5)*sin(x)$\n",
    "- $f(x)=exp(-x/5)*sin(x)$ junto con $f(x)=exp(-x/5)$\n",
    "- $f(x)=exp(-x)*sin^2(x)$\n",
    "\n",
    "Que como título de la gráfica apareza la función que se grafica, que en el eje y diga 'f(x)' y en el x 'x'. El dominio de todas las funciones es de 0 a 20."
   ]
  },
  {
   "cell_type": "code",
   "execution_count": 42,
   "metadata": {},
   "outputs": [
    {
     "data": {
      "image/png": "[encoded data removed]",
      "text/plain": [
       "<matplotlib.figure.Figure at 0x7f17e0203a58>"
      ]
     },
     "metadata": {},
     "output_type": "display_data"
    }
   ],
   "source": [
    "x = np.linspace(0,20,1000)\n",
    "plt.plot(x,np.exp(-x/5.)*np.sin(x))\n",
    "plt.xlabel('x')\n",
    "plt.ylabel('f(x)')\n",
    "plt.title(r'$e^{-x/5}\\sin(x)$')\n",
    "plt.show()"
   ]
  },
  {
   "cell_type": "code",
   "execution_count": 43,
   "metadata": {},
   "outputs": [
    {
     "data": {
      "image/png": "[encoded data removed]",
      "text/plain": [
       "<matplotlib.figure.Figure at 0x7f17dfc84f98>"
      ]
     },
     "metadata": {},
     "output_type": "display_data"
    }
   ],
   "source": [
    "plt.plot(x,np.exp(-x/5.)*np.sin(x), label = r'$e^{-x/5}\\sin(x)$')\n",
    "plt.plot(x,np.exp(-x/5), label = r'$e^{-x/5}$')\n",
    "plt.xlabel('x')\n",
    "plt.ylabel('f(x)')\n",
    "plt.title(r'$e^{-x/5}\\sin(x)$ junto con $e^{-x/5}$')\n",
    "plt.legend()\n",
    "plt.show()"
   ]
  },
  {
   "cell_type": "code",
   "execution_count": 44,
   "metadata": {},
   "outputs": [
    {
     "data": {
      "image/png": "[encoded data removed]",
      "text/plain": [
       "<matplotlib.figure.Figure at 0x7f17dfb63630>"
      ]
     },
     "metadata": {},
     "output_type": "display_data"
    }
   ],
   "source": [
    "plt.plot(x,np.exp(-x)*np.sin(x)**2.)\n",
    "plt.xlabel('x')\n",
    "plt.ylabel('f(x)')\n",
    "plt.title(r'$e^{-x}\\sin^2(x)$')\n",
    "plt.show()"
   ]
  },
  {
   "cell_type": "markdown",
   "metadata": {},
   "source": [
    "Estas son otras funciones cuyo funcionamiento es evidente, llene la tabla diciendo para que sirven. Si no es evidente use python para averiguar como funcionan."
   ]
  },
  {
   "cell_type": "raw",
   "metadata": {},
   "source": [
    "plt.loglog(x,y): Gráfica utilizando escala logaritmica en ambos ejes\n",
    "plt.semilogx(x,Y): Gráfica utilizando escala logaritmica en el eje x\n",
    "plt.semilogy(x,Y): Gráfica utilizando escala logaritmica en el eje x\n",
    "plt.polar(theta,rho): Gráfica utilizando coordenadas polares\n",
    "plt.contour(z): Grafica lineas de contorno del arreglo z."
   ]
  },
  {
   "cell_type": "markdown",
   "metadata": {},
   "source": [
    "### Ejercicio"
   ]
  },
  {
   "cell_type": "markdown",
   "metadata": {},
   "source": [
    "1.- Dados tres puntos, el polinomio de Langrange. $p(x)=\\dfrac{(x-x_2)(x-x_3)}{(x_1-x_2)(x_1-x_3)}y_1+\\dfrac{(x-x_1)(x-x_3)}{(x_2-x_1)(x_2-x_3)}y_2+\\dfrac{(x-x_1)(x-x_2)}{(x_3-x_1)(x_3-x_2)}y_3$ pasa por los tres. ¿Porqué funciona?\n"
   ]
  },
  {
   "cell_type": "markdown",
   "metadata": {},
   "source": [
    "Si evaluamos p(x) en ($x_1$) notaremos que el segundo y tercer términos de la suma se hacen cero, mientras que el termino que multiplica a $y_1$, se hace 1, es decir al evaluar p(x) en $x_1$ obtenemos $y_1$, esto es igual para los otros puntos, al evaluar en $x_2$ obtenemos $y_2$ y al evaluar en $x_3$ obtenemos $y_3$, esta propiedad nos asegura que el polinomio de Lagrange pasa por lo tres puntos."
   ]
  },
  {
   "cell_type": "markdown",
   "metadata": {},
   "source": [
    "2.- Escriba una función 'interpola' que a partir de tres puntos en un plano encuentre una curva que pase por todos ellos, y asì se encuentre la interpolación en el dominio {xmin,xmax}. Use $p(x)$. Finalmente grafique la interpolación y marque los puntos orginales."
   ]
  },
  {
   "cell_type": "code",
   "execution_count": 45,
   "metadata": {},
   "outputs": [],
   "source": [
    "def Lagrange(A,B,C,x):\n",
    "    p  = (x-B[0])*(x-C[0])*A[1]/((A[0]-B[0])*(A[0]-C[0]))\n",
    "    p += (x-A[0])*(x-C[0])*B[1]/((B[0]-A[0])*(B[0]-C[0]))\n",
    "    p += (x-A[0])*(x-B[0])*C[1]/((C[0]-A[0])*(C[0]-B[0]))\n",
    "    return p\n",
    "\n",
    "def Interpola(A,B,C):\n",
    "    xmin = min(A[0],B[0],C[0])\n",
    "    xmax = max(A[0],B[0],C[0]) \n",
    "    X = np.linspace(xmin,xmax,1000)\n",
    "    plt.plot(X,Lagrange(A,B,C,X))\n",
    "    plt.plot(A[0],A[1],'ro',B[0],B[1],'ro',C[0],C[1],'ro')\n",
    "    plt.xlabel('x')\n",
    "    plt.ylabel('f(x)')\n",
    "    plt.title('Método de Lagrange')\n",
    "    plt.show()\n",
    "    return"
   ]
  },
  {
   "cell_type": "markdown",
   "metadata": {},
   "source": [
    "3.- Use su programa para interpolar de -3 a 3 dados los puntos $(-1,1)$, $(\\dfrac{1}{2},\\dfrac{1}{4})$ y $(2,4)$."
   ]
  },
  {
   "cell_type": "code",
   "execution_count": 46,
   "metadata": {},
   "outputs": [
    {
     "data": {
      "image/png": "[encoded data removed]",
      "text/plain": [
       "<matplotlib.figure.Figure at 0x7f17dfb965f8>"
      ]
     },
     "metadata": {},
     "output_type": "display_data"
    }
   ],
   "source": [
    "A = [-1.,1.]\n",
    "B = [1./2,1./4]\n",
    "C = [2.,4.]\n",
    "Interpola(A,B,C)"
   ]
  }
 ],
 "metadata": {
  "kernelspec": {
   "display_name": "Python 3",
   "language": "python",
   "name": "python3"
  },
  "language_info": {
   "codemirror_mode": {
    "name": "ipython",
    "version": 3
   },
   "file_extension": ".py",
   "mimetype": "text/x-python",
   "name": "python",
   "nbconvert_exporter": "python",
   "pygments_lexer": "ipython3",
   "version": "3.6.3"
  }
 },
 "nbformat": 4,
 "nbformat_minor": 2
}
