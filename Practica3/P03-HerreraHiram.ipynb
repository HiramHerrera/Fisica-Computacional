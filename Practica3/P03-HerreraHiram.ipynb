{
 "cells": [
  {
   "cell_type": "markdown",
   "metadata": {},
   "source": [
    "# Práctica 3. Errores e incertidumbres."
   ]
  },
  {
   "cell_type": "markdown",
   "metadata": {},
   "source": [
    "## 1. Introducción. Representaciones de los números en la computadora."
   ]
  },
  {
   "cell_type": "markdown",
   "metadata": {},
   "source": [
    "### 1.-Ejercicios de desbordamiento (overflow underflow)"
   ]
  },
  {
   "cell_type": "markdown",
   "metadata": {},
   "source": [
    "1.- Los números en la computadora tienen un límite, determinemos el límite de python aquí en jupyter. Escriba un codigo que defina las variable maximo y minimo igual a 1 (flotante) (ambas), itere n-veces un procedimiento que multiplique maximo por 2 y minimo por dos. Encuentre n tal que máximo y mínimo producen un desbordamiento. "
   ]
  },
  {
   "cell_type": "code",
   "execution_count": 1,
   "metadata": {},
   "outputs": [
    {
     "name": "stdout",
     "output_type": "stream",
     "text": [
      "1024\n"
     ]
    }
   ],
   "source": [
    "import numpy as np\n",
    "import math as math\n",
    "maximo = 1.\n",
    "minimo = 1.\n",
    "n = 0\n",
    "while math.isinf(maximo) != True and minimo != -np.inf:\n",
    "    maximo *=  2.\n",
    "    minimo *= -2.\n",
    "    n +=1\n",
    "print(n)"
   ]
  },
  {
   "cell_type": "raw",
   "metadata": {},
   "source": [
    "n=1024"
   ]
  },
  {
   "cell_type": "markdown",
   "metadata": {},
   "source": [
    "Encuentre el número de iteraciones para crear un desbordamiento con numero enteros."
   ]
  },
  {
   "cell_type": "code",
   "execution_count": 2,
   "metadata": {},
   "outputs": [
    {
     "ename": "KeyboardInterrupt",
     "evalue": "",
     "output_type": "error",
     "traceback": [
      "\u001b[0;31m---------------------------------------------------------------------------\u001b[0m",
      "\u001b[0;31mKeyboardInterrupt\u001b[0m                         Traceback (most recent call last)",
      "\u001b[0;32m<ipython-input-2-7802110b70c4>\u001b[0m in \u001b[0;36m<module>\u001b[0;34m()\u001b[0m\n\u001b[1;32m      4\u001b[0m \u001b[0;32mfor\u001b[0m \u001b[0mi\u001b[0m \u001b[0;32min\u001b[0m \u001b[0mrange\u001b[0m\u001b[0;34m(\u001b[0m\u001b[0mn\u001b[0m\u001b[0;34m)\u001b[0m\u001b[0;34m:\u001b[0m\u001b[0;34m\u001b[0m\u001b[0m\n\u001b[1;32m      5\u001b[0m     \u001b[0mmaximo\u001b[0m \u001b[0;34m+=\u001b[0m \u001b[0;36m1\u001b[0m\u001b[0;34m\u001b[0m\u001b[0m\n\u001b[0;32m----> 6\u001b[0;31m     \u001b[0mminimo\u001b[0m \u001b[0;34m-=\u001b[0m \u001b[0;36m1\u001b[0m\u001b[0;34m\u001b[0m\u001b[0m\n\u001b[0m\u001b[1;32m      7\u001b[0m \u001b[0mprint\u001b[0m\u001b[0;34m(\u001b[0m\u001b[0mmaximo\u001b[0m\u001b[0;34m)\u001b[0m\u001b[0;34m\u001b[0m\u001b[0m\n\u001b[1;32m      8\u001b[0m \u001b[0;34m\u001b[0m\u001b[0m\n",
      "\u001b[0;31mKeyboardInterrupt\u001b[0m: "
     ]
    }
   ],
   "source": [
    "maximo = 1\n",
    "minimo = 1\n",
    "n = 2147483647\n",
    "for i in range(n):\n",
    "    maximo += 1\n",
    "    minimo -= 1\n",
    "print(maximo)\n",
    "    "
   ]
  },
  {
   "cell_type": "markdown",
   "metadata": {},
   "source": [
    "### 2.- Precisión de la máquina"
   ]
  },
  {
   "cell_type": "markdown",
   "metadata": {},
   "source": [
    "Determine de manera experimental la presición de la maquina para. "
   ]
  },
  {
   "cell_type": "markdown",
   "metadata": {},
   "source": [
    "números flotantes:"
   ]
  },
  {
   "cell_type": "raw",
   "metadata": {},
   "source": [
    "Presición de la máquina para floantes: 5e-324"
   ]
  },
  {
   "cell_type": "code",
   "execution_count": 3,
   "metadata": {},
   "outputs": [
    {
     "name": "stdout",
     "output_type": "stream",
     "text": [
      "5e-324\n"
     ]
    }
   ],
   "source": [
    "n = 1.\n",
    "while n!=0:\n",
    "    precc = n\n",
    "    n/=2.\n",
    "print(precc)"
   ]
  },
  {
   "cell_type": "raw",
   "metadata": {},
   "source": [
    "números complejos:"
   ]
  },
  {
   "cell_type": "raw",
   "metadata": {},
   "source": [
    "Presición de la máquina para complejos: (5e-324+5e-324j)"
   ]
  },
  {
   "cell_type": "code",
   "execution_count": 4,
   "metadata": {},
   "outputs": [
    {
     "name": "stdout",
     "output_type": "stream",
     "text": [
      "(5e-324+5e-324j)\n"
     ]
    }
   ],
   "source": [
    "n = complex(1. + 1.j)\n",
    "while n!=0:\n",
    "    precc = n\n",
    "    n/=2.\n",
    "print(precc)"
   ]
  },
  {
   "cell_type": "markdown",
   "metadata": {},
   "source": [
    "### 3.- Suma de Series"
   ]
  },
  {
   "cell_type": "markdown",
   "metadata": {},
   "source": [
    "Un ejemplo numérico clásico es la suma de seriesm infinitas para evaluar una función. Por ejemplo para evaluar el $\\sin(x)$:"
   ]
  },
  {
   "cell_type": "markdown",
   "metadata": {},
   "source": [
    "$\\sin(x)=x-\\dfrac{x^3}{3!}+\\dfrac{x^5}{5!}-\\dfrac{x^7}{7!}+...$ (exacto)"
   ]
  },
  {
   "cell_type": "markdown",
   "metadata": {},
   "source": [
    "El problema es evaluar esta serie para $x<2\\pi$ y $x>2\\pi$ con un error absoluto cero o con menos de 1 parte en $10^8$. ¿Cuando debemos dejar de sumar términos?"
   ]
  },
  {
   "cell_type": "markdown",
   "metadata": {},
   "source": [
    "$\\sin(x) \\approx \\sum_{n=1}^{N}\\dfrac{(-1)^{n-1}x^{2n-1}}{(2n-1)!}$ (algoritmo)"
   ]
  },
  {
   "cell_type": "raw",
   "metadata": {
    "collapsed": true
   },
   "source": [
    "R= Debemos dejar de sumar hasta el 9no termino"
   ]
  },
  {
   "cell_type": "markdown",
   "metadata": {},
   "source": [
    "Escriba un algoritmo que evalue la suma anterior."
   ]
  },
  {
   "cell_type": "code",
   "execution_count": 5,
   "metadata": {},
   "outputs": [
    {
     "name": "stdout",
     "output_type": "stream",
     "text": [
      "1.0\n",
      "9\n",
      "0.9999999999939768\n"
     ]
    }
   ],
   "source": [
    "from math import factorial\n",
    "x = np.pi/2.\n",
    "print(np.sin(x))\n",
    "n = 1 \n",
    "sin = 0. \n",
    "sin_old = 1.\n",
    "while(abs(sin-sin_old)> 1e-8):\n",
    "    sin_old = sin\n",
    "    sin += (-1.)**(n-1)*x**(2.*n-1.)/(factorial(2.*n-1))\n",
    "    n += 1\n",
    "print(n)\n",
    "print(sin)\n",
    "    "
   ]
  },
  {
   "cell_type": "markdown",
   "metadata": {},
   "source": [
    "Si se quiere escribir un algoritmo para evaluar la suma anterior, podemos evaluar el cociente primero evaluando el número $(-1)^{n-1}x^{2n-1}$ y luego dividiendolo entre  $(2n-1)!$, sin emabrgo este método no es eficiente por las siguiente razones:\n",
    "1.- Tanto el numerador como el denominador pueden ser muy grandes causando un desbordamiento, sin embargo puede ser que el cociente entre ambos sea pequeño. \n",
    "2.- Las potencias y los factoriales son muy costosos computacionalmente hablando.\n",
    "Entonces reescribimos para evaluar de manera más eficiente, relacionando el siguiente término con el anterior.\n",
    "\n",
    "$\\dfrac{(-1)^{n-1}x^{2n-1}}{(2n-1)!}=\\dfrac{-x^2}{(2n-1)(2n-2)}\\dfrac{(-1)^{n-2}x^{2n-3}}{(2n-3)!}$\n",
    "\n",
    "Así el \n",
    "\n",
    "$n$-ésimo término$= \\dfrac{-x^2}{(2n-1)(2n-2)}\\times(n-1)$-ésimo término\n",
    "\n",
    "Escriba un código que evalue la suma anterior con una presición de $10^{-8}$"
   ]
  },
  {
   "cell_type": "code",
   "execution_count": 6,
   "metadata": {},
   "outputs": [
    {
     "name": "stdout",
     "output_type": "stream",
     "text": [
      "-0.5033697681608892\n",
      "16\n"
     ]
    }
   ],
   "source": [
    "x = 6\n",
    "term = x \n",
    "sin = x\n",
    "tol = 1e-8\n",
    "n = 2\n",
    "while abs(term/sin) > tol:\n",
    "    term = -term * x**2./((2.*n+1)*(2.*n-2))\n",
    "    sin += term\n",
    "    n+=1\n",
    "print(sin)\n",
    "print(n)\n",
    "                        "
   ]
  },
  {
   "cell_type": "markdown",
   "metadata": {
    "collapsed": true
   },
   "source": [
    "Muestre que para valores suficientemente pqueños de $x$ el algoritmo converge y converge a la respuesta correcta."
   ]
  },
  {
   "cell_type": "code",
   "execution_count": 7,
   "metadata": {},
   "outputs": [
    {
     "name": "stdout",
     "output_type": "stream",
     "text": [
      "0.3936364632658009\n",
      "6\n"
     ]
    }
   ],
   "source": [
    "x = 0.4\n",
    "term = x \n",
    "sin = x\n",
    "tol = 1e-8\n",
    "n = 2\n",
    "while abs(term/sin) > tol:\n",
    "    term = -term * x**2./((2.*n+1)*(2.*n-2))\n",
    "    sin += term\n",
    "    n+=1\n",
    "print(sin)\n",
    "print(n)\n",
    "           "
   ]
  },
  {
   "cell_type": "raw",
   "metadata": {},
   "source": [
    "Vemos que el algoritmo converge, y como sabemos que para valores pequeños de x, sin(x) = x, el algoritmo converge a la respuesta correcta."
   ]
  },
  {
   "cell_type": "markdown",
   "metadata": {},
   "source": [
    "Muestre que para valores de $x$ donde el algoritmo converge pero a la respuesta erronea."
   ]
  },
  {
   "cell_type": "code",
   "execution_count": 8,
   "metadata": {},
   "outputs": [
    {
     "name": "stdout",
     "output_type": "stream",
     "text": [
      "0.23540082540670332\n",
      "22\n"
     ]
    }
   ],
   "source": [
    "x = 10\n",
    "term = x \n",
    "sin = x\n",
    "tol = 1e-8\n",
    "n = 2\n",
    "while abs(term/sin) > tol:\n",
    "    term = -term * x**2./((2.*n+1)*(2.*n-2))\n",
    "    sin += term\n",
    "    n+=1\n",
    "print(sin)\n",
    "print(n)"
   ]
  },
  {
   "cell_type": "markdown",
   "metadata": {},
   "source": [
    "Este es un buen ejemplo pues el valor teórico de sin(10) = - 0.54402, mientras que el resultado obtenido no es el correcto, por lo que este es un buen ejemplo de que el algoritmo converge pero no al resultado correcto."
   ]
  },
  {
   "cell_type": "markdown",
   "metadata": {},
   "source": [
    "Muestre que hay valores de $x$ para los cuales el algoritmo ni siquera converge."
   ]
  },
  {
   "cell_type": "code",
   "execution_count": 9,
   "metadata": {},
   "outputs": [
    {
     "name": "stdout",
     "output_type": "stream",
     "text": [
      "-7.302780743612824e+240\n",
      "438\n"
     ]
    }
   ],
   "source": [
    "x = 600\n",
    "term = x \n",
    "sin = x\n",
    "tol = 1e-8\n",
    "n = 2\n",
    "while abs(term/sin) > tol:\n",
    "    term = -term * x**2./((2.*n+1)*(2.*n-2))\n",
    "    sin += term\n",
    "    n+=1\n",
    "print(sin)\n",
    "print(n)\n",
    "           "
   ]
  },
  {
   "cell_type": "markdown",
   "metadata": {},
   "source": [
    "En este último ejercicio vemos que para x muy grandes, el algoritmo no converge, incluso puede llegar a un overflow."
   ]
  },
  {
   "cell_type": "markdown",
   "metadata": {},
   "source": [
    "Use la identidad $\\sin(x+2n\\pi)=\\sin(x)$ para mostrar que el algoritmo converge incluso para $x$ grande."
   ]
  },
  {
   "cell_type": "code",
   "execution_count": 10,
   "metadata": {},
   "outputs": [
    {
     "name": "stdout",
     "output_type": "stream",
     "text": [
      "1.5045010733191688\n",
      "1.1903588118085322\n",
      "8\n"
     ]
    }
   ],
   "source": [
    "x = 900.\n",
    "if (x> 2.*np.pi):\n",
    "     x %= (2.*np.pi)\n",
    "print(x)\n",
    "term = x\n",
    "sin = x\n",
    "tol = 1e-8\n",
    "n = 2\n",
    "while abs(term/sin) > tol:\n",
    "    term = -term * x**2./((2.*n+1)*(2.*n-2))\n",
    "    sin += term\n",
    "    n+=1\n",
    "print(sin)\n",
    "print(n)"
   ]
  },
  {
   "cell_type": "markdown",
   "metadata": {},
   "source": [
    "Esta vez vemos que el algoritmo converge para x muy grande."
   ]
  },
  {
   "cell_type": "markdown",
   "metadata": {},
   "source": [
    "## 2.- Errores "
   ]
  },
  {
   "cell_type": "markdown",
   "metadata": {},
   "source": [
    "### 1.- Cancelación por sustracción"
   ]
  },
  {
   "cell_type": "markdown",
   "metadata": {},
   "source": [
    "Cálculos que involucran números que están guardados aproximadamente solo pueden arrojar resultados aproximados. Para desmostrar el efecto de este tipo de incertidumbre, modelamos la representación computacional de algún número exacto $x_c$ como sigue,\n",
    "\n",
    "$x_c\\approx x(1+\\epsilon_x)$\n",
    "\n",
    "Aquí $\\epsilon_x$ es el error relativo de $x_c$, que esperamos que sea de magnitud similar a la precisión de la máquina $\\epsilon_m$\n",
    "\n",
    "Ejemplo de sustracción:\n",
    "$a=b+c$\n",
    "en la máquina se convierte en:\n",
    "\n",
    "$a_c = b_c - c_c \\approx b(1+\\epsilon_b) - c(1+\\epsilon_c)$\n",
    "\n",
    "Así\n",
    "\n",
    "$\\dfrac{a_c}{a}=1+\\epsilon_b\\dfrac{b}{a}-\\dfrac{c}{a}\\epsilon_c$"
   ]
  },
  {
   "cell_type": "markdown",
   "metadata": {},
   "source": [
    "1.- De esta última expresión vemos que el error resultante en $a$ es esencialemnte el promedio pesado de los errores de $b$ y $c$, sin ninguna garantia de que los dos últimos números se cancelen.\n",
    "\n",
    "De especial importancia es la observación de que el error en la respuesta $a$ incrementa cuando $b$ se aproxima a $c$ ya que estamos sustrayendo la parte significativa de ambos números y dejando el error:\n",
    "\n",
    "\n",
    "$\\dfrac{a_c}{a} \\approx 1 + \\epsilon_a \\approx a +\\dfrac{b}{a}(\\epsilon_a-\\epsilon_b) \\approx 1 + \\dfrac{b}{a}\\max(|\\epsilon_a|,|\\epsilon_c|)$\n",
    "\n",
    "Asumimos el peor caso, por eso tomamos el máximo."
   ]
  },
  {
   "cell_type": "markdown",
   "metadata": {},
   "source": [
    "Considere la ecuación cuadrática dada por:\n",
    "\n",
    "$ax^2 + bx + c = 0$\n",
    "\n",
    "Por inspección podemos ver que el error aumenta cuando $b^2\\gg 4ac$ ¿Porqué?"
   ]
  },
  {
   "cell_type": "raw",
   "metadata": {},
   "source": [
    "R= Por que si b>>4ac, los términos de la formula general para la solución de ecuaciones cuadraticas se cancelan para una de las raices, obteniendo un número cercano a 0, en lugar del valor real."
   ]
  },
  {
   "cell_type": "markdown",
   "metadata": {},
   "source": [
    "1.- Escriba un código que encuentre la solución de la ecuación cuadrática para $a$, $b$, y $c$ dados."
   ]
  },
  {
   "cell_type": "code",
   "execution_count": 11,
   "metadata": {},
   "outputs": [],
   "source": [
    "def Fact(a,b,c):\n",
    "    x1 = (-b + np.sqrt(b**2. - 4.*a*c))/(2.*a)\n",
    "    x2 = (-b - np.sqrt(b**2. - 4.*a*c))/(2.*a)\n",
    "    print(x1,x2)\n",
    "    return"
   ]
  },
  {
   "cell_type": "markdown",
   "metadata": {},
   "source": [
    "2.- Estudie como el error en la respuesta aumenta cuando el error de sustracción aumenta. (Pista: una buena prueba es hacer $a=1$, $b=1$ y $c=10^{-n}$ con $n=1,2,3...$). Compare el resultado con la presición de la máquina."
   ]
  },
  {
   "cell_type": "code",
   "execution_count": 12,
   "metadata": {
    "scrolled": true
   },
   "outputs": [
    {
     "name": "stdout",
     "output_type": "stream",
     "text": [
      "-0.112701665379 -0.887298334621\n",
      "-0.00100100200501 -0.998998997995\n",
      "-1.00000009995e-07 -0.9999999\n",
      "-1.11022302463e-16 -1.0\n"
     ]
    }
   ],
   "source": [
    "Fact(1,1,1e-1)\n",
    "Fact(1,1,1e-3)\n",
    "Fact(1,1,1e-7)\n",
    "Fact(1,1,1e-16)"
   ]
  },
  {
   "cell_type": "markdown",
   "metadata": {},
   "source": [
    "Sustracción en Series. Otro ejemplo de suma de series es el siguiente, considere la suma finita:\n",
    "\n",
    "$S_N^{(1)}=\\sum_{n=1}^{2n}(-1)^n\\dfrac{n}{n+1}$\n",
    "\n",
    "Esta suma se puede evaluar de forma alternativa, separando en pares e impares y así guardando la resta para el final.\n",
    "\n",
    "$S_N^{(2)}=-\\sum_{n=1}^{N}\\dfrac{2n-1}{2n}+\\sum_{n=1}^{N}\\dfrac{2n}{2n+1}$\n",
    "\n",
    "Sin embargo también se puede realizar la resta de manera analítica y escribir:\n",
    "\n",
    "$S_N^{(3)}=-\\sum_{n=1}^{N}\\dfrac{1}{2n(2n+1)}$.\n",
    "\n",
    "Aunque $S_N^{(1)}$, $S_N^{(2)}$ y $S_N^{(3)}$ son matemáticamente idénticas, ellas puden dar diferentes resultados numéricos.\n",
    "\n",
    "a) Escriba un código que evalue $S_N^{(1)}$, $S_N^{(2)}$ y $S_N^{(3)}$."
   ]
  },
  {
   "cell_type": "code",
   "execution_count": 13,
   "metadata": {},
   "outputs": [],
   "source": [
    "def S1(n):\n",
    "    suma = 0.\n",
    "    for i in range(1,2*n+1):\n",
    "        suma += (-1.)**i*(i/(i+1))\n",
    "    return suma\n",
    "def S2(n):\n",
    "    suma = 0.\n",
    "    for i in range(1,n):\n",
    "        par = -(2.*i-1)/(2*i)\n",
    "        impar = 2.*i/(2.*i+1)\n",
    "        suma += par + impar\n",
    "    return suma\n",
    "def S3(n):\n",
    "    suma = 0.\n",
    "    for i in range(1,n):\n",
    "        suma += 1./(2.*i*(2.*i+1))\n",
    "    return suma\n",
    "    \n",
    "        "
   ]
  },
  {
   "cell_type": "markdown",
   "metadata": {},
   "source": [
    "b) Asuma $S_N^{(3)}$ como correcta. Haga una gráfica de log-log del error relativo vs el número de términos, esto es\n",
    "\n",
    "$log_{10}|(S_N^{(1)}-S_N^{(3)})/S_N^{(3)}|$ vs $log_{10}(N)$\n",
    "\n",
    "Comience con $N=1$ y hasta $N=1,000,000$. Recuerde que $log_{10}=ln(x)/ln(10)$"
   ]
  },
  {
   "cell_type": "code",
   "execution_count": 14,
   "metadata": {},
   "outputs": [
    {
     "data": {
      "image/png": "[encoded data removed]",
      "text/plain": [
       "<matplotlib.figure.Figure at 0x7f66d9a306d8>"
      ]
     },
     "metadata": {},
     "output_type": "display_data"
    }
   ],
   "source": [
    "import matplotlib.pyplot as plt\n",
    "Error = []\n",
    "N = [10,100,1000,10000,100000,1000000,10000000]\n",
    "for i in N:\n",
    "    error = abs((S1(i) - S3(i))/S3(i))\n",
    "    Error.append(error)\n",
    "plt.loglog(N,Error)\n",
    "plt.xlabel('N')\n",
    "plt.ylabel('Error')\n",
    "plt.show()\n",
    "    "
   ]
  },
  {
   "cell_type": "markdown",
   "metadata": {},
   "source": [
    "c) Existe alguna región d ela gráfica donde hay comportamiento lineal. Esto indica que el error es proporcional a una potencia de $N$."
   ]
  },
  {
   "cell_type": "raw",
   "metadata": {},
   "source": [
    "R= Esta región se da entre las potencias de 0 hasta las potencias de 6, el error es proporcional a N al cuadrado"
   ]
  },
  {
   "cell_type": "markdown",
   "metadata": {},
   "source": [
    " 3.- Apesar del poder de su confiable computadora, incluso al calcular una suma se tiene que meditar y ser cuidadoso. Veamos el siguiente ejemplo:\n",
    " \n",
    " Considere las dos series:\n",
    " \n",
    " $S^{arriba}=\\sum_{n=1}^{N}\\dfrac{1}{n}$,     $S^{abajo}=\\sum_{n=N}^{1}\\dfrac{1}{n}$\n",
    " \n",
    " ¿Cuál de las dos espera que sea más precisa y porqué?"
   ]
  },
  {
   "cell_type": "raw",
   "metadata": {},
   "source": [
    "R= La suma hacia abajo, pues como iniciamos con números pequeños el error de redondeo no será tan grande al inicio, y no se arrastraran estos errores a lo largo de la suma, por otro lado la suma hacia arriba, tendrá cada vez más errores de redondeo."
   ]
  },
  {
   "cell_type": "markdown",
   "metadata": {},
   "source": [
    "a) Escriba un código que evalue $S^{arriba}$ y $S^{abajo}$ como función de $N$"
   ]
  },
  {
   "cell_type": "code",
   "execution_count": 15,
   "metadata": {},
   "outputs": [],
   "source": [
    "def Sup(N):\n",
    "    suma = 0.\n",
    "    for i in range(1,N+1):\n",
    "        suma += 1./i\n",
    "    return suma\n",
    "def Sdown(N):\n",
    "    suma = 0.\n",
    "    for i in range(N+1,0,-1):\n",
    "        suma += 1./i\n",
    "    return suma\n"
   ]
  },
  {
   "cell_type": "markdown",
   "metadata": {},
   "source": [
    "b) Haga una gráfica log-log para analizar el error de $log_{10}|(S^{arriba}-S^{abajo})/(|S^{arriba}|+|S^{abajo}|)|$ vs $N$."
   ]
  },
  {
   "cell_type": "code",
   "execution_count": 16,
   "metadata": {
    "scrolled": true
   },
   "outputs": [
    {
     "data": {
      "image/png": "[encoded data removed]",
      "text/plain": [
       "<matplotlib.figure.Figure at 0x7f66d9a30358>"
      ]
     },
     "metadata": {},
     "output_type": "display_data"
    }
   ],
   "source": [
    "Error = []\n",
    "N = [10,100,1000,10000,100000,1000000,10000000]\n",
    "for i in N:\n",
    "    error = abs(Sup(i)-Sdown(i))/(abs(Sup(i))+abs(Sdown(i)))\n",
    "    Error.append(error)\n",
    "plt.loglog(N,Error)\n",
    "plt.xlabel('N')\n",
    "plt.ylabel('Diferencia')\n",
    "plt.show()"
   ]
  },
  {
   "cell_type": "markdown",
   "metadata": {},
   "source": [
    "c) Observe el resultado del inciso anterior y explique las implicaciones de sus resultados."
   ]
  },
  {
   "cell_type": "raw",
   "metadata": {},
   "source": [
    "R= Entre más grande sea N la diferencia entre las funciones es más significativa, efectivamente Sdown es más precisa."
   ]
  },
  {
   "cell_type": "markdown",
   "metadata": {},
   "source": [
    "### 2. Errores de redondeo"
   ]
  },
  {
   "cell_type": "markdown",
   "metadata": {},
   "source": [
    "Analicemos ahora como surjen los errores en la división simple.\n",
    "\n",
    "$a=\\dfrac{b}{c}$\n",
    "\n",
    "entonces\n",
    "\n",
    "$a_c=\\dfrac{b_c}{c_c}=\\dfrac{b(1+\\epsilon_b)}{c(1+\\epsilon_c)}$\n",
    "\n",
    "así\n",
    "\n",
    "$\\dfrac{a_c}{a}=\\dfrac{1+\\epsilon_b}{a+\\epsilon_c} \\approx (1+\\epsilon_b)(1+\\epsilon_c) \\approx 1 + \\epsilon_b -\\epsilon_c$,\n",
    "\n",
    "por tanto\n",
    "\n",
    "$\\dfrac{a_c}{a} \\approx 1+ |\\epsilon_b| + |\\epsilon_c|.$\n",
    "\n",
    "Aquí hemos ignorado los términos cuadráticos y sumamos los valores absolutos de los errores porque no podemos asegurar que se van a cancelar. Podemos generalizar este modelo, para estimar el error de evaluación de una función general $f(x)$, esto es la diferencia entre la función evaluada en $x$ y en $x_c$\n",
    "\n",
    "$\\varepsilon=\\dfrac{f(x)-f(x_c)}{f(x)}\\approx\\dfrac{\\text{d}f(x)/\\text{d}x}{f(x)}(x-x_c)$\n",
    "\n",
    "Encuentre analícamente una expresión para el error al evaluar $f(x)=\\sqrt{1+x}$"
   ]
  },
  {
   "cell_type": "markdown",
   "metadata": {},
   "source": [
    "Error: $\\varepsilon=\\frac{1}{1+x}(x-x_c)$"
   ]
  },
  {
   "cell_type": "markdown",
   "metadata": {},
   "source": [
    "El error total relativo $\\epsilon_{er}$ que sruje después de $N$ cálculos cada uno con la presición de la máquina $\\epsilon_{m}$, es en promedio\n",
    "\n",
    "$\\epsilon_{er}\\approx\\sqrt{N}\\epsilon_m$.\n",
    "\n",
    "Esto solo ocurre para cuando el error ocurre de manera aleatoria. Si el error es coherente este puede tener otro factor, incluso $N!$"
   ]
  },
  {
   "cell_type": "markdown",
   "metadata": {},
   "source": [
    "1.- Error en la funciones Bessel. Evalue las funciones esféricas de Bessel y de Neumann, $j_l(x)$ y $n_l(x)$. Ellas son la soluciones regular e irregular de la ecuación diferencial\n",
    "\n",
    "$x^2f(x) + 2xf'(x) + [x^2 - l(l-1)]f(x)=0$.\n",
    "\n",
    "Tenemos las siguientes relaciones."
   ]
  },
  {
   "cell_type": "markdown",
   "metadata": {},
   "source": [
    "![Relaciones](P3-01.png)"
   ]
  },
  {
   "cell_type": "markdown",
   "metadata": {},
   "source": [
    "Adoptamos en método basado en las relaciones recurrencia siguientes."
   ]
  },
  {
   "cell_type": "markdown",
   "metadata": {},
   "source": [
    "![Recurrencia](P3-02.png)"
   ]
  },
  {
   "cell_type": "markdown",
   "metadata": {},
   "source": [
    "a) Escriba un código que evalue por recurrecion 'up' y 'down' $j_l(x)$ para $x=0.1,1 y 10$"
   ]
  },
  {
   "cell_type": "code",
   "execution_count": 21,
   "metadata": {},
   "outputs": [],
   "source": [
    "def Jldown(x,n):\n",
    "    J = np.zeros(n+2)\n",
    "    J[n+1] = J[n] = 1.0\n",
    "    for i in range(n,0,-1):\n",
    "        J[i-1] = ((2.*i +1)/x)*J[i] - J[i+1]\n",
    "    escala = (np.sin(x)/x)/J[0]\n",
    "    return J[n] * escala\n",
    "\n",
    "def Jlup(x,n):\n",
    "    J = np.zeros(n+2)\n",
    "    J[0] = np.sin(x)/x\n",
    "    J[1] = np.sin(x)/x**2. - np.cos(x)/x\n",
    "    for i in range(1,n+1):\n",
    "        J[i+1] = ((2.*i +1)/x)*J[i] - J[i-1]\n",
    "    return J[n]"
   ]
  },
  {
   "cell_type": "code",
   "execution_count": 22,
   "metadata": {},
   "outputs": [
    {
     "name": "stdout",
     "output_type": "stream",
     "text": [
      "9.65497593319e-06 9.51851727238e-06\n",
      "9.7038635154e-10 -1.44569836102e-08\n",
      "2.91827728655e-16 -0.0330655784901\n",
      "0.0103885306766 0.00900658111711\n",
      "0.000101199156321 9.25611585703e-05\n",
      "2.99453767106e-08 2.81790093482e-08\n",
      "1.20893580198 -0.0394958449845\n",
      "-0.0604837523919 -0.0555345116215\n",
      "0.0904240433668 0.12557802365\n"
     ]
    }
   ],
   "source": [
    "print(Jldown(0.1,3),Jlup(0.1,3))\n",
    "print(Jldown(0.1,5),Jlup(0.1,5))\n",
    "print(Jldown(0.1,8),Jlup(0.1,8))\n",
    "print(Jldown(1.,3),Jlup(1.,3))\n",
    "print(Jldown(1.,5),Jlup(1.,5))\n",
    "print(Jldown(1.,8),Jlup(1.,8))\n",
    "print(Jldown(10.,3),Jlup(10.,3))\n",
    "print(Jldown(10.,5),Jlup(10.,5))\n",
    "print(Jldown(10.,8),Jlup(10.,8))\n"
   ]
  },
  {
   "cell_type": "markdown",
   "metadata": {},
   "source": [
    "b) Ajuste su programa que para que dé buenos valores, es decir con errores realtivos de $\\approx 10_{-10}$."
   ]
  },
  {
   "cell_type": "code",
   "execution_count": null,
   "metadata": {},
   "outputs": [],
   "source": [
    "def Jldown(x,n):\n",
    "    J = np.zeros(n+2)\n",
    "    J[n+1] = J[n] = 0.01\n",
    "    for i in range(n,0,-1):\n",
    "        J[i-1] = ((2.*i +1)/x)*J[i] - J[i+1]\n",
    "    escala = (np.sin(x)/x)/J[0]\n",
    "    return J[n] * escala\n",
    "\n",
    "def Jlup(x,n):\n",
    "    J = np.zeros(n+2)\n",
    "    J[0] = np.sin(x)/x\n",
    "    J[1] = np.sin(x)/x**2. - np.cos(x)/x\n",
    "    for i in range(1,n+1):\n",
    "        J[i+1] = ((2.*i +1)/x)*J[i] - J[i-1]\n",
    "    return J[n]"
   ]
  },
  {
   "cell_type": "markdown",
   "metadata": {},
   "source": [
    "c) muestre la convergencia y estabilidad de sus resultados."
   ]
  },
  {
   "cell_type": "code",
   "execution_count": 23,
   "metadata": {},
   "outputs": [
    {
     "name": "stdout",
     "output_type": "stream",
     "text": [
      "0.00891399736961 -0.00563501918095\n",
      "-0.0005499171812 -0.000844705995447\n"
     ]
    }
   ],
   "source": [
    "print(Jlup(100,3),Jldown(100,3))\n",
    "print(Jlup(1000,5),Jldown(1000,5))"
   ]
  },
  {
   "cell_type": "markdown",
   "metadata": {},
   "source": [
    "d) Compare la diferencia realticva de los resultados de los métodos 'up' y 'down'."
   ]
  },
  {
   "cell_type": "code",
   "execution_count": 24,
   "metadata": {},
   "outputs": [
    {
     "name": "stdout",
     "output_type": "stream",
     "text": [
      "5 -1.44569836102e-08 9.7038635154e-10 1.0\n",
      "5 3.04382702376e-08 3.12973726715e-08 0.0139158254999\n",
      "5 2.32936544435e-07 2.39344975543e-07 0.0135690913939\n",
      "5 9.79038674312e-07 1.01491066489e-06 0.0179904222596\n",
      "5 2.97746589695e-06 3.11415382609e-06 0.0224386838578\n",
      "5 7.37756245433e-06 7.78508664697e-06 0.0268768465138\n",
      "5 1.58661150333e-05 1.6891651415e-05 0.0313066638191\n",
      "5 3.0755125254e-05 3.30344179957e-05 0.0357314479081\n",
      "5 5.50591967184e-05 5.96659747027e-05 0.0401549017292\n",
      "5 9.25611585703e-05 0.000101199156321 0.0445808407952\n",
      "5 0.000147864652106 0.000163106356496 0.0490132648014\n",
      "5 0.000226432578158 0.000252008310509 0.0534564100943\n",
      "5 0.000334610477993 0.000375750912336 0.0579147950646\n",
      "5 0.000479634099138 0.00054346885283 0.0623932846338\n",
      "5 0.000669620596283 0.000765635143869 0.0668971702395\n",
      "5 0.000913543019563 0.00105409594369 0.0714322732718\n",
      "5 0.00122118795172 0.00142209055206 0.0760050823447\n",
      "5 0.00160309636862 0.00188425705669 0.0806229406013\n",
      "5 0.00207048801121 0.00245662498994 0.0852943097813\n",
      "5 0.00263516977024 0.00315659770649 0.0900291557527\n",
      "5 0.00330942879436 0.00400292944501 0.0948395343813\n",
      "5 0.00410591123555 0.00501570611996 0.099740522865\n",
      "5 0.00503748774179 0.00621634694459 0.104751778896\n",
      "5 0.00611710699155 0.0076276613468 0.109900313927\n",
      "5 0.00735763873777 0.00927403682055 0.115225797669\n",
      "5 0.00877170798705 0.0111819425485 0.12079165951\n",
      "5 0.0103715220821 0.0133812660495 0.126711186524\n",
      "5 0.0121686925791 0.0159092165056 0.133219461436\n",
      "5 0.0141740539166 0.018824347579 0.140924816099\n",
      "5 0.016397480956 0.0222821065358 0.152137754339\n",
      "5 0.0188477075354 0.027814924881 0.19217127027\n",
      "5 0.0215321482184 0.0272898647898 0.117932797454\n",
      "5 0.0244567254331 0.0326803893718 0.143928582442\n",
      "5 0.0276257041906 0.0377448838271 0.154797133441\n",
      "5 0.0310415365374 0.0431636402144 0.163359272326\n",
      "5 0.034704717842 0.0490542651076 0.171319502222\n",
      "5 0.0386136569338 0.0554736313099 0.179195029327\n",
      "5 0.0427645620106 0.0624658792285 0.187220703305\n",
      "5 0.0471513441056 0.0700736277939 0.195540961254\n",
      "5 0.0517655397574 0.0783426764249 0.204269472347\n",
      "5 0.0565962543602 0.0873254816904 0.213513456503\n",
      "5 0.0616301274884 0.0970849628498 0.223386669067\n",
      "5 0.0668513212842 0.107699487885 0.234018775364\n",
      "5 0.0722415327846 0.119269912234 0.245564328779\n",
      "5 0.0777800308329 0.131929918685 0.258213251096\n",
      "5 0.08344371798 0.1458616917 0.272204540691\n",
      "5 0.0892072175333 0.161320455722 0.287845399479\n",
      "5 0.0950429856579 0.178674323719 0.305539091595\n",
      "5 0.100921448176 0.198471874534 0.325826993984\n",
      "5 0.106811161457 0.221562910042 0.34945435266\n",
      "5 0.112678996521 0.249328598567 0.37747716871\n",
      "5 0.118490345262 0.284157227726 0.411443886857\n",
      "5 0.124209347395 0.330537709723 0.453721160146\n",
      "5 0.129799136558 0.397965562937 0.508117398977\n",
      "5 0.135222103741 0.510505122769 0.581178868755\n",
      "5 0.14044017601 0.751782283062 0.685190224518\n",
      "5 0.145415108309 1.74590075254 0.846228637618\n",
      "5 0.150108785956 -2.44050180442 1.0\n",
      "5 0.154483535283 -0.551875103259 1.0\n",
      "5 0.158502439749 -0.243853525701 1.0\n",
      "5 0.162129658746 -0.114167292874 1.0\n",
      "5 0.16533074625 -0.0409933172095 1.0\n",
      "5 0.168072966392 0.00689064669228 0.921233374519\n",
      "5 0.17032560302 0.0411029267179 0.611188454379\n",
      "5 0.172060260321 0.0669398643537 0.439834063309\n",
      "5 0.173251151576 0.0871491687456 0.330652369105\n",
      "5 0.173875373228 0.103290089184 0.254668397102\n",
      "5 0.173913161478 0.116307669481 0.198488481363\n",
      "5 0.173348128765 0.126804471739 0.155066645929\n",
      "5 0.172167477632 0.135180805855 0.120341234242\n",
      "5 0.170362189611 0.141712240277 0.091804859964\n",
      "5 0.167927186998 0.146594907396 0.067824423094\n",
      "5 0.164861465556 0.149973243992 0.0472890094805\n",
      "5 0.161168196449 0.151957655298 0.029414821867\n",
      "5 0.156854795948 0.15263614289 0.0136309420678\n",
      "5 0.15193296172 0.152082176868 0.000490814861379\n",
      "5 0.146418674804 0.150360150421 0.0132808518733\n",
      "5 0.140332166656 0.14752922879 0.0250018316013\n",
      "5 0.133697850979 0.143646100228 0.0358697177507\n",
      "5 0.126544220323 0.138766954702 0.0460694291467\n",
      "5 0.118903707805 0.13294890444 0.0557675241486\n",
      "5 0.11081251457 0.126250990183 0.0651237972257\n",
      "5 0.10231040396 0.118734871833 0.0743036367278\n",
      "5 0.0934404636412 0.110465272603 0.0834935263467\n",
      "5 0.0842488372635 0.101510226122 0.0929235351654\n",
      "5 0.0747844274995 0.0919411626591 0.102904030169\n",
      "5 0.0650985725875 0.0818328615554 0.113891823527\n",
      "5 0.0552446987706 0.0712632907825 0.126621188658\n",
      "5 0.0452779512552 0.0603133501891 0.142392400968\n",
      "5 0.0352548065375 0.0490665320499 0.163798698452\n",
      "5 0.0252326691374 0.0376085104469 0.196938399173\n",
      "5 0.0152694559521 0.0260266695947 0.260489658536\n",
      "5 0.00542317158305 0.0144095802333 0.45310951972\n",
      "5 -0.00424852189629 0.00284643255231 1.0\n",
      "5 -0.0136887371801 -0.00857356634687 0.229768263965\n",
      "5 -0.0228417923742 -0.0197618227459 0.0722936215524\n",
      "5 -0.0316536364186 -0.0306310068647 0.016418646716\n",
      "5 -0.0400722656769 -0.0410957163314 0.0126090439755\n",
      "5 -0.0480481281213 -0.0510731453418 0.0305183450012\n",
      "5 -0.0555345116215 -0.0604837523919 0.0426591520963\n",
      "5 -0.0624879129505 -0.0692519195882 0.0513436711383\n",
      "5 -0.068868384262 -0.0773065966725 0.0577267898824\n",
      "5 -0.0746398539587 -0.0845819230663 0.0624416414221\n",
      "5 -0.079770419073 -0.0910178214351 0.0658558360262\n",
      "5 -0.0842326065013 -0.0965605565108 0.0681881427604\n",
      "5 -0.0880036006854 -0.101163253191 0.0695663761151\n",
      "5 -0.0910654356052 -0.10478636825 0.0700577292374\n",
      "5 -0.0934051492409 -0.107398110381 0.0696849302458\n",
      "5 -0.0950148989726 -0.10897480366 0.0684343597137\n",
      "5 -0.095892036715 -0.109501190039 0.0662590170995\n",
      "5 -0.0960391429199 -0.108970666886 0.0630775862815\n",
      "5 -0.095464018931 -0.107385456215 0.0587698699987\n",
      "5 -0.0941796375313 -0.104756702714 0.0531680897003\n",
      "5 -0.0922040518783 -0.101104498378 0.0460426943782\n",
      "5 -0.0895602633868 -0.0964578320862 0.0370800952557\n",
      "5 -0.0862760494697 -0.0908544631682 0.0258476850226\n",
      "5 -0.0823837523991 -0.0843407186451 0.0117377265243\n",
      "5 -0.077920030891 -0.0769712144958 0.00612569414649\n",
      "5 -0.0729255763422 -0.0688085019947 0.0290478789278\n",
      "5 -0.0674447959603 -0.0599226408353 0.059058699101\n",
      "5 -0.0615254653238 -0.0503907014331 0.0994920056086\n",
      "5 -0.0552183531782 -0.0402961994616 0.156229111735\n",
      "5 -0.0485768215251 -0.0297284663199 0.24070347896\n",
      "5 -0.041656404283 -0.0187819598545 0.378475571849\n",
      "5 -0.0345143679946 -0.00755552024685 0.640811014116\n",
      "5 -0.0272092582188 0.00384842345954 1.0\n",
      "5 -0.01980043538 0.0153246902032 1.0\n",
      "5 -0.0123476039482 0.0267662206554 1.0\n",
      "5 -0.00491033888962 0.0380649809904 1.0\n",
      "5 0.00245238663922 0.0491128894169 0.90488224531\n",
      "5 0.00968266838372 0.059802757901 0.721303620012\n",
      "5 0.0167241289361 0.0700292412602 0.614444282723\n",
      "5 0.023522362672 0.0796897856225 0.544193913978\n",
      "5 0.0300253639231 0.0886855681234 0.49414323676\n",
      "5 0.0361839347692 0.0969224196641 0.45631544154\n",
      "5 0.0419520690053 0.104311722574 0.426350588175\n",
      "5 0.0472873090402 0.110771275107 0.401648328114\n",
      "5 0.0521510727133 0.116226114872 0.380544675188\n",
      "5 0.0565089472756 0.120609293509 0.361907085059\n",
      "5 0.0603309480616 0.123862595249 0.344917883902\n",
      "5 0.0635917396823 0.125937192341 0.328949527616\n",
      "5 0.0662708178959 0.126794230776 0.313487155218\n",
      "5 0.0683526506496 0.126405340223 0.298076034329\n",
      "5 0.0698267771414 0.124753062652 0.282281481828\n",
      "5 0.0706878641154 0.121831194735 0.265653338038\n",
      "5 0.0709357189732 0.11764503974 0.247688688314\n",
      "5 0.0705752596613 0.11221156539 0.227786142228\n",
      "5 0.0696164416683 0.105559464841 0.205182458529\n",
      "5 0.0680741428386 0.0977291187601 0.178856408707\n",
      "5 0.0659680070765 0.0887724572475 0.147372248562\n",
      "5 0.0633222483705 0.0787527211929 0.108607961486\n",
      "5 0.0601654169118 0.0677441234818 0.0592505183482\n",
      "5 0.0565301294106 0.0558314113116 0.00621848093664\n",
      "5 0.0524527660216 0.0431093317203 0.0977734323761\n",
      "5 0.0479731365798 0.0296820032621 0.235543112213\n",
      "5 0.043134119111 0.0156621975845 0.467238818185\n",
      "5 0.0379812738196 0.00117053545677 0.940205294294\n",
      "5 0.0325624359638 -0.0136653974347 1.0\n",
      "5 0.0269272912099 -0.0287120088759 1.0\n",
      "5 0.0211269372012 -0.0438307259677 1.0\n",
      "5 0.0152134351907 -0.0588790810495 1.0\n",
      "5 0.00923935566755 -0.0737118497502 1.0\n",
      "5 0.00325732195004 -0.0881822326937 1.0\n",
      "5 -0.0026804442751 -0.10214307193 0.948857959127\n",
      "5 -0.0085225715109 -0.115448092779 0.862506641233\n",
      "5 -0.0142189772143 -0.127953161468 0.799975194211\n",
      "5 -0.0197212929699 -0.139517548714 0.752305495804\n",
      "5 -0.0249832724079 -0.15000518925 0.71445806002\n",
      "5 -0.0299611783626 -0.159285927236 0.683364474529\n",
      "5 -0.0346141459621 -0.167236737527 0.657032504749\n",
      "5 -0.0389045185625 -0.173742912841 0.634093689205\n",
      "5 -0.0427981536887 -0.178699207137 0.613556084558\n",
      "5 -0.0462646964203 -0.182010925709 0.594659333407\n",
      "5 -0.0492778179564 -0.183594952961 0.576783341718\n",
      "5 -0.0518154174094 -0.183380709212 0.559385452867\n",
      "5 -0.0538597852139 -0.18131102846 0.541951789233\n",
      "5 -0.055397726879 -0.177342949644 0.52395320228\n",
      "5 -0.0564206461738 -0.171448414636 0.504797659031\n",
      "5 -0.0569245871982 -0.163614866962 0.483769582954\n",
      "5 -0.0569102351606 -0.153845746111 0.459941921296\n",
      "5 -0.0563828760513 -0.142160873183 0.4320357476\n",
      "5 -0.0553523157708 -0.12859672461 0.398177716433\n",
      "5 -0.0538327596269 -0.113206591715 0.355448172009\n",
      "5 -0.0518426534706 -0.0960606249708 0.29896545882\n",
      "5 -0.0494044880766 -0.0772457629492 0.219828027557\n",
      "5 -0.0465445686965 -0.0568655471733 0.0998062751405\n",
      "5 -0.0432927520213 -0.0350398253206 0.105357527873\n",
      "5 -0.0396821530674 -0.011904346537 0.538470466952\n"
     ]
    },
    {
     "name": "stdout",
     "output_type": "stream",
     "text": [
      "5 -0.035748824766 0.0123897460112 1.0\n",
      "5 -0.0315314132659 0.0376765187879 1.0\n",
      "5 -0.0270707921671 0.0637759396706 1.0\n",
      "5 -0.0224096790778 0.0904946481843 1.0\n",
      "5 -0.0175922380339 0.117626792778 1.0\n",
      "5 -0.012663671431 0.144954921843 1.0\n",
      "5 -0.00766980519673 0.172250913078 1.0\n",
      "5 -0.00265667097952 0.199276923445 1.0\n",
      "5 0.00232991086446 0.225786339225 0.979572600693\n",
      "5 0.0072447437246 0.251524702453 0.944006189049\n",
      "5 0.0120436589285 0.276230586186 0.916443045936\n",
      "5 0.0166839080631 0.299636386253 0.894512566137\n",
      "5 0.0211245399393 0.321468991239 0.876678699293\n",
      "5 0.0253267588681 0.341450284884 0.861895615882\n",
      "5 0.0292542611031 0.359297425275 0.849418946675\n",
      "5 0.032873546518 0.374722832394 0.838695590939\n",
      "5 0.0361542028233 0.387433798451 0.829295434646\n",
      "5 0.0390691598935 0.397131612398 0.820866159002\n",
      "5 0.0415949120558 0.403510058481 0.813100662499\n",
      "5 0.0437117064963 0.40625310511 0.805710556164\n",
      "5 0.0454036962566 0.405031539215 0.798400779153\n",
      "5 0.046659056623 0.39949821441 0.790840317295\n",
      "5 0.0474700640536 0.389281456097 0.782622100378\n",
      "5 0.0478331371322 0.373975983334 0.773200081215\n",
      "5 0.0477488393882 0.353130434242 0.761779455666\n",
      "5 0.0472218441747 0.326230167588 0.747106226838\n",
      "5 0.0462608621374 0.29267337195 0.727021601923\n",
      "5 0.0448785321541 0.251737498588 0.697396448589\n",
      "5 0.0430912769492 0.20253138575 0.649126212739\n",
      "5 0.0409191249098 0.143925689761 0.557259693946\n",
      "5 0.0383854999314 0.0744494946894 0.319617108852\n",
      "5 0.0355169814037 -0.0078675020931 1.0\n",
      "5 0.0323430367163 -0.105743608473 1.0\n",
      "5 0.028895728898 -0.223051752405 1.0\n",
      "5 0.0252094022254 -0.365514934865 1.0\n",
      "5 0.0213203488206 -0.541961956315 1.0\n",
      "5 0.0172664594204 -0.7667517716 1.0\n",
      "5 0.0130868616277 -1.06486862596 1.0\n",
      "5 0.00882154905526 -1.48389357762 1.0\n",
      "5 0.00451100483804 -2.12682388076 1.0\n",
      "5 0.000195823024994 -3.26542334201 1.0\n",
      "5 -0.00408366863725 -5.92417792322 0.998622304845\n",
      "5 -0.00828778104767 -20.3351305358 0.999185212542\n",
      "5 -0.0123778278025 17.0356902379 1.0\n",
      "5 -0.0163164776316 6.27557736627 1.0\n",
      "5 -0.0200680920199 3.90052217589 1.0\n",
      "5 -0.023599044969 2.83367068952 1.0\n",
      "5 -0.0268780220355 2.21317324352 1.0\n",
      "5 -0.0298762959881 1.79797120221 1.0\n",
      "5 -0.0325679766589 1.49426112246 1.0\n",
      "5 -0.0349302328155 1.25803591315 1.0\n",
      "5 -0.0369434841506 1.06597824622 1.0\n",
      "5 -0.0385915617766 0.904630542859 1.0\n",
      "5 -0.0398618359112 0.76572049778 1.0\n",
      "5 -0.0407453097535 0.643913112813 1.0\n",
      "5 -0.0412366788721 0.535636369686 1.0\n",
      "5 -0.0413343557467 0.438426134987 1.0\n",
      "5 -0.0410404594379 0.350540622569 1.0\n",
      "5 -0.040360770679 0.27072315324 1.0\n",
      "5 -0.0393046530105 0.198050553446 1.0\n",
      "5 -0.0378849408863 0.131833092172 1.0\n",
      "5 -0.0361177959897 0.0715465605441 1.0\n",
      "5 -0.0340225332831 0.0167850354297 1.0\n",
      "5 -0.0316214185933 -0.0327726704368 0.0178782223775\n",
      "5 -0.0289394397906 -0.0773872712659 0.4556506168\n",
      "5 -0.0260040538549 -0.117276822485 0.637019893802\n",
      "5 -0.0228449123378 -0.152629960902 0.739621839686\n",
      "5 -0.0194935679162 -0.183615834867 0.808048592049\n",
      "5 -0.0159831649 -0.210391593522 0.858790220152\n",
      "5 -0.0123481166863 -0.233108043476 0.89938637777\n",
      "5 -0.00862377326517 -0.251913905971 0.933800183601\n",
      "5 -0.00484608195458 -0.266958987897 0.964341489603\n",
      "5 -0.00105124459115 -0.278396497051 0.992476270626\n",
      "5 0.00272462558059 -0.286384673737 1.0\n",
      "5 0.00644584409233 -0.291087869412 1.0\n",
      "5 0.0100774893255 -0.292677173282 1.0\n",
      "5 0.0135857273649 -0.291330666163 1.0\n",
      "5 0.0169381246245 -0.287233365067 1.0\n",
      "5 0.0201039453718 -0.280576910265 1.0\n",
      "5 0.0230544314298 -0.27155903783 1.0\n",
      "5 0.0257630615218 -0.260382874096 1.0\n",
      "5 0.0282057879268 -0.247256083417 1.0\n",
      "5 0.0303612483405 -0.232389896785 1.0\n",
      "5 0.0322109510819 -0.215998045812 1.0\n",
      "5 0.0337394320448 -0.198295624188 1.0\n",
      "5 0.0349343820718 -0.179497896761 1.0\n",
      "5 0.0357867437107 -0.159819074761 1.0\n",
      "5 0.0362907766114 -0.139471074266 1.0\n",
      "5 0.0364440911186 -0.118662273799 1.0\n",
      "5 0.0362476499206 -0.0975962857806 1.0\n",
      "5 0.0357057379155 -0.0764707555222 1.0\n",
      "5 0.0348259007575 -0.0554762004327 1.0\n",
      "5 0.0336188528387 -0.0347949010963 1.0\n",
      "5 0.0320983557482 -0.0145998549135 1.0\n",
      "5 0.0302810685224 0.00494619800276 0.719183547822\n",
      "5 0.0281863712638 0.0236916679772 0.0866398065994\n",
      "5 0.025836163947 0.0414969202803 0.232586350573\n",
      "5 0.0232546424576 0.0582349843239 0.429261284508\n",
      "5 0.020468054115 0.0737921619097 0.565711707904\n",
      "5 0.0175044351129 0.0880685299315 0.668391711731\n",
      "5 0.0143933324698 0.100978333979 0.750487569214\n",
      "5 0.0111655132158 0.112450270338 0.819351333709\n",
      "5 0.00785266364965 0.122427654906 0.879449732136\n",
      "5 0.00448708157909 0.130868478599 0.933699338643\n",
      "5 0.00110136450854 0.137745349792 0.98413553372\n",
      "5 -0.00227190323666 0.143045325362 1.0\n",
      "5 -0.00560046146728 0.146769632827 1.0\n",
      "5 -0.00885268021891 0.148933286998 1.0\n",
      "5 -0.0119978580844 0.149564605449 1.0\n",
      "5 -0.0150065099907 0.148704627901 1.0\n",
      "5 -0.0178506417351 0.146406445414 1.0\n",
      "5 -0.0205040087368 0.142734445972 1.0\n",
      "5 -0.022942356621 0.137763483681 1.0\n",
      "5 -0.0251436414397 0.13157797939 1.0\n",
      "5 -0.0270882275383 0.124270961011 1.0\n",
      "5 -0.0287590612984 0.115943052269 1.0\n",
      "5 -0.0301418192295 0.10670141891 1.0\n",
      "5 -0.0312250291311 0.0966586817022 1.0\n",
      "5 -0.0320001633128 0.0859318056763 1.0\n",
      "5 -0.032461703129 0.0746409752109 1.0\n",
      "5 -0.0326071743666 0.0629084645169 1.0\n",
      "5 -0.0324371532988 0.0508575130346 1.0\n",
      "5 -0.0319552435047 0.0386112150854 1.0\n",
      "5 -0.0311680238293 0.02629143289 1.0\n",
      "5 -0.0300849681347 0.0140177417514 1.0\n",
      "5 -0.0287183377583 0.00190641581642 1.0\n",
      "5 -0.02708304785 -0.00993053762011 0.463411204617\n",
      "5 -0.0251965090063 -0.0213862878234 0.0817945989107\n",
      "5 -0.0230784458447 -0.0323600274673 0.167421306326\n",
      "5 -0.0207506943788 -0.0427577503789 0.346521727687\n",
      "5 -0.0182369802438 -0.0524929546122 0.4843207397\n",
      "5 -0.0155626799981 -0.0614872659954 0.596036576083\n",
      "5 -0.0127545678763 -0.0696709780506 0.690519056129\n",
      "5 -0.00984055049707 -0.0769835049572 0.773322025893\n",
      "5 -0.00684939213195 -0.0833737450307 0.848167723993\n",
      "5 -0.00381043321872 -0.0888003529965 0.917710811571\n",
      "5 -0.000753304855003 -0.0932319201545 0.983969717476\n",
      "5 0.00229235796792 -0.0966470623436 1.0\n",
      "5 0.00529720163211 -0.0990344164228 1.0\n",
      "5 0.00823243492986 -0.100392546773 1.0\n",
      "5 0.0110701031936 -0.10072976409 1.0\n",
      "5 0.0137833529209 -0.100063859487 1.0\n",
      "5 0.0163466844019 -0.0984217576138 1.0\n",
      "5 0.0187361899813 -0.0958390931673 1.0\n",
      "5 0.0209297757391 -0.0923597158017 1.0\n",
      "5 0.0229073645433 -0.0880351289786 1.0\n",
      "5 0.0246510786157 -0.0829238688344 1.0\n",
      "5 0.026145399959 -0.0770908295786 1.0\n",
      "5 0.0273773072146 -0.0706065423248 1.0\n",
      "5 0.028336387751 -0.0635464145773 1.0\n",
      "5 0.0290149240313 -0.0559899378484 1.0\n",
      "5 0.0294079535549 -0.048019871064 1.0\n",
      "5 0.0295133019312 -0.0397214075258 1.0\n",
      "5 0.0293315888991 -0.0311813332442 1.0\n",
      "5 0.0288662073707 -0.0224871844211 1.0\n",
      "5 0.028123275835 -0.0137264117694 1.0\n",
      "5 0.027111564712 -0.00498555918713 1.0\n",
      "5 0.0258423974981 0.00365053592768 0.752446738684\n",
      "5 0.0243295277781 0.0120995137263 0.335721543766\n",
      "5 0.0225889934105 0.0202822276849 0.053806858462\n",
      "5 0.0206389494049 0.0281234388747 0.153488984726\n",
      "5 0.0184994812068 0.0355524629573 0.31549247699\n",
      "5 0.0161924002893 0.0425037646419 0.448263772998\n",
      "5 0.0137410241086 0.0489174948901 0.561399652332\n",
      "5 0.0111699426254 0.0547399667393 0.661054225896\n",
      "5 0.00850477370959 0.0599240662297 0.751427213522\n",
      "5 0.00577190984554 0.064429595562 0.835561650366\n",
      "5 0.002998258624 0.0682235462693 0.915805036716\n",
      "5 0.000210979558774 0.0712803008587 0.994097754089\n",
      "5 -0.00256278021293 0.0735817620558 1.0\n",
      "5 -0.00529614878747 0.0751174094595 1.0\n",
      "5 -0.00796278837618 0.0758842840898 1.0\n",
      "5 -0.0105371477286 0.0758869019651 1.0\n",
      "5 -0.0129947056886 0.0751370984881 1.0\n",
      "5 -0.0153122035716 0.073653806037 1.0\n",
      "5 -0.0174678641697 0.0714627677439 1.0\n",
      "5 -0.0194415953304 0.0685961909954 1.0\n",
      "5 -0.0212151762138 0.0650923447077 1.0\n",
      "5 -0.0227724245095 0.0609951048945 1.0\n",
      "5 -0.0240993430843 0.0563534534746 1.0\n",
      "5 -0.0251842447417 0.0512209356364 1.0\n",
      "5 -0.0260178539875 0.0456550813966 1.0\n",
      "5 -0.0265933849256 0.0397167972562 1.0\n",
      "5 -0.0269065946436 0.0334697340625 1.0\n",
      "5 -0.0269558116855 0.0269796373315 1.0\n",
      "5 -0.0267419394537 0.0203136863769 1.0\n",
      "5 -0.0262684346255 0.0135398286152 1.0\n",
      "5 -0.0255412609087 0.00672611539032 1.0\n",
      "5 -0.0245688187022 -5.99544357636e-05 0.995131350195\n",
      "5 -0.0233618514539 -0.00675207701955 0.551564517694\n",
      "5 -0.0219333297325 -0.0132857663019 0.245536212007\n",
      "5 -0.0202983142419 -0.0195989513567 0.0175290931511\n",
      "5 -0.0184737992023 -0.0256325429823 0.162306449037\n",
      "5 -0.0164785377097 -0.0313309645472 0.310658470311\n",
      "5 -0.0143328508488 -0.0366426424956 0.437657199236\n",
      "5 -0.0120584224879 -0.0415204523512 0.549881458911\n",
      "5 -0.00967808181094 -0.0459221165256 0.651868802613\n",
      "5 -0.00721557575461 -0.0498105507338 0.746937896753\n",
      "5 -0.00469533360336 -0.0531541563403 0.83767070002\n",
      "5 -0.00214222606459 -0.0559270565007 0.926218269972\n",
      "5 0.000418678813061 -0.0581092745198 1.0\n",
      "5 0.002962360494 -0.0596868534081 1.0\n",
      "5 0.00546408920176 -0.0606519161894 1.0\n",
      "5 0.00789966520191 -0.0610026670764 1.0\n",
      "5 0.010245651816 -0.0607433341895 1.0\n",
      "5 0.0124795999315 -0.0598840550413 1.0\n",
      "5 0.014580261865 -0.0584407065381 1.0\n",
      "5 0.016527792549 -0.0564346817568 1.0\n",
      "5 0.0183039361445 -0.0538926162355 1.0\n",
      "5 0.0198921963306 -0.0508460669676 1.0\n",
      "5 0.0212779886905 -0.0473311477018 1.0\n",
      "5 0.022448773791 -0.0433881245283 1.0\n",
      "5 0.0233941697498 -0.0390609760676 1.0\n",
      "5 0.0241060432857 -0.0343969228662 1.0\n",
      "5 0.0245785784642 -0.0294459308503 1.0\n",
      "5 0.0248083225666 -0.0242601938839 1.0\n",
      "5 0.0247942087406 -0.0188936006231 1.0\n",
      "5 0.0245375553123 -0.0134011909544 1.0\n",
      "5 0.0240420418717 -0.00783860734692 1.0\n",
      "5 0.0233136624652 -0.00226154644656 1.0\n",
      "5 0.0223606564529 0.00327478382429 0.744511208789\n",
      "5 0.0211934178006 0.00871619649857 0.417164232785\n",
      "5 0.019824383785 0.0140100421236 0.171846913468\n",
      "5 0.0182679042861 0.019105704843 0.0224169026345\n",
      "5 0.0165400930226 0.023955073441 0.183107789545\n",
      "5 0.0146586622606 0.028512983077 0.320912504216\n",
      "5 0.0126427426745 0.032737623759 0.442810022568\n",
      "5 0.0105126901812 0.0365909119653 0.553635403571\n",
      "5 0.00828988168559 0.0400388222115 0.656937553995\n",
      "5 0.00599650177379 0.0430516757768 0.755485236221\n",
      "5 0.00365532247429 0.0456043842415 0.851589758933\n",
      "5 0.00128947826071 0.0476766459448 0.947331822494\n",
      "5 -0.00107776148923 0.0492530939424 1.0\n",
      "5 -0.00342322035008 0.0503233945238 1.0\n",
      "5 -0.00572404079799 0.0508822958318 1.0\n",
      "5 -0.00795790605809 0.0509296266131 1.0\n",
      "5 -0.0101032557047 0.0504702456057 1.0\n",
      "5 -0.0121394929382 0.0495139425414 1.0\n",
      "5 -0.0140471815536 0.0480752921949 1.0\n",
      "5 -0.0158082307217 0.0461734633521 1.0\n",
      "5 -0.0174060658342 0.0438319849859 1.0\n",
      "5 -0.018825783804 0.041078472316 1.0\n",
      "5 -0.0200542913709 0.0379443157953 1.0\n",
      "5 -0.0210804251363 0.0344643363891 1.0\n",
      "5 -0.0218950522305 0.0306764108119 1.0\n",
      "5 -0.0224911507144 0.0266210706375 1.0\n",
      "5 -0.0228638690121 0.022341079419 1.0\n",
      "5 -0.0230105638865 0.0178809921248 1.0\n",
      "5 -0.0229308166728 0.0132867013319 1.0\n",
      "5 -0.0226264277051 0.00860497470228 1.0\n",
      "5 -0.0221013890799 0.0038829883119 1.0\n",
      "5 -0.0213618361131 -0.000832139597194 0.92501211968\n",
      "5 -0.020415978053 -0.00549380992034 0.575927836538\n",
      "5 -0.0192740088114 -0.0100563946132 0.314268237801\n",
      "5 -0.0179479986691 -0.0144756749299 0.107092237052\n",
      "5 -0.0164517680897 -0.018709261843 0.0642044262534\n",
      "5 -0.0148007449512 -0.0227169947197 0.211000178527\n",
      "5 -0.0130118066563 -0.0264613145758 0.340725726766\n",
      "5 -0.0111031087276 -0.0299076085058 0.458526479095\n",
      "5 -0.00909390161797 -0.0330245221973 0.568174646902\n",
      "5 -0.00700433757441 -0.0357842377736 0.672607114519\n",
      "5 -0.0048552694845 -0.0381627145699 0.774267921139\n",
      "5 -0.00266804370395 -0.040139890825 0.875348169291\n",
      "5 -0.000464288915418 -0.0416998446719 0.977977068379\n",
      "5 0.00173429690086 -0.0428309132136 1.0\n",
      "5 0.003906159294 -0.0435257688927 1.0\n",
      "5 0.00603009788656 -0.0437814527804 1.0\n",
      "5 0.00808547258569 -0.0435993648343 1.0\n",
      "5 0.0100524034622 -0.042985211591 1.0\n",
      "5 0.0119119623676 -0.0419489121681 1.0\n",
      "5 0.0136463544481 -0.0405044638487 1.0\n",
      "5 0.0152390878196 -0.0386697689043 1.0\n",
      "5 0.0166751297924 -0.0364664246722 1.0\n",
      "5 0.0179410481687 -0.0339194792465 1.0\n",
      "5 0.0190251362914 -0.0310571554561 1.0\n",
      "5 0.0199175206845 -0.0279105460875 1.0\n",
      "5 0.0206102503004 -0.0245132835688 1.0\n",
      "5 0.0210973665742 -0.020901187551 1.0\n",
      "5 0.0213749536748 -0.0171118940108 1.0\n",
      "5 0.0214411685392 -0.0131844696487 1.0\n",
      "5 0.0212962504761 -0.00915901547148 1.0\n",
      "5 0.020942510325 -0.00507626351809 1.0\n",
      "5 0.0203842993568 -0.000977170726634 1.0\n",
      "5 0.019627958302 0.00309748606568 0.727399296087\n",
      "5 0.0186817470805 0.00710751004023 0.448800715201\n",
      "5 0.0175557560002 0.0110136753635 0.228988829123\n",
      "5 0.0162617993635 0.0147781054514 0.0477995638499\n",
      "5 0.0148132925956 0.0183646349339 0.107039306033\n",
      "5 0.0132251141594 0.0217391519092 0.243506834466\n",
      "5 0.0115134536721 0.0248699172954 0.367103521971\n",
      "5 0.00969564776249 0.027727858337 0.481841827609\n",
      "5 0.00779000532726 0.0302868335957 0.590827098698\n",
      "5 0.00581562393798 0.032523867057 0.696624874924\n",
      "5 0.00379219923346 0.0344193493021 0.801515542877\n",
      "5 0.00173982919213 0.0359572040303 0.907694105164\n",
      "5 -0.000321184777037 0.0371250185717 1.0\n",
      "5 -0.00237053796306 0.0379141373889 1.0\n",
      "5 -0.00438812173415 0.0383197179371 1.0\n",
      "5 -0.00635422021974 0.0383407486231 1.0\n",
      "5 -0.00824970237496 0.0379800289778 1.0\n",
      "5 -0.0100562075621 0.0372441125215 1.0\n",
      "5 -0.0117563228535 0.0361432131678 1.0\n",
      "5 -0.0133337503484 0.0346910763553 1.0\n",
      "5 -0.0147734629013 0.0329048164383 1.0\n",
      "5 -0.0160618467773 0.0308047221812 1.0\n",
      "5 -0.0171868298846 0.0284140325034 1.0\n",
      "5 -0.0181379943813 0.0257586848953 1.0\n",
      "5 -0.0189066726101 0.0228670391729 1.0\n",
      "5 -0.0194860254822 0.0197695794664 1.0\n",
      "5 -0.0198711026071 0.0164985975231 1.0\n",
      "5 -0.0200588836478 0.0130878605707 1.0\n",
      "5 -0.0200483005637 0.0095722671128 1.0\n",
      "5 -0.0198402405963 0.00598749412095 1.0\n",
      "5 -0.0194375300393 0.00236963915017 1.0\n",
      "5 -0.0188448990236 -0.00124513907362 0.876044130171\n",
      "5 -0.018068927734 -0.00482097805421 0.578768204744\n",
      "5 -0.0171179746545 -0.00832266341947 0.345718971727\n",
      "5 -0.0160020876122 -0.0117159718931 0.154632603997\n",
      "5 -0.0147328985584 -0.0149680020396 0.00791570209997\n",
      "5 -0.0133235031783 -0.0180474896202 0.150584537513\n",
      "5 -0.0117883265688 -0.0209251045717 0.279297453199\n",
      "5 -0.0101429763532 -0.0235737268197 0.39834115446\n",
      "5 -0.00840408472336 -0.0259686983657 0.511003534303\n",
      "5 -0.00658914099878 -0.0280880493364 0.619972613981\n",
      "5 -0.00471631638429 -0.0299126959563 0.727608957605\n",
      "5 -0.00280428267444 -0.0314266086935 0.836154855315\n",
      "5 -0.000872026708343 -0.0326169491307 0.947921566038\n",
      "5 0.00106133758708 -0.0334741744349 1.0\n",
      "5 0.00297675771009 -0.03399210862 1.0\n",
      "5 0.00485542979932 -0.0341679801288 1.0\n",
      "5 0.00667898271622 -0.0340024255979 1.0\n",
      "5 0.00842965719758 -0.0334994599963 1.0\n",
      "5 0.0100904783351 -0.0326664136608 1.0\n",
      "5 0.0116454197114 -0.031513837072 1.0\n",
      "5 0.0130795576093 -0.0300553745251 1.0\n",
      "5 0.0143792138143 -0.028307608147 1.0\n",
      "5 0.0155320856476 -0.0262898739941 1.0\n",
      "5 0.0165273619975 -0.0240240522259 1.0\n",
      "5 0.0173558242583 -0.0215343335929 1.0\n",
      "5 0.0180099312383 -0.0188469646934 1.0\n",
      "5 0.0184838872596 -0.015989974648 1.0\n",
      "5 0.0187736928394 -0.012992886003 1.0\n",
      "5 0.0188771775173 -0.00988641281456 1.0\n",
      "5 0.0187940145673 -0.00670214896877 1.0\n",
      "5 0.0185257175166 -0.00347224987021 1.0\n",
      "5 0.0180756185673 -0.00022911067719 1.0\n",
      "5 0.0174488291981 0.00299495572555 0.70700574901\n",
      "5 0.0166521833968 0.00616803784344 0.459423484242\n",
      "5 0.0156941641418 0.00925893865347 0.257892797587\n",
      "5 0.0145848139155 0.0122374796052 0.0875143025499\n",
      "5 0.0133356301853 0.015074792605 0.0612156472475\n",
      "5 0.0119594469337 0.0177435971829 0.194732574428\n",
      "5 0.0104703034507 0.0202184602068 0.317645795865\n",
      "5 0.00888330172444 0.0224760356941 0.433450930044\n",
      "5 0.00721445387323 0.0244952824848 0.544969167087\n",
      "5 0.00548052115377 0.0262576577698 0.654641738143\n",
      "5 0.00369884615984 0.0277472847183 0.764750317031\n",
      "5 0.00188717988595 0.0289510927161 0.877607938012\n",
      "5 6.35053754678e-05 0.029858929001 0.995755333629\n",
      "5 -0.00175414029917 0.0304636407757 1.0\n",
      "5 -0.00354784396653 0.0307611271691 1.0\n",
      "5 -0.00529999244556 0.0307503607233 1.0\n",
      "5 -0.00699344506724 0.0304333783796 1.0\n",
      "5 -0.00861170094274 0.0298152422425 1.0\n",
      "5 -0.0101390593493 0.0289039706922 1.0\n",
      "5 -0.0115607716787 0.0277104407076 1.0\n",
      "5 -0.0128631834808 0.0262482625383 1.0\n",
      "5 -0.0140338652385 0.024533628129 1.0\n",
      "5 -0.0150617306231 0.0225851349529 1.0\n",
      "5 -0.0159371411099 0.020423587138 1.0\n",
      "5 -0.0166519959699 0.0180717759872 1.0\n",
      "5 -0.0171998067999 0.0155542421805 1.0\n",
      "5 -0.0175757559111 0.0128970221155 1.0\n",
      "5 -0.0177767380533 0.010127380985 1.0\n",
      "5 -0.0178013851234 0.00727353530331 1.0\n",
      "5 -0.0176500736682 0.00436436768399 1.0\n",
      "5 -0.0173249151693 0.00142913672869 1.0\n",
      "5 -0.01682972926 -0.00150281507934 0.836049481019\n",
      "5 -0.0161700001982 -0.00440235258252 0.572012727037\n",
      "5 -0.0153528170787 -0.00724083538722 0.35903808398\n",
      "5 -0.014386798428 -0.00999039871726 0.180348859821\n",
      "5 -0.0132820019778 -0.0126242249482 0.0253906920327\n",
      "5 -0.012049820554 -0.0151168031956 0.112895244911\n",
      "5 -0.0107028651546 -0.0174441744628 0.23950331544\n",
      "5 -0.00925483641034 -0.0195841600111 0.358172089272\n",
      "5 -0.0077203857333 -0.0215165707944 0.471874870013\n",
      "5 -0.00611496755604 -0.0232233959971 0.583141878724\n",
      "5 -0.00445468414671 -0.0246889689346 0.694294731393\n",
      "5 -0.00275612455422 -0.0259001088063 0.807642231305\n",
      "5 -0.0010361992898 -0.0268462370379 0.925673690948\n",
      "5 0.00068802761125 -0.0275194672097 1.0\n",
      "5 0.00239950748416 -0.0279146678305 1.0\n",
      "5 0.00408137521734 -0.0280294974915 1.0\n",
      "5 0.00571711506786 -0.0278644122085 1.0\n",
      "5 0.00729072248274 -0.0274226450346 1.0\n",
      "5 0.00878686034395 -0.0267101583033 1.0\n",
      "5 0.0101910081149 -0.0257355691233 1.0\n",
      "5 0.0114896024411 -0.0245100490133 1.0\n",
      "5 0.0126701678463 -0.023047198811 1.0\n",
      "5 0.0137214362683 -0.0213629002296 1.0\n",
      "5 0.0146334542905 -0.0194751456596 1.0\n",
      "5 0.0153976770539 -0.0174038480157 1.0\n",
      "5 0.0160070479638 -0.0151706326205 1.0\n",
      "5 0.0164560634534 -0.0127986132798 1.0\n",
      "5 0.0167408222118 -0.0103121548498 1.0\n",
      "5 0.0168590584424 -0.0077366247172 1.0\n",
      "5 0.0168101588739 -0.00509813571003 1.0\n",
      "5 0.0165951634088 -0.00242328302735 1.0\n",
      "5 0.0162167494552 0.000261122178291 0.968306322066\n",
      "5 0.015679200148 0.00292831991312 0.685254144184\n",
      "5 0.0149883568259 0.00555186650391 0.459415176284\n",
      "5 0.0141515562813 0.00810589519719 0.271624138549\n",
      "5 0.0131775534524 0.0105653696431 0.110019469753\n",
      "5 0.0120764303648 0.0129063277945 0.0332188073246\n",
      "5 0.0108594922655 0.0151061138602 0.163547947782\n",
      "5 0.00953915201501 0.017143596081 0.284994785344\n",
      "5 0.00812880391438 0.0189993682495 0.400711270536\n",
      "5 0.00664268824581 0.0206559330656 0.513331595026\n",
      "5 0.00509574789326 0.0220978656106 0.625224658538\n",
      "5 0.00350347848225 0.0233119554251 0.738696864324\n",
      "5 0.00188177353836 0.0242873258986 0.856183546332\n",
      "5 0.000246766207972 0.0250155299072 0.980463675444\n",
      "5 -0.00138533088573 0.0254906208778 1.0\n",
      "5 -0.00299838606538 0.0257091987018 1.0\n",
      "5 -0.00457650771627 0.0256704301761 1.0\n",
      "5 -0.00610420053119 0.0253760438995 1.0\n",
      "5 -0.00756651734984 0.0248302998068 1.0\n",
      "5 -0.00894920510785 0.0240399337742 1.0\n",
      "5 -0.0102388434731 0.0230140779699 1.0\n",
      "5 -0.0114229748233 0.0217641578639 1.0\n",
      "5 -0.0124902243085 0.020303767035 1.0\n",
      "5 -0.0134304088444 0.0186485211282 1.0\n",
      "5 -0.0142346339942 0.0168158925119 1.0\n",
      "5 -0.0148953778191 0.0148250273728 1.0\n",
      "5 -0.0154065609119 0.0126965471445 1.0\n",
      "5 -0.0157636019621 0.0104523363177 1.0\n",
      "5 -0.0159634583501 0.00811531879935 1.0\n",
      "5 -0.0160046514146 0.00570922509299 1.0\n",
      "5 -0.0158872761916 0.0032583526523 1.0\n",
      "5 -0.0156129955747 0.000787321813774 1.0\n",
      "5 -0.015185019004 -0.00167917025202 0.80085965278\n",
      "5 -0.0146080659393 -0.00411659512426 0.560302308245\n",
      "5 -0.0138883145257 -0.00650083582112 0.362324009531\n",
      "5 -0.0130333360041 -0.00880842420517 0.1934327526\n",
      "5 -0.0120520155557 -0.0110167707798 0.0448764300332\n",
      "5 -0.0109544604062 -0.013104384638 0.0893610739781\n",
      "5 -0.00975189613312 -0.0150510814336 0.213651174994\n",
      "5 -0.00845655223858 -0.0168381773728 0.331358558206\n",
      "5 -0.00708153814856 -0.018448667374 0.445242370469\n",
      "5 -0.0056407108933 -0.0198673857064 0.557731728727\n",
      "5 -0.00414853580069 -0.0210811476032 0.67113849712\n",
      "5 -0.00261994159994 -0.022078870537 0.787848777066\n",
      "5 -0.00107017138375 -0.0228516740549 0.91052769014\n",
      "5 0.000485369086043 -0.0233929572878 1.0\n",
      "5 0.00203126422287 -0.0236984534732 1.0\n",
      "5 0.00355224109608 -0.0237662610611 1.0\n",
      "5 0.00503332004246 -0.023596851208 1.0\n",
      "5 0.00645996192593 -0.023193051696 1.0\n",
      "5 0.00781821060036 -0.0225600075505 1.0\n",
      "5 0.00909482918181 -0.0217051188554 1.0\n",
      "5 0.0102774288023 -0.0206379564924 1.0\n",
      "5 0.0113545885944 -0.0193701567418 1.0\n",
      "5 0.0123159657478 -0.0179152958903 1.0\n",
      "5 0.0131523945783 -0.0162887461827 1.0\n",
      "5 0.0138559736634 -0.0145075146323 1.0\n",
      "5 0.0144201402186 -0.0125900663674 1.0\n",
      "5 0.0148397310157 -0.0105561343393 1.0\n",
      "5 0.0151110292819 -0.0084265173384 1.0\n",
      "5 0.0152317971562 -0.00622286837819 1.0\n",
      "5 0.0152012934252 -0.00396747558688 1.0\n",
      "5 0.0150202764058 -0.001683037815 1.0\n",
      "5 0.0146909919898 0.000607562792748 0.920572524479\n",
      "5 0.0142171470119 0.00288148899272 0.662956859021\n",
      "5 0.0136038682464 0.00511617513874 0.453401358803\n",
      "5 0.0128576474818 0.00728955013909 0.276370810842\n",
      "5 0.0119862732537 0.00938025448067 0.121967350309\n",
      "5 0.0109987499531 0.0113678491957 0.0165022514191\n",
      "5 0.009905205143 0.0132330147355 0.143823060286\n",
      "5 0.00871678603681 0.0149577378262 0.26361466974\n",
      "5 0.00744554619146 0.0165254845066 0.378787980772\n",
      "5 0.00610432356476 0.0179213576964 0.49185011668\n",
      "5 0.00470661116732 0.0191322378009 0.605131004976\n",
      "5 0.00326642160951 0.020146905036 0.720977573246\n",
      "5 0.00179814690049 0.0209561423396 0.841950949861\n",
      "5 0.000316414899297 0.0215528179401 0.971063008783\n",
      "5 -0.00116405615281 0.0219319468496 1.0\n",
      "5 -0.00262860357456 0.0220907307702 1.0\n",
      "5 -0.00406276521681 0.0220285761106 1.0\n",
      "5 -0.00545242203358 0.0217470900337 1.0\n",
      "5 -0.0067839368487 0.0212500546705 1.0\n",
      "5 -0.00804428795644 0.0205433798538 1.0\n",
      "5 -0.00922119624935 0.0196350349348 1.0\n",
      "5 -0.0103032446343 0.0185349604507 1.0\n",
      "5 -0.011279988577 0.0172549606096 1.0\n",
      "5 -0.0121420567075 0.0158085777417 1.0\n",
      "5 -0.0128812405184 0.0142109500423 1.0\n",
      "5 -0.0134905723005 0.0124786540901 1.0\n",
      "5 -0.0139643905763 0.0106295337712 1.0\n",
      "5 -0.014298392422 0.00868251736206 1.0\n",
      "5 -0.0144896721938 0.00665742464115 1.0\n"
     ]
    },
    {
     "name": "stdout",
     "output_type": "stream",
     "text": [
      "5 -0.0145367463165 0.00457476598352 1.0\n",
      "5 -0.0144395639269 0.00245553546772 1.0\n",
      "5 -0.0141995033055 0.000321000073126 1.0\n",
      "5 -0.0138193541738 -0.00180751292354 0.768665988867\n",
      "5 -0.0133032860697 -0.00390882823543 0.545804987563\n",
      "5 -0.0126568031534 -0.00596213243123 0.359562483674\n",
      "5 -0.0118866859299 -0.00794717930707 0.198625259158\n",
      "5 -0.0110009204989 -0.00984448874596 0.0554765674952\n",
      "5 -0.0100086160693 -0.011635537119 0.0751667683882\n",
      "5 -0.00891991158524 -0.0133029373747 0.197230597991\n",
      "5 -0.00774587241868 -0.014830607073 0.313810426331\n",
      "5 -0.00649837817853 -0.0162039227475 0.427513695664\n",
      "5 -0.00519000277062 -0.0174098591207 0.54070491266\n",
      "5 -0.00383388791724 -0.0184371118559 0.655705809681\n",
      "5 -0.00244361140596 -0.0192762026951 0.774987815772\n",
      "5 -0.00103305138623 -0.0199195660145 0.901391662295\n",
      "5 0.00038375193229 -0.0203616160145 1.0\n",
      "5 0.0017927358037 -0.0205987939607 1.0\n",
      "5 0.0031799543077 -0.0206295950877 1.0\n",
      "5 0.0045317161704 -0.0204545749845 1.0\n",
      "5 0.00583471968405 -0.0200763354829 1.0\n",
      "5 0.0070761833981 -0.019499490274 1.0\n",
      "5 0.00824397129944 -0.0187306106778 1.0\n",
      "5 0.00932671125768 -0.0177781521861 1.0\n",
      "5 0.0103139055811 -0.0166523625872 1.0\n",
      "5 0.0111960326105 -0.0153651726598 1.0\n",
      "5 0.0119646383692 -0.0139300705932 1.0\n",
      "5 0.012612417389 -0.0123619614468 1.0\n",
      "5 0.0131332819412 -0.0106770131057 1.0\n",
      "5 0.0135224190183 -0.00889249031586 1.0\n",
      "5 0.0137763345357 -0.00702657849657 1.0\n",
      "5 0.0138928843496 -0.00509819911985 1.0\n",
      "5 0.0138712918202 -0.00312681852464 1.0\n",
      "5 0.0137121517821 -0.00113225209057 1.0\n",
      "5 0.0134174209186 0.00086553426559 0.878801794947\n",
      "5 0.012990394673 0.00284662328878 0.640510190031\n",
      "5 0.0124356709595 0.00479134429901 0.443740633288\n",
      "5 0.0117591010706 0.00668046785904 0.275420387047\n",
      "5 0.0109677283002 0.00849539527625 0.127026528615\n",
      "5 0.0100697149221 0.0102183410773 0.00732579579003\n",
      "5 0.00907425828045 0.0118325066718 0.131930903591\n",
      "5 0.00799149684949 0.0133222435144 0.250108454635\n",
      "5 0.00683240722137 0.0146732041883 0.364593073758\n",
      "5 0.00560869306552 0.0158724799553 0.477803836869\n",
      "5 0.0043326671808 0.016908723462 0.592054281788\n",
      "5 0.00301712782685 0.0177722554397 0.709743402374\n",
      "5 0.00167523057466 0.0184551544037 0.833561993329\n",
      "5 0.000320356957401 0.0189513285255 0.966753612943\n",
      "5 -0.00103401876896 0.0192565690361 1.0\n",
      "5 -0.00237446343066 0.0193685847002 1.0\n",
      "5 -0.00368771797984 0.0192870170943 1.0\n",
      "5 -0.00496082846105 0.0190134366113 1.0\n",
      "5 -0.00618127360871 0.018551319306 1.0\n",
      "5 -0.0073370878205 0.0179060048861 1.0\n",
      "5 -0.00841697830038 0.017084636339 1.0\n",
      "5 -0.00941043522625 0.0160960818658 1.0\n",
      "5 -0.0103078338689 0.0149508399648 1.0\n",
      "5 -0.0111005276715 0.0136609286741 1.0\n",
      "5 -0.0117809313918 0.0122397601334 1.0\n",
      "5 -0.0123425935073 0.0107020017678 1.0\n",
      "5 -0.0127802571966 0.00906342552401 1.0\n",
      "5 -0.0130899093201 0.00734074670257 1.0\n",
      "5 -0.0132688169466 0.00555145402696 1.0\n",
      "5 -0.013315551097 0.00371363267098 1.0\n",
      "5 -0.0132299975013 0.00184578203007 1.0\n",
      "5 -0.0130133542971 -3.33699334142e-05 0.994884549896\n",
      "5 -0.0126681167255 -0.0019050539131 0.738553268833\n",
      "5 -0.0121980490094 -0.00375064618351 0.529661061529\n",
      "5 -0.0116081437262 -0.00555185337082 0.352930733096\n",
      "5 -0.0109045691098 -0.00729089324163 0.198603135131\n",
      "5 -0.0100946048339 -0.00895066972819 0.0600639860539\n",
      "5 -0.0091865669439 -0.0105149404726 0.0674249690953\n",
      "5 -0.00818972270826 -0.011968475253 0.187454878259\n",
      "5 -0.00711419625887 -0.0132972037518 0.302919323991\n",
      "5 -0.0059708659796 -0.0144883512368 0.416315305084\n",
      "5 -0.00477125468035 -0.0155305608524 0.529967684648\n",
      "5 -0.0035274136639 -0.0164140013547 0.646222330702\n",
      "5 -0.00225180184973 -0.0171304592752 0.767643017992\n",
      "5 -0.000957161165622 -0.0176734146524 0.897248353999\n",
      "5 0.000343610548726 -0.0180380996423 1.0\n",
      "5 0.00163758785984 -0.0182215394862 1.0\n",
      "5 0.00291194600559 -0.0182225754944 1.0\n",
      "5 0.0041540878361 -0.0180418698839 1.0\n",
      "5 0.00535176817546 -0.0176818924878 1.0\n",
      "5 0.00649321437814 -0.0171468895354 1.0\n",
      "5 0.00756724189475 -0.0164428348785 1.0\n",
      "5 0.00856336371396 -0.0155773642129 1.0\n",
      "5 0.00947189261133 -0.0145596930108 1.0\n",
      "5 0.0102840352094 -0.0134005190389 1.0\n",
      "5 0.0109919769371 -0.0121119104871 1.0\n",
      "5 0.0115889570692 -0.0107071808722 1.0\n",
      "5 0.0120693331266 -0.0092007520076 1.0\n",
      "5 0.0124286340251 -0.00760800644374 1.0\n",
      "5 0.0126636014753 -0.00594513088502 1.0\n",
      "5 0.0127722192505 -0.00422895217135 1.0\n",
      "5 0.0127537300639 -0.00247676748176 1.0\n",
      "5 0.0126086399183 -0.00070617046869 1.0\n",
      "5 0.0123387099158 0.00106512493416 0.841071611807\n",
      "5 0.0119469356411 0.00281946127044 0.618124680335\n",
      "5 0.0114375143511 0.00453941312715 0.431753929744\n",
      "5 0.0108158003296 0.00620795976671 0.270671140618\n",
      "5 0.0100882488756 0.00780865311945 0.127373763166\n",
      "5 0.00926234951122 0.00932577948264 0.00341239139474\n",
      "5 0.0083465490969 0.0107445133409 0.125606641945\n",
      "5 0.00735016564089 0.0120510618062 0.242298904962\n",
      "5 0.00628329368134 0.0132327982754 0.356090994521\n",
      "5 0.00515670219937 0.0142783840123 0.469340949331\n",
      "5 0.00398172609386 0.0151778764908 0.584362350287\n",
      "5 0.00277015231002 0.0159228234658 0.703615695731\n",
      "5 0.00153410176389 0.0165063418874 0.829926381685\n",
      "5 0.000285908244146 0.0169231809269 0.966772414123\n",
      "5 -0.000962004500713 0.0171697685436 1.0\n",
      "5 -0.00219724626622 0.0172442411855 1.0\n",
      "5 -0.00340758326073 0.0171464563883 1.0\n",
      "5 -0.00458105912204 0.0168779882066 1.0\n",
      "5 -0.00570611288623 0.0164421055818 1.0\n",
      "5 -0.00677169274605 0.0158437339209 1.0\n",
      "5 -0.00776736448087 0.0150894003263 1.0\n",
      "5 -0.00868341349568 0.014187163078 1.0\n",
      "5 -0.00951093947239 0.0131465261227 1.0\n",
      "5 -0.0102419427127 0.0119783394724 1.0\n",
      "5 -0.0108694013362 0.0106946865503 1.0\n",
      "5 -0.0113873385892 0.00930875965124 1.0\n",
      "5 -0.0117908796225 0.00783472479214 1.0\n",
      "5 -0.0120762971974 0.00628757733637 1.0\n",
      "5 -0.0122410458952 0.00468298985683 1.0\n",
      "5 -0.0122837845187 0.00303715377809 1.0\n",
      "5 -0.0122043864892 0.00136661639353 1.0\n",
      "5 -0.0120039381679 -0.000311885106106 0.949352130318\n",
      "5 -0.0116847251448 -0.0019815909318 0.710003643894\n",
      "5 -0.0112502066604 -0.00362588565472 0.512521759357\n",
      "5 -0.0107049784437 -0.00522846316463 0.343712012365\n",
      "5 -0.0100547243599 -0.00677348799431 0.194984250051\n",
      "5 -0.00930615737683 -0.00824575141764 0.0604154210006\n",
      "5 -0.00846695045979 -0.00963082078636 0.0643101468536\n",
      "5 -0.00754565810437 -0.0109151806427 0.182522721988\n",
      "5 -0.00655162930809 -0.0120863642317 0.296959804809\n",
      "5 -0.00549491286465 -0.0131330741378 0.410036858634\n",
      "5 -0.00438615593832 -0.0140452908808 0.524057337292\n",
      "5 -0.00323649694078 -0.0148143684319 0.64140257279\n",
      "5 -0.00205745378666 -0.0154331157435 0.764735644186\n",
      "5 -0.000860808647388 -0.0158958635267 0.897257804122\n",
      "5 0.000341509645047 -0.0161985156626 1.0\n",
      "5 0.00153754437189 -0.0163385847859 1.0\n",
      "5 0.00271542969794 -0.0163152117387 1.0\n",
      "5 0.00386350825968 -0.0161291687556 1.0\n",
      "5 0.00497044640746 -0.0157828463997 1.0\n",
      "5 0.00602534596349 -0.0152802244345 1.0\n",
      "5 0.00701785139497 -0.0146268269737 1.0\n",
      "5 0.00793825134951 -0.0138296624055 1.0\n",
      "5 0.00877757355854 -0.0128971487404 1.0\n",
      "5 0.00952767218221 -0.0118390251708 1.0\n",
      "5 0.0101813067469 -0.0106662507688 1.0\n",
      "5 0.0107322119113 -0.00939089137074 1.0\n",
      "5 0.0111751573899 -0.00802599581265 1.0\n",
      "5 0.0115059974627 -0.00658546278162 1.0\n",
      "5 0.0117217096033 -0.00508389963925 1.0\n",
      "5 0.0118204218666 -0.00353647464673 1.0\n",
      "5 0.0118014287927 -0.00195876408332 1.0\n",
      "5 0.0116651956922 -0.000366595795837 1.0\n",
      "5 0.0114133513008 0.00122410925304 0.806272906201\n",
      "5 0.0110486688991 0.00279749585465 0.595917583764\n",
      "5 0.0105750361158 0.00433793226034 0.418233560088\n",
      "5 0.00999741373551 0.00583016515827 0.263290336773\n",
      "5 0.00932178394946 0.00725947038772 0.124376209411\n",
      "5 0.00855508858349 0.00861179790489 0.00330341331473\n",
      "5 0.0077051579418 0.00987390957614 0.123371255735\n",
      "5 0.00678063099288 0.0110335084503 0.238736059689\n",
      "5 0.00579086771022 0.0120793582509 0.351897651118\n",
      "5 0.00474585445555 0.0130013919301 0.465172866548\n",
      "5 0.00365610335977 0.0137908082392 0.580888188832\n",
      "5 0.00253254671392 0.0144401553919 0.7015741279\n",
      "5 0.00138642742995 0.0149434010293 0.830196938883\n",
      "5 0.000229186667464 0.0152959878327 0.970475479363\n",
      "5 -0.000927650251586 0.0154948742766 1.0\n",
      "5 -0.00207258850392 0.0155385601626 1.0\n",
      "5 -0.00319427786208 0.0154270967276 1.0\n",
      "5 -0.00428162509646 0.0151620812747 1.0\n",
      "5 -0.00532390357004 0.0147466364273 1.0\n",
      "5 -0.0063108589444 0.0141853742618 1.0\n",
      "5 -0.0072328099562 0.0134843457227 1.0\n",
      "5 -0.00808074327495 0.0126509758686 1.0\n",
      "5 -0.00884640151355 0.0116939856381 1.0\n",
      "5 -0.0095223635333 0.0106233009558 1.0\n",
      "5 -0.0101021162634 0.00944995012198 1.0\n",
      "5 -0.010580117341 0.00818595054284 1.0\n",
      "5 -0.0109518479703 0.00684418596258 1.0\n",
      "5 -0.0112138554982 0.00543827544721 1.0\n",
      "5 -0.0113637853064 0.0039824354499 1.0\n",
      "5 -0.0114004017266 0.00249133635172 1.0\n",
      "5 -0.0113235977978 0.000979954922551 1.0\n",
      "5 -0.0111343937908 -0.000536575817116 0.908049487721\n",
      "5 -0.0108349245413 -0.00204311783115 0.682697451667\n",
      "5 -0.0104284157425 -0.00352467889106 0.494781769402\n",
      "5 -0.00991914945595 -0.00496656148771 0.332707519781\n",
      "5 -0.00931241920767 -0.00635450835509 0.188799676307\n",
      "5 -0.00861447513863 -0.00767484316823 0.0576839345087\n",
      "5 -0.00783245977597 -0.00891460502922 0.0646170099562\n",
      "5 -0.00697433508354 -0.0100616754218 0.181224373941\n",
      "5 -0.00604880153552 -0.0111048963937 0.294752471394\n",
      "5 -0.00506521003415 -0.0120341788163 0.407556600011\n",
      "5 -0.00403346756213 -0.0128405996751 0.521932974969\n",
      "5 -0.00296393752039 -0.013516487454 0.640308120089\n",
      "5 -0.00186733575253 -0.0140554948013 0.765451783687\n",
      "5 -0.000754623297969 -0.0144526577898 0.900755001027\n",
      "5 0.00036310305393 -0.0147044412237 1.0\n",
      "5 0.00147472131719 -0.014808769581 1.0\n",
      "5 0.00256919486953 -0.0147650433281 1.0\n",
      "5 0.00363568192182 -0.0145741404858 1.0\n",
      "5 0.00466364281183 -0.0142384034771 1.0\n",
      "5 0.00564294406138 -0.0137616114299 1.0\n",
      "5 0.00656395817081 -0.0131489382539 1.0\n",
      "5 0.0074176581686 -0.0124068969515 1.0\n",
      "5 0.00819570598874 -0.0115432707579 1.0\n",
      "5 0.00889053381155 -0.0105670318333 1.0\n",
      "5 0.00949541757523 -0.0094882483561 1.0\n",
      "5 0.0100045419451 -0.0083179809727 1.0\n",
      "5 0.0104130561137 -0.00706816966932 1.0\n",
      "5 0.0107171198979 -0.00575151221774 1.0\n",
      "5 0.0109139396945 -0.00438133543102 1.0\n",
      "5 0.0110017939621 -0.00297146053153 1.0\n",
      "5 0.0109800479952 -0.00153606398875 1.0\n",
      "5 0.0108491578696 -8.95352256783e-05 1.0\n",
      "5 0.0106106635422 0.00135366738061 0.773716158581\n",
      "5 0.0102671711968 0.00277916076561 0.573955227626\n",
      "5 0.00982232503453 0.00417278027419 0.403680046396\n",
      "5 0.00928076881288 0.00552072016639 0.254031783678\n",
      "5 0.0086480975352 0.00680967014076 0.118932269716\n",
      "5 0.00793079979374 0.00802694652773 0.00602508224245\n",
      "5 0.00713619135772 0.00916061686198 0.124222208237\n",
      "5 0.00627234068541 0.010199616613 0.238421934713\n",
      "5 0.00534798711709 0.011133856934 0.351045052908\n",
      "5 0.00437245257742 0.0119543223823 0.464382575469\n",
      "5 0.00335554767803 0.0126531576671 0.580784628652\n",
      "5 0.0023074731651 0.0132237425924 0.702859943338\n",
      "5 0.00123871770084 0.0136607544828 0.833723277499\n",
      "5 0.00015995300214 0.0139602175062 0.977344040988\n",
      "5 -0.000918072616283 0.0141195384402 1.0\n",
      "5 -0.00198464123324 0.0141375285639 1.0\n",
      "5 -0.00302917178292 0.0140144114979 1.0\n",
      "5 -0.00404132493064 0.0137518169529 1.0\n",
      "5 -0.00501110532397 0.0133527604907 1.0\n",
      "5 -0.00592896020891 0.0128216095375 1.0\n",
      "5 -0.00678587343895 0.0121640360277 1.0\n",
      "5 -0.00757345395289 0.0113869561868 1.0\n",
      "5 -0.00828401785383 0.0104984580902 1.0\n",
      "5 -0.00891066328746 0.00950771775325 1.0\n",
      "5 -0.00944733739071 0.00842490461945 1.0\n",
      "5 -0.00988889466224 0.0072610774198 1.0\n",
      "5 -0.0102311461929 0.00602807146525 1.0\n",
      "5 -0.0104708992861 0.00473837851984 1.0\n",
      "5 -0.0106059870943 0.00340502047092 1.0\n",
      "5 -0.0106352879986 0.00204141807201 1.0\n",
      "5 -0.0105587345596 0.000661256078969 1.0\n",
      "5 -0.0103773119726 -0.000721653867429 0.869960160644\n",
      "5 -0.010093046065 -0.00209351124086 0.656422861958\n",
      "5 -0.00970898097543 -0.00344066413407 0.476690951669\n",
      "5 -0.00922914675972 -0.00474974490084 0.320440415996\n",
      "5 -0.00865851726474 -0.00600780258972 0.180734819732\n",
      "5 -0.00800295871031 -0.00720243085951 0.0526476383338\n",
      "5 -0.00726916950848 -0.00832189011529 0.0675207864133\n",
      "5 -0.00646461193682 -0.00935522266455 0.182720666844\n",
      "5 -0.00559743636128 -0.0102923597659 0.29546781891\n",
      "5 -0.00467639877712 -0.0111242195266 0.408073951636\n",
      "5 -0.0037107725012 -0.0118427946994 0.522839686443\n",
      "5 -0.00271025490504 -0.0124412295316 0.6422456273\n",
      "5 -0.00168487012595 -0.0129138849309 0.769176190793\n",
      "5 -0.000644868731089 -0.0132563913329 0.907221542778\n",
      "5 0.000399374662013 -0.0134656887737 1.0\n",
      "5 0.00143746478689 -0.0135400538076 1.0\n",
      "5 0.00245908912187 -0.0134791130345 1.0\n",
      "5 0.00345412024862 -0.0132838431407 1.0\n",
      "5 0.00441271616025 -0.0129565574879 1.0\n",
      "5 0.00532541752641 -0.0125008794221 1.0\n",
      "5 0.00618324095499 -0.0119217026029 1.0\n",
      "5 0.0069777673315 -0.0112251387837 1.0\n",
      "5 0.00770122436849 -0.0104184535977 1.0\n",
      "5 0.00834656255623 -0.00950999102018 1.0\n",
      "5 0.00890752377318 -0.00850908729172 1.0\n",
      "5 0.00937870188949 -0.00742597518615 1.0\n",
      "5 0.00975559477719 -0.00627167960421 1.0\n",
      "5 0.0100346472278 -0.00505790555523 1.0\n",
      "5 0.0102132843692 -0.00379691966333 1.0\n",
      "5 0.0102899352686 -0.00250142639545 1.0\n",
      "5 0.0102640465074 -0.00118444025838 1.0\n",
      "5 0.0101360856128 0.000140844751762 0.972590112657\n",
      "5 0.00990753433278 0.00146118713978 0.742946092344\n",
      "5 0.00958087184154 0.002763430023 0.552274392943\n",
      "5 0.00915954806314 0.00403463204786 0.38842246901\n",
      "5 0.00864794739781 0.00526219581091 0.243401634052\n",
      "5 0.00805134323111 0.00643399251147 0.111654348121\n",
      "5 0.00737584369658 0.00753848160445 0.0109048116216\n",
      "5 0.00662832924856 0.0085648242748 0.127458399157\n",
      "5 0.00581638268211 0.00950298961945 0.240649999541\n",
      "5 0.00494821231082 0.0103438524985 0.35283921792\n",
      "5 0.00403256907978 0.011079282103 0.466303759744\n",
      "5 0.0030786584499 0.0117022203812 0.583426873994\n",
      "5 0.00209604793974 0.0122067495692 0.706903780406\n",
      "5 0.00109457125284 0.0125881481815 0.84000676794\n",
      "5 8.42299501465e-05 0.0128429349347 0.986968534726\n",
      "5 -0.000924906349869 0.012968900197 1.0\n",
      "5 -0.00192280024858 0.0129651246847 1.0\n",
      "5 -0.00289954632413 0.0128319852514 1.0\n",
      "5 -0.00384546937731 0.0125711477463 1.0\n",
      "5 -0.00475122019273 0.0121855470466 1.0\n",
      "5 -0.00560786786813 0.0116793544961 1.0\n",
      "5 -0.00640698780089 0.0110579331073 1.0\n",
      "5 -0.00714074446548 0.0103277810046 1.0\n",
      "5 -0.00780196816933 0.00949646370252 1.0\n",
      "5 -0.00838422503582 0.00857253592362 1.0\n",
      "5 -0.00888187953214 0.00756545375981 1.0\n",
      "5 -0.00929014893491 0.00648547807903 1.0\n"
     ]
    }
   ],
   "source": [
    "l = 5\n",
    "x = np.linspace(0.1,100,1000)\n",
    "for i in range(len(x)):\n",
    "    dif = abs(Jlup(x[i],l)-Jldown(x[i],l))/(abs(Jlup(x[i],l))+ abs(Jldown(x[i],l)))\n",
    "    print(l,Jlup(x[i],l), Jldown(x[i],l), dif)\n",
    "    "
   ]
  },
  {
   "cell_type": "markdown",
   "metadata": {},
   "source": [
    "e) Los errores en el cálculo dependen de los valores de $x$ expliqeu porqué"
   ]
  },
  {
   "cell_type": "raw",
   "metadata": {},
   "source": [
    "R= Como el valor de estas funciones depende de una división sobre x, esto puede generar errores de redondeo si el valor de sin(x)/x es muy pequeño."
   ]
  }
 ],
 "metadata": {
  "kernelspec": {
   "display_name": "Python 3",
   "language": "python",
   "name": "python3"
  },
  "language_info": {
   "codemirror_mode": {
    "name": "ipython",
    "version": 3
   },
   "file_extension": ".py",
   "mimetype": "text/x-python",
   "name": "python",
   "nbconvert_exporter": "python",
   "pygments_lexer": "ipython3",
   "version": "3.6.3"
  }
 },
 "nbformat": 4,
 "nbformat_minor": 2
}
