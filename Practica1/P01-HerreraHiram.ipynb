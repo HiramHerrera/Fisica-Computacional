{
 "cells": [
  {
   "cell_type": "markdown",
   "metadata": {},
   "source": [
    "# Física computacional"
   ]
  },
  {
   "cell_type": "markdown",
   "metadata": {},
   "source": [
    "## Práctica 1. Python para físicos"
   ]
  },
  {
   "cell_type": "markdown",
   "metadata": {},
   "source": [
    "En esta práctica haremos uso de las principales herramientas del lenguaje Python."
   ]
  },
  {
   "cell_type": "markdown",
   "metadata": {},
   "source": [
    "Procedimiento. Abra este archivo [Practi-01.ipynb] con Jupyter. Una vez que esté leyendo esto en Jupyter, realice los ejercicios  propuestos. "
   ]
  },
  {
   "cell_type": "markdown",
   "metadata": {},
   "source": [
    "## 1. Introducción"
   ]
  },
  {
   "cell_type": "markdown",
   "metadata": {},
   "source": [
    "Instrucciones básicas: Cada cuadro que aparece para editar, como éste:"
   ]
  },
  {
   "cell_type": "code",
   "execution_count": null,
   "metadata": {
    "collapsed": true
   },
   "outputs": [],
   "source": []
  },
  {
   "cell_type": "markdown",
   "metadata": {},
   "source": [
    "Es un cuadro que permite la introducción de código Python y para ejecutar solo tenemos que presionar 'shift + enter' (en las prácticas se va obviar pedir que se presionen estas teclas). La primera función de python que vamos a usar es"
   ]
  },
  {
   "cell_type": "raw",
   "metadata": {},
   "source": [
    "print(a)"
   ]
  },
  {
   "cell_type": "markdown",
   "metadata": {},
   "source": [
    "esta función imprime en pantalla en valor de la variable a. Usemosla: primero defina una variable llamada 'yo' cuyo contenido sea su nombre (recuerde que las cadenas en python se definen entre comillas Ej. \"cadena\")."
   ]
  },
  {
   "cell_type": "code",
   "execution_count": 1,
   "metadata": {
    "collapsed": true
   },
   "outputs": [],
   "source": [
    "yo = 'Hiram'"
   ]
  },
  {
   "cell_type": "markdown",
   "metadata": {},
   "source": [
    "Imprima el valor de la variable yo usando la función print."
   ]
  },
  {
   "cell_type": "code",
   "execution_count": 2,
   "metadata": {},
   "outputs": [
    {
     "name": "stdout",
     "output_type": "stream",
     "text": [
      "Hiram\n"
     ]
    }
   ],
   "source": [
    "print (yo)"
   ]
  },
  {
   "cell_type": "markdown",
   "metadata": {},
   "source": [
    "En python las variables son dinámicas, es decir no tienen un tipo definido. De esta manera podemos cambiarle el valor a la variable yo y ponerle por ejemplo un valor numérico. Asigne su edad en años a la variable yo."
   ]
  },
  {
   "cell_type": "code",
   "execution_count": 3,
   "metadata": {},
   "outputs": [],
   "source": [
    "yo = 22"
   ]
  },
  {
   "cell_type": "markdown",
   "metadata": {},
   "source": [
    "Existe tres tipos principales de variables que usamos en cálculos físicos, a saber enteros, flotantes y complejos. Defina una variable llamada entero con valor igual al año en que ingresó a la universidad; una variable llamada flotante con valor cercano a pi (con los decimales que se acuerde) y una variable llamada complejo cuya parte real sea el valor de la variable entero y la parte imaginaria el valor de flotante (para de denotar la parte imaginaria se pone j después del número) ."
   ]
  },
  {
   "cell_type": "code",
   "execution_count": 4,
   "metadata": {
    "collapsed": true
   },
   "outputs": [],
   "source": [
    "entero = 2014\n",
    "pi = 3.141592\n",
    "complejo = 3 + 7j"
   ]
  },
  {
   "cell_type": "markdown",
   "metadata": {},
   "source": [
    "Existen convertidores entre estos tipos de variable, estas funciones son: int, float y complex. Averigue con funcionan, preguntando aquí en jupyter, para esto use el simbolo ? después de la funcion."
   ]
  },
  {
   "cell_type": "raw",
   "metadata": {},
   "source": [
    "funcion?"
   ]
  },
  {
   "cell_type": "code",
   "execution_count": 5,
   "metadata": {
    "collapsed": true
   },
   "outputs": [],
   "source": [
    "int?"
   ]
  },
  {
   "cell_type": "code",
   "execution_count": 6,
   "metadata": {
    "collapsed": true
   },
   "outputs": [],
   "source": [
    "float?"
   ]
  },
  {
   "cell_type": "code",
   "execution_count": 7,
   "metadata": {
    "collapsed": true
   },
   "outputs": [],
   "source": [
    "complex?"
   ]
  },
  {
   "cell_type": "markdown",
   "metadata": {},
   "source": [
    "Operaciones Aritméticas:"
   ]
  },
  {
   "cell_type": "raw",
   "metadata": {},
   "source": [
    "  suma             x+y\n",
    "  resta            x-y\n",
    "  multiplicación   x*y\n",
    "  division         x/y\n",
    "  elevar x a la y  x**y"
   ]
  },
  {
   "cell_type": "markdown",
   "metadata": {},
   "source": [
    "Existen otras operaciones útiles:"
   ]
  },
  {
   "cell_type": "raw",
   "metadata": {},
   "source": [
    "  la parte entera de la division de y entre y    x//y\n",
    "  x modulo y (el resto de dividir x entre y)     x%y"
   ]
  },
  {
   "cell_type": "markdown",
   "metadata": {},
   "source": [
    "apliquemos las siguiente operaciones, considere un paralelepipedo de largo 5.3 ancho 4 y alto 10. Encuentre el area de la cara más pequeña."
   ]
  },
  {
   "cell_type": "code",
   "execution_count": 8,
   "metadata": {},
   "outputs": [],
   "source": [
    "largo = 5.3\n",
    "ancho = 4.\n",
    "alto = 10."
   ]
  },
  {
   "cell_type": "code",
   "execution_count": 9,
   "metadata": {},
   "outputs": [
    {
     "data": {
      "text/plain": [
       "21.2"
      ]
     },
     "execution_count": 9,
     "metadata": {},
     "output_type": "execute_result"
    }
   ],
   "source": [
    "ancho*largo"
   ]
  },
  {
   "cell_type": "raw",
   "metadata": {},
   "source": [
    "calcule el volumen del paralelepipedo y encuentre la diferencia entre este volumen y el de un cubo con lados igual a la dimensión más pequeña del paralelepipedo. "
   ]
  },
  {
   "cell_type": "code",
   "execution_count": 10,
   "metadata": {},
   "outputs": [
    {
     "name": "stdout",
     "output_type": "stream",
     "text": [
      "212.0\n",
      "148.0\n"
     ]
    }
   ],
   "source": [
    "volumen = ancho*largo*alto\n",
    "volcubo = ancho**3.\n",
    "dif = volumen - volcubo\n",
    "\n",
    "print(volumen)\n",
    "print(dif)"
   ]
  },
  {
   "cell_type": "markdown",
   "metadata": {},
   "source": [
    "Si se asigna el resultado de una operación a una variable esta tendrá el tipo más general de las variables involucradas en la operación. Ejemplifique lo anterior."
   ]
  },
  {
   "cell_type": "code",
   "execution_count": 11,
   "metadata": {},
   "outputs": [
    {
     "name": "stdout",
     "output_type": "stream",
     "text": [
      "12.8\n"
     ]
    }
   ],
   "source": [
    "entero = 4\n",
    "flotante = 3.2\n",
    "print entero*flotante"
   ]
  },
  {
   "cell_type": "markdown",
   "metadata": {},
   "source": [
    "¿Que hace la siguiente sentencia?:"
   ]
  },
  {
   "cell_type": "raw",
   "metadata": {},
   "source": [
    "x=x+1"
   ]
  },
  {
   "cell_type": "markdown",
   "metadata": {},
   "source": [
    "Averiguelo probando aquí:"
   ]
  },
  {
   "cell_type": "code",
   "execution_count": 12,
   "metadata": {},
   "outputs": [],
   "source": [
    "x=0\n",
    "x=x+1"
   ]
  },
  {
   "cell_type": "markdown",
   "metadata": {},
   "source": [
    "y escriba su conclusión aquí: Suma uno al valor de la variable x que teniamos anteriormente"
   ]
  },
  {
   "cell_type": "markdown",
   "metadata": {},
   "source": [
    " A continuación mostraremos algunos modificadores, después de mostrarlos usted debe encontrar su función experimentado y después  escribir su conclusión en la celda de escritura."
   ]
  },
  {
   "cell_type": "raw",
   "metadata": {},
   "source": [
    "El modificador +=   ejemplo:    x += 1"
   ]
  },
  {
   "cell_type": "code",
   "execution_count": 13,
   "metadata": {},
   "outputs": [
    {
     "name": "stdout",
     "output_type": "stream",
     "text": [
      "2\n",
      "5\n"
     ]
    }
   ],
   "source": [
    "x+=1\n",
    "print x\n",
    "\n",
    "x+=3\n",
    "print x"
   ]
  },
  {
   "cell_type": "markdown",
   "metadata": {},
   "source": [
    "Sirve para:"
   ]
  },
  {
   "cell_type": "markdown",
   "metadata": {},
   "source": [
    "Sirve para sumar el valor que quieras a la variable x, por ejemplo si usamos x+=1, se suma uno a la variable, s escribimos x+=5 se suma cinco, etc. "
   ]
  },
  {
   "cell_type": "raw",
   "metadata": {},
   "source": [
    "El modificador -=   ejemplo:    x += 3"
   ]
  },
  {
   "cell_type": "code",
   "execution_count": 14,
   "metadata": {},
   "outputs": [
    {
     "name": "stdout",
     "output_type": "stream",
     "text": [
      "3\n",
      "2\n"
     ]
    }
   ],
   "source": [
    "x-=2\n",
    "print x\n",
    "x-=1\n",
    "print x"
   ]
  },
  {
   "cell_type": "markdown",
   "metadata": {},
   "source": [
    "Resta a la variable x el valor que indiquemos"
   ]
  },
  {
   "cell_type": "raw",
   "metadata": {},
   "source": [
    "El modificador *=   ejemplo:    x *= 3.1416"
   ]
  },
  {
   "cell_type": "code",
   "execution_count": 15,
   "metadata": {},
   "outputs": [
    {
     "name": "stdout",
     "output_type": "stream",
     "text": [
      "-20\n",
      "-62.0\n"
     ]
    }
   ],
   "source": [
    "x *= -10\n",
    "print x\n",
    "x *= 3.10\n",
    "print x"
   ]
  },
  {
   "cell_type": "markdown",
   "metadata": {},
   "source": [
    "Multiplica la variable x por el valor indicado después del *="
   ]
  },
  {
   "cell_type": "raw",
   "metadata": {},
   "source": [
    "El modificador /=   ejemplo:    x /= 2"
   ]
  },
  {
   "cell_type": "code",
   "execution_count": 16,
   "metadata": {},
   "outputs": [
    {
     "name": "stdout",
     "output_type": "stream",
     "text": [
      "-13.7777777778\n"
     ]
    }
   ],
   "source": [
    "x /= 4.5\n",
    "print x"
   ]
  },
  {
   "cell_type": "markdown",
   "metadata": {},
   "source": [
    "Divide la variable x entre el número indicado"
   ]
  },
  {
   "cell_type": "raw",
   "metadata": {},
   "source": [
    "El modificador //=   ejemplo:    x /= 3.4"
   ]
  },
  {
   "cell_type": "code",
   "execution_count": 17,
   "metadata": {},
   "outputs": [
    {
     "name": "stdout",
     "output_type": "stream",
     "text": [
      "-5.0\n"
     ]
    }
   ],
   "source": [
    "x//=3\n",
    "print x"
   ]
  },
  {
   "cell_type": "markdown",
   "metadata": {},
   "source": [
    "Nos da el valor entero de la división de la variable x entre el número que se asigne"
   ]
  },
  {
   "cell_type": "markdown",
   "metadata": {},
   "source": [
    "Averigue que hace la siguiente sentencia   x,y =y,x"
   ]
  },
  {
   "cell_type": "code",
   "execution_count": 18,
   "metadata": {},
   "outputs": [
    {
     "name": "stdout",
     "output_type": "stream",
     "text": [
      "4 3\n"
     ]
    }
   ],
   "source": [
    "x = 3\n",
    "y = 4\n",
    "x,y=y,x\n",
    "\n",
    "print x,y"
   ]
  },
  {
   "cell_type": "markdown",
   "metadata": {},
   "source": [
    "Intercambia los valores de x e y"
   ]
  },
  {
   "cell_type": "markdown",
   "metadata": {},
   "source": [
    "Para preguntar al usuario un valor se puede usar la función input, se usa así"
   ]
  },
  {
   "cell_type": "raw",
   "metadata": {},
   "source": [
    "edad = input(\"¿qué edad tienes? \")"
   ]
  },
  {
   "cell_type": "markdown",
   "metadata": {},
   "source": [
    "#### Pelota lanzada desde una torre."
   ]
  },
  {
   "cell_type": "markdown",
   "metadata": {},
   "source": [
    "Considere una pelota lanzada desde una torre de altura $h$. Tiene velocidad inicial cero y se acelera hacia abajo debido a la gravedad (que tomamos como $g=9.81$ $ms^-1$). Ignorando la fricción del aire, encuentre la altura de la pelota a un tiempo $t$."
   ]
  },
  {
   "cell_type": "markdown",
   "metadata": {},
   "source": [
    "Para solucionar este problema escribiremos un programa que pida al usuario la altura del edificio y el tiempo al que quiere saber la altura de la pelota e imprima al altura de la pelota a ese tiempo"
   ]
  },
  {
   "cell_type": "raw",
   "metadata": {},
   "source": [
    "Nota: print puede imprimir composiciones de cadenas y variables, por ejemplo print(\"mi edad es \",edad)."
   ]
  },
  {
   "cell_type": "code",
   "execution_count": 19,
   "metadata": {
    "collapsed": true
   },
   "outputs": [],
   "source": [
    "def caida():\n",
    "    g = 9.81\n",
    "    h = input('Altura:')\n",
    "    t = input('Tiempo:')\n",
    "    y = h-0.5*g*t**2.\n",
    "    return y\n",
    "    \n"
   ]
  },
  {
   "cell_type": "markdown",
   "metadata": {},
   "source": [
    "Usando su código anterior, encuentre la altura de una pelota que es lanza desde 100 metros a t=1 s. Escriba su resultado."
   ]
  },
  {
   "cell_type": "code",
   "execution_count": 20,
   "metadata": {},
   "outputs": [
    {
     "name": "stdout",
     "output_type": "stream",
     "text": [
      "Altura:100\n",
      "Tiempo:1\n"
     ]
    },
    {
     "data": {
      "text/plain": [
       "95.095"
      ]
     },
     "execution_count": 20,
     "metadata": {},
     "output_type": "execute_result"
    }
   ],
   "source": [
    "caida()"
   ]
  },
  {
   "cell_type": "markdown",
   "metadata": {},
   "source": [
    "Usando su código anterior, encuentre la altura de una pelota que es lanza desde 100 metros a t=5 s. Escriba su resultado."
   ]
  },
  {
   "cell_type": "code",
   "execution_count": 21,
   "metadata": {},
   "outputs": [
    {
     "name": "stdout",
     "output_type": "stream",
     "text": [
      "Altura:100\n",
      "Tiempo:5\n"
     ]
    },
    {
     "data": {
      "text/plain": [
       "-22.625"
      ]
     },
     "execution_count": 21,
     "metadata": {},
     "output_type": "execute_result"
    }
   ],
   "source": [
    "caida()"
   ]
  },
  {
   "cell_type": "markdown",
   "metadata": {},
   "source": [
    "Explique su resultado."
   ]
  },
  {
   "cell_type": "markdown",
   "metadata": {},
   "source": [
    "En el primer resultado vemos que la pelota cayó aproximadamente 5 metros en el tiempo transcurrido, en el segundo ejemplo tenemos un valor negativo, ésto nos indica que el tiempo que utilizamos es mayor al tiempo de caida de la pelota."
   ]
  },
  {
   "cell_type": "markdown",
   "metadata": {},
   "source": [
    "Para arreglar su programa vamos a usar el condicional if. Este funciona de la siguiente manera:"
   ]
  },
  {
   "cell_type": "raw",
   "metadata": {},
   "source": [
    "if expresion1:\n",
    "   codigo\n",
    "elif expresion2:\n",
    "   codigo\n",
    "elif expresion3:\n",
    "   codigo\n",
    "else:\n",
    "   codigo"
   ]
  },
  {
   "cell_type": "code",
   "execution_count": 22,
   "metadata": {},
   "outputs": [],
   "source": [
    "def caida():\n",
    "    g = 9.81\n",
    "    h = input('Altura:')\n",
    "    t = input('Tiempo:')\n",
    "    y = h-0.5*g*t**2.\n",
    "    if y<0:\n",
    "        y=0\n",
    "        print 'El tiempo utilizado es mayor que el tiempo de caida'\n",
    "    return y"
   ]
  },
  {
   "cell_type": "markdown",
   "metadata": {},
   "source": [
    "donde expresion refiere a una condición, para estas generalmente se usan los siguientes operadores ==, <, > <=, >=, !="
   ]
  },
  {
   "cell_type": "markdown",
   "metadata": {},
   "source": [
    "Note que en python no necesitamos decir dónde termina el codigo para cada condicional, esto se especifica con la identación. Usando el condicional if reescriba su programa para la caída de la pelota para que no arroje números negativos e informe al usuario."
   ]
  },
  {
   "cell_type": "markdown",
   "metadata": {},
   "source": [
    "#### Ciclos en Python"
   ]
  },
  {
   "cell_type": "markdown",
   "metadata": {},
   "source": [
    "En python hay solo dos tipos de loops o ciclos y son los ciclos while y los ciclos for. El primero es:"
   ]
  },
  {
   "cell_type": "raw",
   "metadata": {},
   "source": [
    "while condicion:\n",
    "    bloque de código"
   ]
  },
  {
   "cell_type": "markdown",
   "metadata": {},
   "source": [
    "El bloque de código se ejecutará mientras se cumpla la condición (mientras sea verdadera). Escriba un codigo que sume todos los numeros pares del 1 al 500 y que imprima el resultado."
   ]
  },
  {
   "cell_type": "code",
   "execution_count": 23,
   "metadata": {},
   "outputs": [
    {
     "name": "stdout",
     "output_type": "stream",
     "text": [
      "62750\n"
     ]
    }
   ],
   "source": [
    "x = 0\n",
    "for i in range(1,501):\n",
    "    if i%2==0:\n",
    "        x+=i\n",
    "\n",
    "print x\n",
    "    \n",
    "    "
   ]
  },
  {
   "cell_type": "markdown",
   "metadata": {},
   "source": [
    "El otro tipo de ciclo es el que ofrece for. Este tipo de ciclos es muy versatil, se basa en las listas (un tipo de variable en python) y funciona así:"
   ]
  },
  {
   "cell_type": "raw",
   "metadata": {},
   "source": [
    "for variable in lista:\n",
    "    bloque de código"
   ]
  },
  {
   "cell_type": "markdown",
   "metadata": {},
   "source": [
    "El bloque de código se ejecutará mientras no acabe de recorrer la lista. El valor de variable será el item de la lista que está siendo tratado en el momento. Ejemplo:"
   ]
  },
  {
   "cell_type": "raw",
   "metadata": {},
   "source": [
    "for i in range(-9, 10):\n",
    "    print i"
   ]
  },
  {
   "cell_type": "markdown",
   "metadata": {},
   "source": [
    "la función range retorna una lista de números según los parámetros de entrada: En este caso, range está generando una lista que va desde -9 hasta 9 (un número antes del segundo parámetro). La lista de números generada por range se representa así: [-9, -8, -7, -6, -5, -4, -3, -2, -1, 0, 1, 2, 3, 4, 5, 6, 7, 8, 9] El código de ejemplo imprimirá los números del -9 al 9."
   ]
  },
  {
   "cell_type": "code",
   "execution_count": 24,
   "metadata": {},
   "outputs": [
    {
     "name": "stdout",
     "output_type": "stream",
     "text": [
      "-9\n",
      "-8\n",
      "-7\n",
      "-6\n",
      "-5\n",
      "-4\n",
      "-3\n",
      "-2\n",
      "-1\n",
      "0\n",
      "1\n",
      "2\n",
      "3\n",
      "4\n",
      "5\n",
      "6\n",
      "7\n",
      "8\n",
      "9\n"
     ]
    }
   ],
   "source": [
    "for i in range(-9, 10):\n",
    "    print i"
   ]
  },
  {
   "cell_type": "markdown",
   "metadata": {},
   "source": [
    "#### Ejercicios"
   ]
  },
  {
   "cell_type": "markdown",
   "metadata": {},
   "source": [
    "1.- Considera una pelota lanzada desde una torre de altura $h$ y con velocidad inicial cero. Escriba un programa que pregunte al usuario la altura de la torre y diga el tiempo que tardará en caer la pelota."
   ]
  },
  {
   "cell_type": "code",
   "execution_count": 25,
   "metadata": {
    "collapsed": true
   },
   "outputs": [],
   "source": [
    "def tiempo():\n",
    "    g = 9.81\n",
    "    h = input('Altura:')\n",
    "    t = (2.*h/g)**(0.5)\n",
    "    return t"
   ]
  },
  {
   "cell_type": "markdown",
   "metadata": {},
   "source": [
    "2.- Se lanzará un satelite para que realice una órbita circular alrededor de la tierra de manera tal que su periodo es de $T$ segundos.\n",
    "- Encuentre una expresión para la altura a la cual debe estar el satelite. Considere $G=6.67\\times 10^{-11}$ $m^{3}kg^{-1}s^{-2}$, la masa dela tierra $M=5.07\\times 10^{24}$ $Kg$  y $R=6371$ $Km$ su radio. Escriba su resultado aquí, puede usar codigo latex (usando el marcador \\$)"
   ]
  },
  {
   "cell_type": "markdown",
   "metadata": {},
   "source": [
    "De la tercera ley de Kepler $h = \\sqrt[3]{\\frac{G}{4\\pi^2}MT^2}$, con respecto al centro de la Tierra, para el resultado con respecto a la superficie sería $h = \\sqrt[3]{\\frac{G}{4\\pi^2}MT^2}-R$\n"
   ]
  },
  {
   "cell_type": "markdown",
   "metadata": {},
   "source": [
    "- Escriba un programa que pregunte al usuario el valor deseado de $T$ y calcule e imprima la altura correcta en metros."
   ]
  },
  {
   "cell_type": "code",
   "execution_count": 26,
   "metadata": {
    "collapsed": true
   },
   "outputs": [],
   "source": [
    "import numpy as np\n",
    "def altura():\n",
    "    G = 6.67E-11\n",
    "    M = 5.07E24\n",
    "    R = 6371000. #en metros\n",
    "    T = input('Periodo:')\n",
    "    h = (G*M*T**2./(4*np.pi**2.))**(1./3.)-R\n",
    "    return h"
   ]
  },
  {
   "cell_type": "markdown",
   "metadata": {},
   "source": [
    "- Use su programa para calcular la altura de las órbitas geosincronas aquellas que realizan una vuelta en un día. "
   ]
  },
  {
   "cell_type": "code",
   "execution_count": 27,
   "metadata": {},
   "outputs": [
    {
     "name": "stdout",
     "output_type": "stream",
     "text": [
      "Periodo:86400\n"
     ]
    },
    {
     "data": {
      "text/plain": [
       "33617383.38027233"
      ]
     },
     "execution_count": 27,
     "metadata": {},
     "output_type": "execute_result"
    }
   ],
   "source": [
    "altura()"
   ]
  },
  {
   "cell_type": "markdown",
   "metadata": {},
   "source": [
    "- Use su programa para calcular la altura de una órbita de 90 minutos y una de 45 minutos. ¿Qué concluye de estos resultados? "
   ]
  },
  {
   "cell_type": "code",
   "execution_count": 28,
   "metadata": {},
   "outputs": [
    {
     "name": "stdout",
     "output_type": "stream",
     "text": [
      "Periodo:5400\n"
     ]
    },
    {
     "data": {
      "text/plain": [
       "-73224.25349107385"
      ]
     },
     "execution_count": 28,
     "metadata": {},
     "output_type": "execute_result"
    }
   ],
   "source": [
    "altura()"
   ]
  },
  {
   "cell_type": "code",
   "execution_count": 29,
   "metadata": {},
   "outputs": [
    {
     "name": "stdout",
     "output_type": "stream",
     "text": [
      "Periodo:2700\n"
     ]
    },
    {
     "data": {
      "text/plain": [
       "-2403649.8847280024"
      ]
     },
     "execution_count": 29,
     "metadata": {},
     "output_type": "execute_result"
    }
   ],
   "source": [
    "altura()"
   ]
  },
  {
   "cell_type": "markdown",
   "metadata": {},
   "source": [
    "Para los periodos de 90 y 45 minutos obtuvimos una altura negativa con respecto de la superficie Terrestre, nos indica que para que estos satelites pudieran orbitar con tal periodo tendrían que estar dentro de la Tierra lo cual no es posible pues caerían al piso por la aceleración de la gravedad."
   ]
  },
  {
   "cell_type": "markdown",
   "metadata": {},
   "source": [
    "- si es necesario usando condicionales para reescribir su programa."
   ]
  },
  {
   "cell_type": "code",
   "execution_count": 30,
   "metadata": {
    "collapsed": true
   },
   "outputs": [],
   "source": [
    "def altura():\n",
    "    G = 6.67E-11\n",
    "    M = 5.07E24\n",
    "    R = 6371000. #en metros\n",
    "    T = input('Periodo:')\n",
    "    h = (G*M*T**2./(4*np.pi**2.))**(1./3.)-R\n",
    "    if h<0:\n",
    "        print 'No es posible una orbita para este periodo'   \n",
    "    return h"
   ]
  },
  {
   "cell_type": "markdown",
   "metadata": {},
   "source": [
    "- Técnicamente un satelite geosíncrono es aquel que orbita la tierra una vez cada día sideral, que es 23.93 horas, no cada 24. ¿Porqué es esto? y ¿Qué diferencia daría esto en altitud?"
   ]
  },
  {
   "cell_type": "code",
   "execution_count": 31,
   "metadata": {},
   "outputs": [
    {
     "name": "stdout",
     "output_type": "stream",
     "text": [
      "Periodo:86400\n",
      "Periodo:23.93*60*60\n"
     ]
    }
   ],
   "source": [
    "sideral = altura()\n",
    "dia24 = altura()"
   ]
  },
  {
   "cell_type": "code",
   "execution_count": 32,
   "metadata": {},
   "outputs": [
    {
     "data": {
      "text/plain": [
       "77793.03664834797"
      ]
     },
     "execution_count": 32,
     "metadata": {},
     "output_type": "execute_result"
    }
   ],
   "source": [
    "abs(sideral - dia24)"
   ]
  },
  {
   "cell_type": "markdown",
   "metadata": {},
   "source": [
    "La diferencia entre el día sideral con el día trópico, se debe al movimiento de traslación de la Tierra en su orbita con el Sol. Pues un día sideral es el tiempo que dar una vuelta sobre su propio eje independientemente de la posición del Sol en el cielo, mientras que el día solar se define cuando el Sol vuelve a un mismo punto aparente en el cielo después de un día, pero durante este día la Tierra adelanto un segmento de su órbita causando que el Sol este desplazado si consideraramos el día sideral, la diferencia es de aproximadamente 4 minutos.\n"
   ]
  },
  {
   "cell_type": "markdown",
   "metadata": {},
   "source": [
    "3.- Usando ciclos aproxime el valor de $\\sqrt{3}$, usando la evaluación iterativa de la siguiente expresión $x=(x+3/x)/2$ iniciando con x=1. El código debe imprimir el valor en cada iteración. "
   ]
  },
  {
   "cell_type": "code",
   "execution_count": 33,
   "metadata": {},
   "outputs": [
    {
     "name": "stdout",
     "output_type": "stream",
     "text": [
      "2.0\n",
      "1.75\n",
      "1.73214285714\n",
      "1.73205081001\n",
      "1.73205080757\n",
      "1.73205080757\n",
      "1.73205080757\n",
      "1.73205080757\n",
      "1.73205080757\n",
      "1.73205080757\n"
     ]
    }
   ],
   "source": [
    "x=1.\n",
    "for i in range(1,11):\n",
    "    x = (x+3./x)/2.\n",
    "    print x"
   ]
  },
  {
   "cell_type": "markdown",
   "metadata": {},
   "source": [
    "## 2.- Paquetes y modulos para matemáticas y matrices"
   ]
  },
  {
   "cell_type": "markdown",
   "metadata": {},
   "source": [
    "Existen operaciones además de las aritméticas que vamos a necesitar en nuestras simulaciones, estas no están definidas defacto en python, sin embargo podemos usarlas si tan solo la importarmos del paquete y modulo apropiado. Por ejemplo supongamos que queremos calcular el error de nuestro cálculo de $\\sqrt{3}$ en el ejercicio anterior. Entonces tendríamos que comparar nuestra aproximación con el cálculo de función intrínseca. "
   ]
  },
  {
   "cell_type": "markdown",
   "metadata": {},
   "source": [
    "Para usar la función para sacar raiz primero la importamos así"
   ]
  },
  {
   "cell_type": "raw",
   "metadata": {},
   "source": [
    "from math import sqrt"
   ]
  },
  {
   "cell_type": "markdown",
   "metadata": {},
   "source": [
    "Modifique el ejercicio anterior para que imprima el error en cada iteracción con respecto a la función intrínseca de python."
   ]
  },
  {
   "cell_type": "code",
   "execution_count": 34,
   "metadata": {},
   "outputs": [
    {
     "name": "stdout",
     "output_type": "stream",
     "text": [
      "2.0 0.154700538379\n",
      "1.75 0.0103629710818\n",
      "1.73214285714 5.31448463162e-05\n",
      "1.73205081001 1.41211226504e-09\n",
      "1.73205080757 0.0\n",
      "1.73205080757 0.0\n",
      "1.73205080757 0.0\n",
      "1.73205080757 0.0\n",
      "1.73205080757 0.0\n",
      "1.73205080757 0.0\n"
     ]
    }
   ],
   "source": [
    "from math import sqrt\n",
    "x=1.\n",
    "for i in range(1,11):\n",
    "    x = (x+3./x)/2.\n",
    "    print x,abs((x-sqrt(3))/sqrt(3))\n",
    "\n"
   ]
  },
  {
   "cell_type": "markdown",
   "metadata": {},
   "source": [
    "El paquete math contiene la mayoría de las funciones básicas incluyendo: log, log10, exp, sin, cos, tan, atan, acos, atan. sinh, cosh, tanh, sqrt, etc. Si quiere verlas todas, visite la siguiente dirección __(https://docs.python.org/2/library/math.html)__ . si se quiere importar todas las funciones de un modulo se usa la siguiente expresión."
   ]
  },
  {
   "cell_type": "raw",
   "metadata": {},
   "source": [
    "from math import *"
   ]
  },
  {
   "cell_type": "markdown",
   "metadata": {},
   "source": [
    "Usemos estas funciones: Escriba un código que pregunte al usuario las coordenadas cartesianas $(x,y)$ y que arroje su representación en polares $(r,\\theta)$. "
   ]
  },
  {
   "cell_type": "code",
   "execution_count": 35,
   "metadata": {},
   "outputs": [],
   "source": [
    "from math import *\n",
    "def polar():\n",
    "    x = input('Coordenada X:')\n",
    "    y = input('Coordenada Y:')\n",
    "    r = sqrt(x**2.+y**2.)\n",
    "    if x>0 and y>=0:\n",
    "        theta = atan(1.*y/x)\n",
    "    elif x==0 and y>=0:\n",
    "        theta = pi/2\n",
    "    elif x<0:\n",
    "        theta = atan(1.*y/x) + pi\n",
    "    elif x==0 and y <0:\n",
    "        theta = 3.*pi/2.\n",
    "    elif x>0 and y<0:\n",
    "        theta = atan(1.*y/x)+2.*pi\n",
    "    print 'la representacion polar es:(%f,%f)'%(r,theta)\n",
    "    "
   ]
  },
  {
   "cell_type": "code",
   "execution_count": 36,
   "metadata": {},
   "outputs": [
    {
     "name": "stdout",
     "output_type": "stream",
     "text": [
      "Coordenada X:4.5\n",
      "Coordenada Y:6.1\n",
      "la representacion polar es:(7.580237,0.935211)\n"
     ]
    }
   ],
   "source": [
    "polar()"
   ]
  },
  {
   "cell_type": "markdown",
   "metadata": {},
   "source": [
    "Escriba un código que hago la transformación inversa: pregunte al usuario la representación en polares $(r,\\theta)$ y arroje las coordenadas cartesianas $(x,y)$. "
   ]
  },
  {
   "cell_type": "code",
   "execution_count": 37,
   "metadata": {
    "collapsed": true
   },
   "outputs": [],
   "source": [
    "from math import *\n",
    "def cartesiana():\n",
    "    r = input('Coordenada r:')\n",
    "    theta = input('Coordenada theta (radianes):')\n",
    "    x = r*cos(theta)\n",
    "    y = r*sin(theta)\n",
    "    print 'la representacion cartesiana es:(%f,%f)'%(x,y)"
   ]
  },
  {
   "cell_type": "code",
   "execution_count": 38,
   "metadata": {},
   "outputs": [
    {
     "name": "stdout",
     "output_type": "stream",
     "text": [
      "Coordenada r:7.580237\n",
      "Coordenada theta (radianes):0.935211\n",
      "la representacion cartesiana es:(4.499997,6.100001)\n"
     ]
    }
   ],
   "source": [
    "cartesiana()"
   ]
  },
  {
   "cell_type": "markdown",
   "metadata": {},
   "source": [
    "### Matrices"
   ]
  },
  {
   "cell_type": "markdown",
   "metadata": {},
   "source": [
    "Las matrices las vamos a tratar usando el paquete numpy (numerical python), de maner ageneral existe dos maneras de importar funciones, por ejemplo si queremos usar la función array, podemos hacer dos cosas:"
   ]
  },
  {
   "cell_type": "raw",
   "metadata": {},
   "source": [
    "import numpy as np\n",
    "np.array([[1.],[2.],[3.]])"
   ]
  },
  {
   "cell_type": "markdown",
   "metadata": {},
   "source": [
    "O bien"
   ]
  },
  {
   "cell_type": "raw",
   "metadata": {},
   "source": [
    "from numpy import array\n",
    "array([[1.],[2.],[3.]])"
   ]
  },
  {
   "cell_type": "markdown",
   "metadata": {},
   "source": [
    "Usando array defina un vector columna $Vc$ de dimensión 4, un vector renglon $Vr$ de dimension 5 y una matrix $A$ de 3x3 con valores cualesquiera."
   ]
  },
  {
   "cell_type": "code",
   "execution_count": 39,
   "metadata": {},
   "outputs": [],
   "source": [
    "import numpy as np\n",
    "Vc = np.array([[1.],[2.],[3.],[4.]])\n",
    "Vr = np.array([[1.,2.,3.,4.,5.]])\n",
    "A = np.array([[1.,2.,3.],[4.,5.,6.],[7.,8.,9.]])"
   ]
  },
  {
   "cell_type": "markdown",
   "metadata": {},
   "source": [
    "Defina otra matriz de 3x3 B, y aplique las funciones aritméticas básicas con la matriz A."
   ]
  },
  {
   "cell_type": "code",
   "execution_count": 40,
   "metadata": {},
   "outputs": [
    {
     "name": "stdout",
     "output_type": "stream",
     "text": [
      "[[  5.   5.   4.]\n",
      " [ 11.  14.   9.]\n",
      " [ 12.  12.  11.]]\n",
      "[[-3. -1.  2.]\n",
      " [-3. -4.  3.]\n",
      " [ 2.  4.  7.]]\n",
      "[[  4.   6.   3.]\n",
      " [ 28.  45.  18.]\n",
      " [ 35.  32.  18.]]\n",
      "[[ 0.25        0.66666667  3.        ]\n",
      " [ 0.57142857  0.55555556  2.        ]\n",
      " [ 1.4         2.          4.5       ]]\n"
     ]
    }
   ],
   "source": [
    "B = np.array([[4.,3.,1.],[7.,9.,3.],[5.,4.,2.]])\n",
    "\n",
    "print A+B\n",
    "print A-B\n",
    "print A*B\n",
    "print A/B"
   ]
  },
  {
   "cell_type": "markdown",
   "metadata": {},
   "source": [
    "¿Cómo se accesa a los valores de la matriz? supongamos que se quiere extraer el elemento 1,3 de A ¿Cómo se hace? Averigue y reporte sus resultados\n"
   ]
  },
  {
   "cell_type": "markdown",
   "metadata": {},
   "source": [
    "Para buscar el elemento que se quiere de una matriz se escribe el nombre de la matriz y las coordenadas quje se desean, es decir A[i,j], siendo i el renglon y j la columna, es importante saber que i y j deben ir de 0 a N-1 con N-1 el rango de la matriz"
   ]
  },
  {
   "cell_type": "code",
   "execution_count": 41,
   "metadata": {},
   "outputs": [
    {
     "name": "stdout",
     "output_type": "stream",
     "text": [
      "6.0\n",
      "1.0\n",
      "9.0\n"
     ]
    }
   ],
   "source": [
    "print A[1,2]\n",
    "print A[0,0]\n",
    "print A[2,2]"
   ]
  },
  {
   "cell_type": "markdown",
   "metadata": {},
   "source": [
    "IMPORTANTE: (1) seguro ya notó que la numeración de los arreglos va de 0 a N-1, con N-1 el rango de la matriz. (2) cuando se usa la siguiente sentencia Matriz_A=MatrizB python no crea dos variables si no que la matriz_A se vuelve una referencia de matriz_B, esto se puede cambiar haciendo por ejemplo matriz_A=1.\\*matriz_B o bien con la función copy."
   ]
  }
 ],
 "metadata": {
  "kernelspec": {
   "display_name": "Python 2",
   "language": "python",
   "name": "python2"
  },
  "language_info": {
   "codemirror_mode": {
    "name": "ipython",
    "version": 2
   },
   "file_extension": ".py",
   "mimetype": "text/x-python",
   "name": "python",
   "nbconvert_exporter": "python",
   "pygments_lexer": "ipython2",
   "version": "2.7.14"
  }
 },
 "nbformat": 4,
 "nbformat_minor": 2
}
